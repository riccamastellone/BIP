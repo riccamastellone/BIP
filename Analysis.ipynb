{
 "cells": [
  {
   "cell_type": "code",
   "execution_count": 1,
   "metadata": {
    "collapsed": true
   },
   "outputs": [],
   "source": [
    "import pandas as pd"
   ]
  },
  {
   "cell_type": "code",
   "execution_count": 2,
   "metadata": {
    "collapsed": false
   },
   "outputs": [],
   "source": [
    "import matplotlib\n",
    "import numpy as np\n",
    "import matplotlib.pyplot as plt\n",
    "%matplotlib inline  \n",
    "from collections import namedtuple"
   ]
  },
  {
   "cell_type": "code",
   "execution_count": 3,
   "metadata": {
    "collapsed": true
   },
   "outputs": [],
   "source": [
    "train_df = pd.read_csv(\"dataset/output/dataset_polimi_extended.csv\")"
   ]
  },
  {
   "cell_type": "code",
   "execution_count": 4,
   "metadata": {
    "collapsed": true
   },
   "outputs": [],
   "source": [
    "selection = namedtuple(\"selection\", (\"conditions\", \"selected_columns\", \"group\"))"
   ]
  },
  {
   "cell_type": "markdown",
   "metadata": {},
   "source": [
    "# Plotting\n",
    "\n",
    "If you have modified something or added some panels click \"Cell > Run all below\" from this cell"
   ]
  },
  {
   "cell_type": "code",
   "execution_count": 16,
   "metadata": {
    "collapsed": true
   },
   "outputs": [],
   "source": [
    "selections = []"
   ]
  },
  {
   "cell_type": "code",
   "execution_count": 17,
   "metadata": {
    "collapsed": false
   },
   "outputs": [],
   "source": [
    "# COPY ONE OF THIS PANEL TO ADD A LINE\n",
    "# modify the conditions but be careful: to be compared two lines must have the same x (e.g: \"zona\")\n",
    "selections.append(\n",
    "    selection(\n",
    "    conditions=( (train_df['giorno_della_settimana'] == 1) & \n",
    "                (train_df['categoria'] == 2)) # add your condition with \"& <condition>\"\n",
    "    ,selected_columns = ['zona','vendite'] # select the columns you are interested in\n",
    "    ,group = ['zona'] # select the group for which you want the mean\n",
    "    ))"
   ]
  },
  {
   "cell_type": "code",
   "execution_count": 18,
   "metadata": {
    "collapsed": true
   },
   "outputs": [],
   "source": [
    "# COPY ONE OF THIS PANEL TO ADD A LINE\n",
    "# modify the conditions but be careful: to be compared two lines must have the same x (e.g: \"zona\")\n",
    "selections.append(\n",
    "    selection(\n",
    "    conditions=( (train_df['giorno_della_settimana'] == 1) & \n",
    "                (train_df['categoria'] == 2)) # add your condition with \"& <condition>\"\n",
    "    ,selected_columns = ['zona','vendite'] # select the columns you are interested in\n",
    "    ,group = ['zona'] # select the group for which you want the mean\n",
    "    ))"
   ]
  },
  {
   "cell_type": "code",
   "execution_count": 19,
   "metadata": {
    "collapsed": false
   },
   "outputs": [],
   "source": [
    "selected_dfs = [train_df[sel.conditions][sel.selected_columns].groupby(sel.group).mean()\n",
    "               for sel in selections]\n",
    "selected_couples = [(df.index.values, df['vendite']) for df in selected_dfs]\n",
    "plot_list = [element for tupl in selected_couples for element in tupl]"
   ]
  },
  {
   "cell_type": "code",
   "execution_count": 20,
   "metadata": {
    "collapsed": false
   },
   "outputs": [
    {
     "data": {
      "image/png": "[encoded data removed]",
      "text/plain": [
       "<matplotlib.figure.Figure at 0x7fc1442d21d0>"
      ]
     },
     "metadata": {},
     "output_type": "display_data"
    }
   ],
   "source": [
    "plt.plot(*plot_list)\n",
    "plt.show()"
   ]
  },
  {
   "cell_type": "code",
   "execution_count": null,
   "metadata": {
    "collapsed": false
   },
   "outputs": [],
   "source": []
  }
 ],
 "metadata": {
  "kernelspec": {
   "display_name": "Python 3",
   "language": "python",
   "name": "python3"
  },
  "language_info": {
   "codemirror_mode": {
    "name": "ipython",
    "version": 3
   },
   "file_extension": ".py",
   "mimetype": "text/x-python",
   "name": "python",
   "nbconvert_exporter": "python",
   "pygments_lexer": "ipython3",
   "version": "3.5.1"
  }
 },
 "nbformat": 4,
 "nbformat_minor": 0
}
