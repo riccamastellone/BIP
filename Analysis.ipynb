{
 "cells": [
  {
   "cell_type": "code",
   "execution_count": 1,
   "metadata": {
    "collapsed": true
   },
   "outputs": [],
   "source": [
    "import pandas as pd"
   ]
  },
  {
   "cell_type": "code",
   "execution_count": 2,
   "metadata": {
    "collapsed": false
   },
   "outputs": [],
   "source": [
    "import matplotlib\n",
    "import numpy as np\n",
    "import matplotlib.pyplot as plt\n",
    "%matplotlib inline  \n",
    "from collections import namedtuple"
   ]
  },
  {
   "cell_type": "code",
   "execution_count": 3,
   "metadata": {
    "collapsed": true
   },
   "outputs": [],
   "source": [
    "train_df = pd.read_csv(\"dataset/output/dataset_polimi_extended.csv\")"
   ]
  },
  {
   "cell_type": "code",
   "execution_count": 4,
   "metadata": {
    "collapsed": true
   },
   "outputs": [],
   "source": [
    "selection = namedtuple(\"selection\", (\"conditions\", \"selected_columns\", \"group\"))"
   ]
  },
  {
   "cell_type": "markdown",
   "metadata": {},
   "source": [
    "# Plotting\n",
    "\n",
    "If you have modified something or added some panels click \"Cell > Run all below\" from this cell"
   ]
  },
  {
   "cell_type": "code",
   "execution_count": 48,
   "metadata": {
    "collapsed": true
   },
   "outputs": [],
   "source": [
    "selections = []\n",
    "i = 0"
   ]
  },
  {
   "cell_type": "code",
   "execution_count": 49,
   "metadata": {
    "collapsed": true
   },
   "outputs": [],
   "source": [
    "colors = ['blue','green','red','cyan','magenta','yellow','black']"
   ]
  },
  {
   "cell_type": "code",
   "execution_count": 50,
   "metadata": {
    "collapsed": false
   },
   "outputs": [
    {
     "name": "stdout",
     "output_type": "stream",
     "text": [
      "I will be blue\n"
     ]
    }
   ],
   "source": [
    "# COPY ONE OF THIS PANEL TO ADD A LINE\n",
    "# modify the conditions but be careful: to be compared two lines must have the same x (e.g: \"zona\")\n",
    "selections.append(\n",
    "    selection(\n",
    "    conditions=( (train_df['giorno_della_settimana'] == 1) & \n",
    "                (train_df['categoria'] == 2)) # add your condition with \"& <condition>\"\n",
    "    ,selected_columns = ['zona','vendite'] # select the columns you are interested in\n",
    "    ,group = ['zona'] # select the group for which you want the mean\n",
    "    ))\n",
    "print(\"I will be \"+colors[i])\n",
    "i = i+1"
   ]
  },
  {
   "cell_type": "code",
   "execution_count": 51,
   "metadata": {
    "collapsed": false
   },
   "outputs": [
    {
     "name": "stdout",
     "output_type": "stream",
     "text": [
      "green\n"
     ]
    }
   ],
   "source": [
    "# COPY ONE OF THIS PANEL TO ADD A LINE\n",
    "# modify the conditions but be careful: to be compared two lines must have the same x (e.g: \"zona\")\n",
    "selections.append(\n",
    "    selection(\n",
    "    conditions=( (train_df['giorno_della_settimana'] == 1) & \n",
    "                (train_df['categoria'] == 1)) # add your condition with \"& <condition>\"\n",
    "    ,selected_columns = ['zona','vendite'] # select the columns you are interested in\n",
    "    ,group = ['zona'] # select the group for which you want the mean\n",
    "    ))\n",
    "print(\"I will be \"+colors[i])\n",
    "i = i+1"
   ]
  },
  {
   "cell_type": "code",
   "execution_count": 52,
   "metadata": {
    "collapsed": false
   },
   "outputs": [],
   "source": [
    "selected_dfs = [train_df[sel.conditions][sel.selected_columns].groupby(sel.group).mean()\n",
    "               for sel in selections]\n",
    "selected_couples = [(df.index.values, df['vendite'], colors[i]) for (i,df) in enumerate(selected_dfs)]\n",
    "plot_list = [element for tupl in selected_couples for element in tupl]"
   ]
  },
  {
   "cell_type": "code",
   "execution_count": 53,
   "metadata": {
    "collapsed": false
   },
   "outputs": [
    {
     "data": {
      "image/png": "[encoded data removed]",
      "text/plain": [
       "<matplotlib.figure.Figure at 0x7f5574b66828>"
      ]
     },
     "metadata": {},
     "output_type": "display_data"
    }
   ],
   "source": [
    "plt.plot(*plot_list)\n",
    "plt.show()"
   ]
  },
  {
   "cell_type": "markdown",
   "metadata": {},
   "source": [
    "# Coorrelazione giorni festivi - vendite\n",
    "Giorni in cui festivo = 1 e vendite <= 2 / giorni in cui festivo era 1"
   ]
  },
  {
   "cell_type": "code",
   "execution_count": 20,
   "metadata": {
    "collapsed": false
   },
   "outputs": [
    {
     "data": {
      "text/plain": [
       "0.7796494217265593"
      ]
     },
     "execution_count": 20,
     "metadata": {},
     "output_type": "execute_result"
    }
   ],
   "source": [
    "# Tutto il dataset\n",
    "df1 = train_df\n",
    "len(df1[(df1.festivo == 1) & (df1.vendite <= 1)])/len(df1[(df1.festivo == 1)])"
   ]
  },
  {
   "cell_type": "code",
   "execution_count": 14,
   "metadata": {
    "collapsed": false
   },
   "outputs": [
    {
     "data": {
      "text/plain": [
       "0.8987573099415205"
      ]
     },
     "execution_count": 14,
     "metadata": {},
     "output_type": "execute_result"
    }
   ],
   "source": [
    "# 2014\n",
    "df2 = df1[(df1.anno == 2014)]\n",
    "len(df2[(df2.festivo == 1) & (df2.vendite <= 2)])/len(df2[(df2.festivo == 1)])"
   ]
  },
  {
   "cell_type": "code",
   "execution_count": 18,
   "metadata": {
    "collapsed": false
   },
   "outputs": [
    {
     "data": {
      "text/plain": [
       "0.8926113613613613"
      ]
     },
     "execution_count": 18,
     "metadata": {},
     "output_type": "execute_result"
    }
   ],
   "source": [
    "# 2015\n",
    "df2 = df1[(df1.anno == 2015)]\n",
    "len(df2[(df2.festivo == 1) & (df2.vendite <= 2)])/len(df2[(df2.festivo == 1)])"
   ]
  },
  {
   "cell_type": "code",
   "execution_count": 15,
   "metadata": {
    "collapsed": false
   },
   "outputs": [
    {
     "data": {
      "text/plain": [
       "0.8976483585858586"
      ]
     },
     "execution_count": 15,
     "metadata": {},
     "output_type": "execute_result"
    }
   ],
   "source": [
    "# 2016\n",
    "df2 = df1[(df1.anno == 2016)]\n",
    "len(df2[(df2.festivo == 1) & (df2.vendite <= 2)])/len(df2[(df2.festivo == 1)])"
   ]
  },
  {
   "cell_type": "code",
   "execution_count": 19,
   "metadata": {
    "collapsed": false
   },
   "outputs": [
    {
     "data": {
      "text/plain": [
       "0.8940412186379928"
      ]
     },
     "execution_count": 19,
     "metadata": {},
     "output_type": "execute_result"
    }
   ],
   "source": [
    "# Tutto meno il 2014\n",
    "df2 = df1[(df1.anno != 2014)]\n",
    "len(df2[(df2.festivo == 1) & (df2.vendite <= 2)])/len(df2[(df2.festivo == 1)])"
   ]
  }
 ],
 "metadata": {
  "kernelspec": {
   "display_name": "Python 3",
   "language": "python",
   "name": "python3"
  },
  "language_info": {
   "codemirror_mode": {
    "name": "ipython",
    "version": 3
   },
   "file_extension": ".py",
   "mimetype": "text/x-python",
   "name": "python",
   "nbconvert_exporter": "python",
   "pygments_lexer": "ipython3",
   "version": "3.5.1"
  },
  "widgets": {
   "state": {},
   "version": "1.1.2"
  }
 },
 "nbformat": 4,
 "nbformat_minor": 0
}
