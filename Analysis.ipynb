{
 "cells": [
  {
   "cell_type": "markdown",
   "metadata": {},
   "source": [
    "# Analysis Notebook\n",
    "This notebook is meant to plot in an automated way data from csv file using Pandas and Matplotlib"
   ]
  },
  {
   "cell_type": "code",
   "execution_count": 1,
   "metadata": {
    "collapsed": false
   },
   "outputs": [
    {
     "data": {
      "text/html": [
       "<style>.container { width:100% !important; }</style>"
      ],
      "text/plain": [
       "<IPython.core.display.HTML object>"
      ]
     },
     "metadata": {},
     "output_type": "display_data"
    }
   ],
   "source": [
    "from IPython.core.display import display, HTML\n",
    "display(HTML(\"<style>.container { width:100% !important; }</style>\"))"
   ]
  },
  {
   "cell_type": "code",
   "execution_count": 3,
   "metadata": {
    "collapsed": false
   },
   "outputs": [],
   "source": [
    "import pandas as pd\n",
    "import matplotlib\n",
    "import numpy as np\n",
    "import matplotlib.pyplot as plt\n",
    "%matplotlib inline  \n",
    "from collections import namedtuple\n",
    "import matplotlib.patches as mpatches"
   ]
  },
  {
   "cell_type": "code",
   "execution_count": 4,
   "metadata": {
    "collapsed": true
   },
   "outputs": [],
   "source": [
    "train_df = pd.read_csv(\"dataset/output/dataset_polimi_extended.csv\")"
   ]
  },
  {
   "cell_type": "code",
   "execution_count": 7,
   "metadata": {
    "collapsed": true
   },
   "outputs": [],
   "source": [
    "selection = namedtuple(\"selection\", (\"conditions\", \"selected_columns\", \"group\"))"
   ]
  },
  {
   "cell_type": "markdown",
   "metadata": {},
   "source": [
    "# Plotting\n",
    "\n",
    "If you have modified something or added some panels click \"Cell > Run all below\" from this cell"
   ]
  },
  {
   "cell_type": "code",
   "execution_count": 132,
   "metadata": {
    "collapsed": true
   },
   "outputs": [],
   "source": [
    "selections = []\n",
    "i = 0"
   ]
  },
  {
   "cell_type": "code",
   "execution_count": 133,
   "metadata": {
    "collapsed": true
   },
   "outputs": [],
   "source": [
    "colors = ['blue','green','red','cyan','magenta','yellow','black']"
   ]
  },
  {
   "cell_type": "code",
   "execution_count": 134,
   "metadata": {
    "collapsed": false
   },
   "outputs": [
    {
     "name": "stdout",
     "output_type": "stream",
     "text": [
      "I will be blue\n"
     ]
    }
   ],
   "source": [
    "# COPY ONE OF THIS PANEL TO ADD A LINE\n",
    "# modify the conditions but be careful: to be compared two lines must have the same x (e.g: \"zona\")\n",
    "selections.append(\n",
    "    selection(\n",
    "    conditions=( \n",
    "                (train_df['zona_italia_Nord'] == 1)) # add your condition with \"& <condition>\"\n",
    "    ,selected_columns = ['giorno_della_settimana','vendite'] # select the columns you are interested in\n",
    "    ,group = ['giorno_della_settimana'] # select the group for which you want the mean\n",
    "    ))\n",
    "print(\"I will be \"+colors[i])\n",
    "i = i+1"
   ]
  },
  {
   "cell_type": "code",
   "execution_count": 135,
   "metadata": {
    "collapsed": false
   },
   "outputs": [
    {
     "name": "stdout",
     "output_type": "stream",
     "text": [
      "I will be green\n"
     ]
    }
   ],
   "source": [
    "# COPY ONE OF THIS PANEL TO ADD A LINE\n",
    "# modify the conditions but be careful: to be compared two lines must have the same x (e.g: \"zona\")\n",
    "selections.append(\n",
    "    selection(\n",
    "    conditions=( \n",
    "                (train_df['zona_italia_Centro'] == 1)) # add your condition with \"& <condition>\"\n",
    "    ,selected_columns = ['giorno_della_settimana','vendite'] # select the columns you are interested in\n",
    "    ,group = ['giorno_della_settimana'] # select the group for which you want the mean\n",
    "    ))\n",
    "print(\"I will be \"+colors[i])\n",
    "i = i+1"
   ]
  },
  {
   "cell_type": "code",
   "execution_count": 136,
   "metadata": {
    "collapsed": false
   },
   "outputs": [
    {
     "name": "stdout",
     "output_type": "stream",
     "text": [
      "I will be red\n"
     ]
    }
   ],
   "source": [
    "# COPY ONE OF THIS PANEL TO ADD A LINE\n",
    "# modify the conditions but be careful: to be compared two lines must have the same x (e.g: \"zona\")\n",
    "selections.append(\n",
    "    selection(\n",
    "    conditions=( \n",
    "                (train_df['zona_italia_Sud'] == 1)) # add your condition with \"& <condition>\"\n",
    "    ,selected_columns = ['giorno_della_settimana','vendite'] # select the columns you are interested in\n",
    "    ,group = ['giorno_della_settimana'] # select the group for which you want the mean\n",
    "    ))\n",
    "print(\"I will be \"+colors[i])\n",
    "i = i+1"
   ]
  },
  {
   "cell_type": "raw",
   "metadata": {
    "collapsed": false
   },
   "source": [
    "# COPY ONE OF THIS PANEL TO ADD A LINE\n",
    "# modify the conditions but be careful: to be compared two lines must have the same x (e.g: \"zona\")\n",
    "for j in range(1,28):\n",
    "    selections.append(\n",
    "        selection(\n",
    "        conditions=((train_df['zona'] == j) &\n",
    "                    (train_df['festivo'] == 1)) # add your condition with \"& <condition>\"\n",
    "        ,selected_columns = ['mese','vendite'] # select the columns you are interested in\n",
    "        ,group = ['mese'] # select the group for which you want the mean\n",
    "        ))\n",
    "    # print(\"I will be \"+colors[j%len(colors)])\n"
   ]
  },
  {
   "cell_type": "code",
   "execution_count": 142,
   "metadata": {
    "collapsed": false
   },
   "outputs": [],
   "source": [
    "selected_dfs = [train_df[sel.conditions][sel.selected_columns].groupby(sel.group).mean()\n",
    "               for sel in selections]\n",
    "selected_couples = [(df.index.values, df['vendite']) for (i,df) in enumerate(selected_dfs)]\n",
    "plot_list = [element for tupl in selected_couples for element in tupl]"
   ]
  },
  {
   "cell_type": "code",
   "execution_count": 143,
   "metadata": {
    "collapsed": false,
    "scrolled": true
   },
   "outputs": [
    {
     "data": {
      "image/png": "[encoded data removed]",
      "text/plain": [
       "<matplotlib.figure.Figure at 0x7fb89e104be0>"
      ]
     },
     "metadata": {},
     "output_type": "display_data"
    }
   ],
   "source": [
    "plt.ylabel('vendite medie')\n",
    "plt.xlabel('settimana')\n",
    "plt.plot(*plot_list)\n",
    "blue = mpatches.Patch(color='blue', label='Nord')\n",
    "green = mpatches.Patch(color='green', label='Centro')\n",
    "red = mpatches.Patch(color='red', label='Sud')\n",
    "plt.legend(handles=[blue, green, red], bbox_to_anchor=(1.05, 1), loc=2, borderaxespad=0.)\n",
    "plt.show()"
   ]
  }
 ],
 "metadata": {
  "kernelspec": {
   "display_name": "Python 3",
   "language": "python",
   "name": "python3"
  },
  "language_info": {
   "codemirror_mode": {
    "name": "ipython",
    "version": 3
   },
   "file_extension": ".py",
   "mimetype": "text/x-python",
   "name": "python",
   "nbconvert_exporter": "python",
   "pygments_lexer": "ipython3",
   "version": "3.5.1"
  },
  "widgets": {
   "state": {},
   "version": "1.1.2"
  }
 },
 "nbformat": 4,
 "nbformat_minor": 0
}
