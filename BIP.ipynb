{
 "cells": [
  {
   "cell_type": "code",
   "execution_count": 1,
   "metadata": {
    "collapsed": false
   },
   "outputs": [],
   "source": [
    "from pyspark import SparkContext\n",
    "import pandas as pd"
   ]
  },
  {
   "cell_type": "code",
   "execution_count": 8,
   "metadata": {
    "collapsed": true
   },
   "outputs": [],
   "source": [
    "sc = sc = SparkContext()"
   ]
  },
  {
   "cell_type": "code",
   "execution_count": 2,
   "metadata": {
    "collapsed": false
   },
   "outputs": [
    {
     "data": {
      "text/html": [
       "<style>.container { width:100% !important; }</style>"
      ],
      "text/plain": [
       "<IPython.core.display.HTML object>"
      ]
     },
     "metadata": {},
     "output_type": "display_data"
    }
   ],
   "source": [
    "from IPython.core.display import display, HTML\n",
    "display(HTML(\"<style>.container { width:100% !important; }</style>\"))"
   ]
  },
  {
   "cell_type": "code",
   "execution_count": 3,
   "metadata": {
    "collapsed": false
   },
   "outputs": [],
   "source": [
    "import re\n",
    "import csv\n",
    "from datetime import datetime\n",
    "from collections import namedtuple\n",
    "\n",
    "%matplotlib inline\n",
    "import matplotlib.pyplot as plt\n",
    "\n",
    "\n",
    "# pip install workalendar\n",
    "# https://github.com/novafloss/workalendar\n",
    "from workalendar.europe import Italy"
   ]
  },
  {
   "cell_type": "code",
   "execution_count": 4,
   "metadata": {
    "collapsed": false
   },
   "outputs": [],
   "source": [
    "cal = Italy()\n",
    "\n",
    "def def_is_holiday(dt_obj):\n",
    "    if(cal.is_working_day(dt_obj)):\n",
    "        return 0\n",
    "    else:\n",
    "        return 1"
   ]
  },
  {
   "cell_type": "code",
   "execution_count": 5,
   "metadata": {
    "collapsed": false
   },
   "outputs": [],
   "source": [
    "row = namedtuple(\"prodotto\", ['zona','area','sottoarea','categoria','timestamp','giorno_della_settimana', 'giorno_del_mese',\n",
    "                              'giorno_dell_anno', 'mese', 'anno','festivo','vendite'])"
   ]
  },
  {
   "cell_type": "code",
   "execution_count": 6,
   "metadata": {
    "collapsed": false
   },
   "outputs": [],
   "source": [
    "def do_parse(x):\n",
    "    # Oggetto Datetime\n",
    "    dt_obj = datetime.strptime(str(x[4]), '\"%Y-%m-%d\"')\n",
    "    \n",
    "    return row(\n",
    "        zona = int(re.sub(\"[^0-9]\", \"\", str(x[0]))),\n",
    "        area = int(re.sub(\"[^0-9]\", \"\", x[1])),\n",
    "        sottoarea = int(re.sub(\"[^0-9]\", \"\", x[2])),\n",
    "        categoria = int(re.sub(\"[^0-9]\", \"\", x[3])),\n",
    "        timestamp = int(dt_obj.strftime(\"%s\")),\n",
    "        giorno_della_settimana = int(dt_obj.weekday()),\n",
    "        giorno_del_mese = int(dt_obj.weekday()),\n",
    "        giorno_dell_anno = int(dt_obj.timetuple().tm_yday),\n",
    "        mese = int(dt_obj.strftime(\"%m\")),\n",
    "        anno = int(dt_obj.strftime(\"%Y\")),\n",
    "        festivo = def_is_holiday(dt_obj),\n",
    "        vendite = int(x[5])\n",
    "        )\n",
    "\n",
    "def parse(sc,filepath):\n",
    "    rawRdd = sc.textFile(filepath)\n",
    "    \n",
    "    header = rawRdd.first()\n",
    "\n",
    "    # Togliamo l'header\n",
    "    rawRdd = rawRdd.filter(lambda x: x != header)\n",
    "\n",
    "    # Togliamo le righe vuote\n",
    "    rawRdd = rawRdd.filter(lambda x: x != \"\")\n",
    "    \n",
    "    return rawRdd.map(lambda x: x.split(\",\")).map(lambda x: do_parse(x))"
   ]
  },
  {
   "cell_type": "code",
   "execution_count": 9,
   "metadata": {
    "collapsed": false
   },
   "outputs": [
    {
     "data": {
      "text/plain": [
       "[prodotto(zona=1, area=1, sottoarea=5, categoria=1, timestamp=1388530800, giorno_della_settimana=2, giorno_del_mese=2, giorno_dell_anno=1, mese=1, anno=2014, festivo=1, vendite=0)]"
      ]
     },
     "execution_count": 9,
     "metadata": {},
     "output_type": "execute_result"
    }
   ],
   "source": [
    "rdd = parse(sc,\"dataset_polimi.csv\")\n",
    "rdd.take(1)"
   ]
  },
  {
   "cell_type": "markdown",
   "metadata": {},
   "source": [
    "Data Analysis\n",
    "--"
   ]
  },
  {
   "cell_type": "markdown",
   "metadata": {},
   "source": [
    "Zone\n",
    "----"
   ]
  },
  {
   "cell_type": "code",
   "execution_count": 10,
   "metadata": {
    "collapsed": false
   },
   "outputs": [
    {
     "data": {
      "image/png": "[encoded data removed]",
      "text/plain": [
       "<matplotlib.figure.Figure at 0x7f15ac196278>"
      ]
     },
     "metadata": {},
     "output_type": "display_data"
    }
   ],
   "source": [
    "fig = plt.figure(figsize=(10,5))\n",
    "zone = (rdd.map(lambda x: (x.zona,1))\n",
    "                       .reduceByKey(lambda x,y: x+y)).collect()\n",
    "plot = plt.plot(zone)"
   ]
  },
  {
   "cell_type": "markdown",
   "metadata": {},
   "source": [
    "Aree\n",
    "---"
   ]
  },
  {
   "cell_type": "code",
   "execution_count": 11,
   "metadata": {
    "collapsed": false
   },
   "outputs": [
    {
     "data": {
      "image/png": "[encoded data removed]",
      "text/plain": [
       "<matplotlib.figure.Figure at 0x7f1591ecdf28>"
      ]
     },
     "metadata": {},
     "output_type": "display_data"
    }
   ],
   "source": [
    "fig = plt.figure(figsize=(10,5))\n",
    "aree = (rdd.map(lambda x: (x.area,1))\n",
    "                       .reduceByKey(lambda x,y: x+y)).collect()\n",
    "plot = plt.plot(aree)"
   ]
  },
  {
   "cell_type": "markdown",
   "metadata": {},
   "source": [
    "Categorie\n",
    "---"
   ]
  },
  {
   "cell_type": "code",
   "execution_count": 22,
   "metadata": {
    "collapsed": false
   },
   "outputs": [
    {
     "data": {
      "text/plain": [
       "[(1, 125280), (2, 125280)]"
      ]
     },
     "execution_count": 22,
     "metadata": {},
     "output_type": "execute_result"
    }
   ],
   "source": [
    "categorie = (rdd.map(lambda x: (x.categoria,1))\n",
    "                       .reduceByKey(lambda x,y: x+y)).collect()\n",
    "categorie"
   ]
  },
  {
   "cell_type": "markdown",
   "metadata": {},
   "source": [
    "Settimana\n",
    "---"
   ]
  },
  {
   "cell_type": "code",
   "execution_count": 93,
   "metadata": {
    "collapsed": false
   },
   "outputs": [
    {
     "data": {
      "image/png": "[encoded data removed]",
      "text/plain": [
       "<matplotlib.figure.Figure at 0x7f55059152b0>"
      ]
     },
     "metadata": {},
     "output_type": "display_data"
    }
   ],
   "source": [
    "fig = plt.figure(figsize=(5,6))\n",
    "giorni = (rdd.map(lambda x: (x.giorno_della_settimana,1))\n",
    "                       .reduceByKey(lambda x,y: x+y)).collect()\n",
    "plot = plt.plot(giorni)"
   ]
  },
  {
   "cell_type": "markdown",
   "metadata": {},
   "source": [
    "# Pandas\n",
    "if you cannot stay without it"
   ]
  },
  {
   "cell_type": "code",
   "execution_count": 12,
   "metadata": {
    "collapsed": true
   },
   "outputs": [],
   "source": [
    "collected_rdd = rdd.collect()"
   ]
  },
  {
   "cell_type": "code",
   "execution_count": 13,
   "metadata": {
    "collapsed": false
   },
   "outputs": [],
   "source": [
    "df = pd.DataFrame.from_records(collected_rdd,columns = ['zona','area','sottoarea','categoria','timestamp','giorno_della_settimana', 'giorno_del_mese',\n",
    "                              'giorno_dell_anno', 'mese', 'anno','festivo','vendite'])"
   ]
  },
  {
   "cell_type": "code",
   "execution_count": 64,
   "metadata": {
    "collapsed": false
   },
   "outputs": [],
   "source": [
    "# df = df.drop('timestamp',1)"
   ]
  },
  {
   "cell_type": "code",
   "execution_count": 139,
   "metadata": {
    "collapsed": false
   },
   "outputs": [
    {
     "data": {
      "text/html": [
       "<div>\n",
       "<table border=\"1\" class=\"dataframe\">\n",
       "  <thead>\n",
       "    <tr style=\"text-align: right;\">\n",
       "      <th></th>\n",
       "      <th>sottoarea</th>\n",
       "      <th>lat</th>\n",
       "      <th>lon</th>\n",
       "      <th>citta</th>\n",
       "      <th>provincia</th>\n",
       "      <th>regione</th>\n",
       "      <th>zona_italia</th>\n",
       "      <th>isola</th>\n",
       "      <th>abitanti</th>\n",
       "      <th>min_distanza</th>\n",
       "      <th>densita</th>\n",
       "    </tr>\n",
       "  </thead>\n",
       "  <tbody>\n",
       "    <tr>\n",
       "      <th>139</th>\n",
       "      <td>141</td>\n",
       "      <td>45.070842</td>\n",
       "      <td>11.878753</td>\n",
       "      <td>Villadose</td>\n",
       "      <td>RO</td>\n",
       "      <td>VEN</td>\n",
       "      <td>Nord</td>\n",
       "      <td>0</td>\n",
       "      <td>5099</td>\n",
       "      <td>25849</td>\n",
       "      <td>0</td>\n",
       "    </tr>\n",
       "    <tr>\n",
       "      <th>140</th>\n",
       "      <td>142</td>\n",
       "      <td>45.488347</td>\n",
       "      <td>12.170846</td>\n",
       "      <td>Spinea</td>\n",
       "      <td>VE</td>\n",
       "      <td>VEN</td>\n",
       "      <td>Nord</td>\n",
       "      <td>0</td>\n",
       "      <td>27927</td>\n",
       "      <td>21255</td>\n",
       "      <td>0</td>\n",
       "    </tr>\n",
       "    <tr>\n",
       "      <th>141</th>\n",
       "      <td>143</td>\n",
       "      <td>45.330459</td>\n",
       "      <td>12.330348</td>\n",
       "      <td>Venezia</td>\n",
       "      <td>VE</td>\n",
       "      <td>VEN</td>\n",
       "      <td>Nord</td>\n",
       "      <td>0</td>\n",
       "      <td>263352</td>\n",
       "      <td>21536</td>\n",
       "      <td>0</td>\n",
       "    </tr>\n",
       "    <tr>\n",
       "      <th>142</th>\n",
       "      <td>144</td>\n",
       "      <td>45.421123</td>\n",
       "      <td>11.026968</td>\n",
       "      <td>Verona</td>\n",
       "      <td>VR</td>\n",
       "      <td>VEN</td>\n",
       "      <td>Nord</td>\n",
       "      <td>0</td>\n",
       "      <td>258765</td>\n",
       "      <td>41067</td>\n",
       "      <td>0</td>\n",
       "    </tr>\n",
       "    <tr>\n",
       "      <th>143</th>\n",
       "      <td>145</td>\n",
       "      <td>45.597255</td>\n",
       "      <td>11.502944</td>\n",
       "      <td>Costabissara</td>\n",
       "      <td>VI</td>\n",
       "      <td>VEN</td>\n",
       "      <td>Nord</td>\n",
       "      <td>0</td>\n",
       "      <td>7436</td>\n",
       "      <td>32295</td>\n",
       "      <td>0</td>\n",
       "    </tr>\n",
       "  </tbody>\n",
       "</table>\n",
       "</div>"
      ],
      "text/plain": [
       "     sottoarea        lat        lon         citta provincia regione  \\\n",
       "139        141  45.070842  11.878753     Villadose        RO     VEN   \n",
       "140        142  45.488347  12.170846        Spinea        VE     VEN   \n",
       "141        143  45.330459  12.330348       Venezia        VE     VEN   \n",
       "142        144  45.421123  11.026968        Verona        VR     VEN   \n",
       "143        145  45.597255  11.502944  Costabissara        VI     VEN   \n",
       "\n",
       "    zona_italia  isola  abitanti  min_distanza  densita  \n",
       "139        Nord      0      5099         25849        0  \n",
       "140        Nord      0     27927         21255        0  \n",
       "141        Nord      0    263352         21536        0  \n",
       "142        Nord      0    258765         41067        0  \n",
       "143        Nord      0      7436         32295        0  "
      ]
     },
     "execution_count": 139,
     "metadata": {},
     "output_type": "execute_result"
    }
   ],
   "source": [
    "locations[-5:]"
   ]
  },
  {
   "cell_type": "code",
   "execution_count": 15,
   "metadata": {
    "collapsed": true
   },
   "outputs": [],
   "source": [
    "locations = pd.read_csv('gps_processed.csv',index_col=0)"
   ]
  },
  {
   "cell_type": "code",
   "execution_count": null,
   "metadata": {
    "collapsed": true
   },
   "outputs": [],
   "source": [
    "lista_sottoaree = list(locations['sottoarea'])"
   ]
  },
  {
   "cell_type": "code",
   "execution_count": 98,
   "metadata": {
    "collapsed": true
   },
   "outputs": [],
   "source": [
    "province_dict = dict()"
   ]
  },
  {
   "cell_type": "code",
   "execution_count": 43,
   "metadata": {
    "collapsed": false
   },
   "outputs": [],
   "source": [
    "lista_province = list(locations['provincia']) # mappa ad ogni sottoarea una provincia"
   ]
  },
  {
   "cell_type": "code",
   "execution_count": 99,
   "metadata": {
    "collapsed": false
   },
   "outputs": [],
   "source": [
    "for i,s in enumerate(lista_sottoaree):\n",
    "    province_dict[s] = lista_province[i]"
   ]
  },
  {
   "cell_type": "code",
   "execution_count": 103,
   "metadata": {
    "collapsed": false
   },
   "outputs": [],
   "source": [
    "province = set(locations['provincia']) # insieme di tutte le province"
   ]
  },
  {
   "cell_type": "code",
   "execution_count": 106,
   "metadata": {
    "collapsed": false
   },
   "outputs": [],
   "source": [
    "sottoaree = list(df['sottoarea']) # mappa ad ogni vendita una sottoarea"
   ]
  },
  {
   "cell_type": "code",
   "execution_count": 107,
   "metadata": {
    "collapsed": false
   },
   "outputs": [],
   "source": [
    "bin_dict = dict()\n",
    "\n",
    "for p in province:\n",
    "    bin_dict[p] = [int((province_dict[sottoaree[i]] == p)) for i in range(len(sottoaree))]"
   ]
  },
  {
   "cell_type": "code",
   "execution_count": 121,
   "metadata": {
    "collapsed": false
   },
   "outputs": [],
   "source": [
    "for d in bin_dict:\n",
    "    df[d] = pd.Series(bin_dict[d])"
   ]
  },
  {
   "cell_type": "code",
   "execution_count": 129,
   "metadata": {
    "collapsed": false
   },
   "outputs": [],
   "source": [
    "df.to_csv('dataset_polimi_with_province.csv',sep = ',')"
   ]
  },
  {
   "cell_type": "code",
   "execution_count": 133,
   "metadata": {
    "collapsed": false
   },
   "outputs": [
    {
     "data": {
      "text/plain": [
       "'VE'"
      ]
     },
     "execution_count": 133,
     "metadata": {},
     "output_type": "execute_result"
    }
   ],
   "source": [
    "province_dict[143]"
   ]
  },
  {
   "cell_type": "code",
   "execution_count": 134,
   "metadata": {
    "collapsed": false
   },
   "outputs": [
    {
     "data": {
      "text/plain": [
       "'VI'"
      ]
     },
     "execution_count": 134,
     "metadata": {},
     "output_type": "execute_result"
    }
   ],
   "source": [
    "province_dict[145]"
   ]
  },
  {
   "cell_type": "code",
   "execution_count": 138,
   "metadata": {
    "collapsed": false
   },
   "outputs": [
    {
     "data": {
      "text/plain": [
       "182700    1\n",
       "182701    1\n",
       "182702    1\n",
       "182703    1\n",
       "182704    1\n",
       "182705    1\n",
       "182706    1\n",
       "182707    1\n",
       "182708    1\n",
       "182709    1\n",
       "182710    1\n",
       "182711    1\n",
       "182712    1\n",
       "182713    1\n",
       "182714    1\n",
       "182715    1\n",
       "182716    1\n",
       "182717    1\n",
       "182718    1\n",
       "182719    1\n",
       "182720    1\n",
       "182721    1\n",
       "182722    1\n",
       "182723    1\n",
       "182724    1\n",
       "182725    1\n",
       "182726    1\n",
       "182727    1\n",
       "182728    1\n",
       "182729    1\n",
       "         ..\n",
       "184410    1\n",
       "184411    1\n",
       "184412    1\n",
       "184413    1\n",
       "184414    1\n",
       "184415    1\n",
       "184416    1\n",
       "184417    1\n",
       "184418    1\n",
       "184419    1\n",
       "184420    1\n",
       "184421    1\n",
       "184422    1\n",
       "184423    1\n",
       "184424    1\n",
       "184425    1\n",
       "184426    1\n",
       "184427    1\n",
       "184428    1\n",
       "184429    1\n",
       "184430    1\n",
       "184431    1\n",
       "184432    1\n",
       "184433    1\n",
       "184434    1\n",
       "184435    1\n",
       "184436    1\n",
       "184437    1\n",
       "184438    1\n",
       "184439    1\n",
       "Name: VE, dtype: int64"
      ]
     },
     "execution_count": 138,
     "metadata": {},
     "output_type": "execute_result"
    }
   ],
   "source": [
    "df.ix[df['sottoarea'] == 143]['VE']"
   ]
  }
 ],
 "metadata": {
  "kernelspec": {
   "display_name": "pySpark (Spark 1.5.2)",
   "language": "python",
   "name": "pyspark"
  },
  "language_info": {
   "codemirror_mode": {
    "name": "ipython",
    "version": 3
   },
   "file_extension": ".py",
   "mimetype": "text/x-python",
   "name": "python",
   "nbconvert_exporter": "python",
   "pygments_lexer": "ipython3",
   "version": "3.5.1"
  },
  "widgets": {
   "state": {},
   "version": "1.1.2"
  }
 },
 "nbformat": 4,
 "nbformat_minor": 0
}
