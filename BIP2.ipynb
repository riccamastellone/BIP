{
 "cells": [
  {
   "cell_type": "code",
   "execution_count": 3,
   "metadata": {
    "collapsed": true
   },
   "outputs": [],
   "source": [
    "from pyspark import SparkContext\n",
    "sc = SparkContext()"
   ]
  },
  {
   "cell_type": "code",
   "execution_count": 4,
   "metadata": {
    "collapsed": false
   },
   "outputs": [
    {
     "data": {
      "text/plain": [
       "<pyspark.context.SparkContext at 0x7f2a7c842e48>"
      ]
     },
     "execution_count": 4,
     "metadata": {},
     "output_type": "execute_result"
    }
   ],
   "source": [
    "sc"
   ]
  },
  {
   "cell_type": "code",
   "execution_count": 6,
   "metadata": {
    "collapsed": false
   },
   "outputs": [],
   "source": [
    "import re\n",
    "import csv\n",
    "from datetime import datetime\n",
    "from collections import namedtuple\n",
    "%matplotlib inline\n",
    "import matplotlib.pyplot as plt\n",
    "\n",
    "# pip install workalendar\n",
    "# https://github.com/novafloss/workalendar\n",
    "from workalendar.europe import Italy"
   ]
  },
  {
   "cell_type": "code",
   "execution_count": 7,
   "metadata": {
    "collapsed": false
   },
   "outputs": [],
   "source": [
    "cal = Italy()\n",
    "\n",
    "def def_is_holiday(dt_obj):\n",
    "    if(cal.is_working_day(dt_obj)):\n",
    "        return 0\n",
    "    else:\n",
    "        return 1"
   ]
  },
  {
   "cell_type": "code",
   "execution_count": 30,
   "metadata": {
    "collapsed": true
   },
   "outputs": [],
   "source": [
    "row = namedtuple(\"prodotto\", ['zona','area','sottoarea','categoria','timestamp','giorno_della_settimana', 'giorno_del_mese',\n",
    "                              'giorno_dell_anno', 'mese', 'anno','festivo','vendite'])"
   ]
  },
  {
   "cell_type": "code",
   "execution_count": 31,
   "metadata": {
    "collapsed": false
   },
   "outputs": [],
   "source": [
    "def do_parse(x):\n",
    "    # Oggetto Datetime\n",
    "    dt_obj = datetime.strptime(str(x[4]), '\"%Y-%m-%d\"')\n",
    "    \n",
    "    return row(\n",
    "        zona = int(re.sub(\"[^0-9]\", \"\", str(x[0]))),\n",
    "        area = int(re.sub(\"[^0-9]\", \"\", x[1])),\n",
    "        sottoarea = int(re.sub(\"[^0-9]\", \"\", x[2])),\n",
    "        categoria = int(re.sub(\"[^0-9]\", \"\", x[3])),\n",
    "        timestamp = int(dt_obj.strftime(\"%s\")),\n",
    "        giorno_della_settimana = int(dt_obj.weekday()),\n",
    "        giorno_del_mese = int(dt_obj.weekday()),\n",
    "        giorno_dell_anno = int(dt_obj.timetuple().tm_yday),\n",
    "        mese = int(dt_obj.strftime(\"%m\")),\n",
    "        anno = int(dt_obj.strftime(\"%Y\")),\n",
    "        festivo = def_is_holiday(dt_obj),\n",
    "        vendite = int(x[5])\n",
    "        )\n",
    "\n",
    "def parse(sc,filepath):\n",
    "    rawRdd = sc.textFile(filepath)\n",
    "    \n",
    "    header = rawRdd.first()\n",
    "\n",
    "    # Togliamo l'header\n",
    "    rawRdd = rawRdd.filter(lambda x: x != header)\n",
    "\n",
    "    # Togliamo le righe vuote\n",
    "    rawRdd = rawRdd.filter(lambda x: x != \"\")\n",
    "    \n",
    "    return rawRdd.map(lambda x: x.split(\",\")).map(lambda x: do_parse(x))"
   ]
  },
  {
   "cell_type": "code",
   "execution_count": 34,
   "metadata": {
    "collapsed": true
   },
   "outputs": [],
   "source": [
    "rdd = parse(sc,\"dataset_polimi.csv\")"
   ]
  },
  {
   "cell_type": "code",
   "execution_count": 35,
   "metadata": {
    "collapsed": false
   },
   "outputs": [
    {
     "data": {
      "text/plain": [
       "prodotto(zona=1, area=1, sottoarea=5, categoria=1, timestamp=1388530800, giorno_della_settimana=2, giorno_del_mese=2, giorno_dell_anno=1, mese=1, anno=2014, festivo=1, vendite=0)"
      ]
     },
     "execution_count": 35,
     "metadata": {},
     "output_type": "execute_result"
    }
   ],
   "source": [
    "rdd.first()"
   ]
  },
  {
   "cell_type": "markdown",
   "metadata": {},
   "source": [
    "Data Analysis\n",
    "--"
   ]
  },
  {
   "cell_type": "markdown",
   "metadata": {},
   "source": [
    "Zone\n",
    "----"
   ]
  },
  {
   "cell_type": "code",
   "execution_count": 37,
   "metadata": {
    "collapsed": false
   },
   "outputs": [
    {
     "data": {
      "text/plain": [
       "[<matplotlib.lines.Line2D at 0x7f2a4f4ce400>,\n",
       " <matplotlib.lines.Line2D at 0x7f2a4f4ce5f8>]"
      ]
     },
     "execution_count": 37,
     "metadata": {},
     "output_type": "execute_result"
    },
    {
     "data": {
      "image/png": "[encoded data removed]",
      "text/plain": [
       "<matplotlib.figure.Figure at 0x7f2a521eba90>"
      ]
     },
     "metadata": {},
     "output_type": "display_data"
    }
   ],
   "source": [
    "zone = (rdd.map(lambda x: (x.zona,1))\n",
    "                       .reduceByKey(lambda x,y: x+y)).collect()\n",
    "plt.plot(zone)\n",
    "# zone"
   ]
  },
  {
   "cell_type": "markdown",
   "metadata": {},
   "source": [
    "Aree\n",
    "---"
   ]
  },
  {
   "cell_type": "code",
   "execution_count": 38,
   "metadata": {
    "collapsed": false
   },
   "outputs": [
    {
     "data": {
      "image/png": "[encoded data removed]",
      "text/plain": [
       "<matplotlib.figure.Figure at 0x7f2a5c6c5710>"
      ]
     },
     "metadata": {},
     "output_type": "display_data"
    }
   ],
   "source": [
    "aree = (rdd.map(lambda x: (x.area,1))\n",
    "                       .reduceByKey(lambda x,y: x+y)).collect()\n",
    "plot = plt.plot(aree)"
   ]
  },
  {
   "cell_type": "markdown",
   "metadata": {},
   "source": [
    "Categorie\n",
    "---"
   ]
  },
  {
   "cell_type": "code",
   "execution_count": 22,
   "metadata": {
    "collapsed": false
   },
   "outputs": [
    {
     "data": {
      "text/plain": [
       "[(1, 125280), (2, 125280)]"
      ]
     },
     "execution_count": 22,
     "metadata": {},
     "output_type": "execute_result"
    }
   ],
   "source": [
    "categorie = (rdd.map(lambda x: (x.categoria,1))\n",
    "                       .reduceByKey(lambda x,y: x+y)).collect()\n",
    "categorie"
   ]
  },
  {
   "cell_type": "markdown",
   "metadata": {},
   "source": [
    "Settimana\n",
    "---"
   ]
  },
  {
   "cell_type": "code",
   "execution_count": 31,
   "metadata": {
    "collapsed": false
   },
   "outputs": [
    {
     "data": {
      "image/png": "[encoded data removed]",
      "text/plain": [
       "<matplotlib.figure.Figure at 0x7fe2f14e6eb8>"
      ]
     },
     "metadata": {},
     "output_type": "display_data"
    }
   ],
   "source": [
    "giorni = (rdd.map(lambda x: (x.giorno_della_settimana,1))\n",
    "                       .reduceByKey(lambda x,y: x+y)).collect()\n",
    "plot = plt.plot(giorni)"
   ]
  },
  {
   "cell_type": "code",
   "execution_count": 33,
   "metadata": {
    "collapsed": false
   },
   "outputs": [],
   "source": []
  },
  {
   "cell_type": "code",
   "execution_count": null,
   "metadata": {
    "collapsed": true
   },
   "outputs": [],
   "source": []
  }
 ],
 "metadata": {
  "kernelspec": {
   "display_name": "pySpark (Spark 1.5.2)",
   "language": "python",
   "name": "pyspark"
  },
  "language_info": {
   "codemirror_mode": {
    "name": "ipython",
    "version": 3
   },
   "file_extension": ".py",
   "mimetype": "text/x-python",
   "name": "python",
   "nbconvert_exporter": "python",
   "pygments_lexer": "ipython3",
   "version": "3.5.1"
  },
  "widgets": {
   "state": {},
   "version": "1.1.2"
  }
 },
 "nbformat": 4,
 "nbformat_minor": 0
}
