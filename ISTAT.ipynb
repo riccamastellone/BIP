{
 "cells": [
  {
   "cell_type": "code",
   "execution_count": 2,
   "metadata": {
    "collapsed": true
   },
   "outputs": [],
   "source": [
    "from pyspark import SparkContext\n",
    "sc = SparkContext()"
   ]
  },
  {
   "cell_type": "code",
   "execution_count": 6,
   "metadata": {
    "collapsed": true
   },
   "outputs": [],
   "source": [
    "from collections import namedtuple\n",
    "from operator import itemgetter\n",
    "import pandas as pd"
   ]
  },
  {
   "cell_type": "code",
   "execution_count": 7,
   "metadata": {
    "collapsed": false
   },
   "outputs": [],
   "source": [
    "def parse_occupazione(sc,filepath):\n",
    "    rawRdd = sc.textFile(filepath)\n",
    "    header = rawRdd.first()\n",
    "\n",
    "    # Togliamo l'header\n",
    "    rawRdd = rawRdd.filter(lambda x: x != header)\n",
    "    return rawRdd.map(lambda x: x.split(\"|\")).filter(lambda x: \n",
    "          x[0].find(\"I\") == -1 and \n",
    "          x[3] == '\"RESPOP_AV\"' and #RESIDENTI\n",
    "          x[6] == '\"9\"' and #SESSO\n",
    "          x[9] == '\"Y_GE15\"' and #ETA\n",
    "          x[12] == '\"99\"' and #STATO CIVILE                                            \n",
    "          x[15] == '\"TOTAL\"' and #CITTADINANZA\n",
    "          x[18] == '\"ALL\"' and #ISO1\n",
    "          x[21] == '\"99\"' and  #TITOLO_STUDIO           \n",
    "          x[24] == '\"ALL\"' #FORMAZIONE\n",
    "        )\n",
    "\n",
    "rddOccupazione = parse_occupazione(sc,\"dataset/ISTAT/occupazione.csv\")"
   ]
  },
  {
   "cell_type": "code",
   "execution_count": 8,
   "metadata": {
    "collapsed": false
   },
   "outputs": [],
   "source": [
    "lmbd_f = lambda x: (int(x[0][1:-1]),int(x[36]))\n",
    "\n",
    "rddForzaLavoro = rddOccupazione.filter(lambda x: x[27] == '\"14\"').map(lmbd_f)\n",
    "rddTotale = rddOccupazione.filter(lambda x: x[27] == '\"99\"').map(lmbd_f)\n",
    "rddOccupato = rddOccupazione.filter(lambda x: x[27] == '\"1\"').map(lmbd_f)\n",
    "\n",
    "istat = namedtuple(\"forza_lavoro\",[\"codice_istat\",\"totale\",\"occupato\",\"forza_lavoro\"])\n",
    "rddFinal = rddTotale.join(rddOccupato).join(rddForzaLavoro).map(lambda x: \n",
    "         istat(\n",
    "            codice_istat = x[0],\n",
    "            totale = x[1][0][0],\n",
    "            occupato = x[1][0][1],\n",
    "            forza_lavoro = x[1][1])\n",
    "          )"
   ]
  },
  {
   "cell_type": "code",
   "execution_count": 9,
   "metadata": {
    "collapsed": false
   },
   "outputs": [
    {
     "data": {
      "text/plain": [
       "[forza_lavoro(codice_istat=48017, totale=315401, occupato=154105, forza_lavoro=165358)]"
      ]
     },
     "execution_count": 9,
     "metadata": {},
     "output_type": "execute_result"
    }
   ],
   "source": [
    "# 48017 -> Firenze\n",
    "rddFinal.filter(lambda x: x[0] == 48017).take(1)"
   ]
  },
  {
   "cell_type": "code",
   "execution_count": 10,
   "metadata": {
    "collapsed": false
   },
   "outputs": [
    {
     "data": {
      "text/plain": [
       "[istat(codice_istat=23040, forza_lavoro=0.5705852417302799, occupazione=0.9414912593649661),\n",
       " istat(codice_istat=65025, forza_lavoro=0.48482266482053465, occupazione=0.8455623901581723),\n",
       " istat(codice_istat=107010, forza_lavoro=0.4967897271268058, occupazione=0.7108239095315024),\n",
       " istat(codice_istat=60075, forza_lavoro=0.46562067374250116, occupazione=0.7948463825569871),\n",
       " istat(codice_istat=24075, forza_lavoro=0.5339985218033999, occupazione=0.9501730103806229),\n",
       " istat(codice_istat=66060, forza_lavoro=0.39059304703476483, occupazione=0.9476439790575916),\n",
       " istat(codice_istat=85005, forza_lavoro=0.3861490031479538, occupazione=0.7563405797101449),\n",
       " istat(codice_istat=6165, forza_lavoro=0.4411473788328388, occupazione=0.9394618834080718),\n",
       " istat(codice_istat=2070, forza_lavoro=0.5666003976143141, occupazione=0.9122807017543859),\n",
       " istat(codice_istat=21015, forza_lavoro=0.6256057526965765, occupazione=0.9782608695652174)]"
      ]
     },
     "execution_count": 10,
     "metadata": {},
     "output_type": "execute_result"
    }
   ],
   "source": [
    "# % forza lavoro = forza lavoro / totale\n",
    "# % occupazione = occupato / forza lavoro\n",
    "istat_indici = namedtuple(\"istat\",[\"codice_istat\",\"forza_lavoro\",\"occupazione\"])\n",
    "rddIndici = rddFinal.map(lambda x: istat_indici(\n",
    "    codice_istat = x.codice_istat,\n",
    "    forza_lavoro = x.forza_lavoro / x.totale,\n",
    "    occupazione = x.occupato / x.forza_lavoro))\n",
    "rddIndici.take(10)"
   ]
  },
  {
   "cell_type": "code",
   "execution_count": 11,
   "metadata": {
    "collapsed": false
   },
   "outputs": [],
   "source": [
    "collected_rdd = rddIndici.collect()\n",
    "df = pd.DataFrame.from_records(collected_rdd,columns = istat_indici._fields)\n",
    "df.to_csv('dataset/output/occupazione_processed.csv', sep = \",\",index = False)"
   ]
  }
 ],
 "metadata": {
  "kernelspec": {
   "display_name": "Python 3",
   "language": "python",
   "name": "python3"
  },
  "language_info": {
   "codemirror_mode": {
    "name": "ipython",
    "version": 3
   },
   "file_extension": ".py",
   "mimetype": "text/x-python",
   "name": "python",
   "nbconvert_exporter": "python",
   "pygments_lexer": "ipython3",
   "version": "3.5.1"
  },
  "widgets": {
   "state": {},
   "version": "1.1.2"
  }
 },
 "nbformat": 4,
 "nbformat_minor": 0
}
