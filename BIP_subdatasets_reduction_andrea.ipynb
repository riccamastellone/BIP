{
 "cells": [
  {
   "cell_type": "code",
   "execution_count": 88,
   "metadata": {
    "collapsed": false
   },
   "outputs": [
    {
     "data": {
      "text/html": [
       "<style>.container { width:100% !important; }</style>"
      ],
      "text/plain": [
       "<IPython.core.display.HTML object>"
      ]
     },
     "metadata": {},
     "output_type": "display_data"
    }
   ],
   "source": [
    "from IPython.core.display import display, HTML\n",
    "display(HTML(\"<style>.container { width:100% !important; }</style>\"))"
   ]
  },
  {
   "cell_type": "code",
   "execution_count": 89,
   "metadata": {
    "collapsed": false
   },
   "outputs": [],
   "source": [
    "import re\n",
    "import csv\n",
    "from datetime import datetime\n",
    "from collections import namedtuple\n",
    "\n",
    "%matplotlib inline\n",
    "import matplotlib.pyplot as plt\n",
    "\n",
    "\n",
    "# pip install workalendar\n",
    "# https://github.com/novafloss/workalendar\n",
    "from workalendar.europe import Italy"
   ]
  },
  {
   "cell_type": "code",
   "execution_count": 90,
   "metadata": {
    "collapsed": false
   },
   "outputs": [],
   "source": [
    "cal = Italy()\n",
    "\n",
    "def def_is_holiday(dt_obj):\n",
    "    if(cal.is_working_day(dt_obj)):\n",
    "        return 0\n",
    "    else:\n",
    "        return 1"
   ]
  },
  {
   "cell_type": "code",
   "execution_count": 91,
   "metadata": {
    "collapsed": false
   },
   "outputs": [],
   "source": [
    "row = namedtuple(\"sample\", ['sottoarea', 'area', 'zona', 'prodotto', 'data', 'timestamp', 'giorno_della_settimana',\n",
    "                              'giorno_del_mese', 'giorno_dell_anno', 'settimana_dell_anno', 'mese', 'anno',\n",
    "                              'festivo','vendite'])"
   ]
  },
  {
   "cell_type": "code",
   "execution_count": 92,
   "metadata": {
    "collapsed": false
   },
   "outputs": [],
   "source": [
    "def do_parse(x):\n",
    "    # Oggetto Datetime\n",
    "    dt_obj = datetime.strptime(str(x[4]), '\"%Y-%m-%d\"')\n",
    "    \n",
    "    return row(\n",
    "        sottoarea = int(re.sub(\"[^0-9]\", \"\", x[2])),\n",
    "        area = int(re.sub(\"[^0-9]\", \"\", x[1])),\n",
    "        zona = int(re.sub(\"[^0-9]\", \"\", str(x[0]))),  \n",
    "        prodotto = int(re.sub(\"[^0-9]\", \"\", x[3])),\n",
    "        data = x[4],\n",
    "        timestamp = int(dt_obj.strftime(\"%s\")),\n",
    "        giorno_della_settimana = int(dt_obj.weekday()) + 1,\n",
    "        giorno_del_mese = int(dt_obj.strftime(\"%d\")),\n",
    "        giorno_dell_anno = int(dt_obj.timetuple().tm_yday),\n",
    "        settimana_dell_anno = int(dt_obj.strftime(\"%U\")) + 1,\n",
    "        mese = int(dt_obj.strftime(\"%m\")),\n",
    "        anno = int(dt_obj.strftime(\"%Y\")),\n",
    "        festivo = def_is_holiday(dt_obj),\n",
    "        vendite = int(x[5])\n",
    "        )\n",
    "\n",
    "def parse(sc,filepath):\n",
    "    rawRdd = sc.textFile(filepath)\n",
    "    \n",
    "    header = rawRdd.first()\n",
    "\n",
    "    # Togliamo l'header\n",
    "    rawRdd = rawRdd.filter(lambda x: x != header)\n",
    "\n",
    "    # Togliamo le righe vuote\n",
    "    rawRdd = rawRdd.filter(lambda x: x != \"\")\n",
    "    \n",
    "    return rawRdd.map(lambda x: x.split(\",\")).map(lambda x: do_parse(x))"
   ]
  },
  {
   "cell_type": "code",
   "execution_count": 93,
   "metadata": {
    "collapsed": false
   },
   "outputs": [
    {
     "data": {
      "text/plain": [
       "[sample(sottoarea=5, area=1, zona=1, prodotto=1, data='\"2014-01-01\"', timestamp=1388530800, giorno_della_settimana=3, giorno_del_mese=1, giorno_dell_anno=1, settimana_dell_anno=1, mese=1, anno=2014, festivo=1, vendite=0),\n",
       " sample(sottoarea=5, area=1, zona=1, prodotto=1, data='\"2014-01-02\"', timestamp=1388617200, giorno_della_settimana=4, giorno_del_mese=2, giorno_dell_anno=2, settimana_dell_anno=1, mese=1, anno=2014, festivo=0, vendite=5),\n",
       " sample(sottoarea=5, area=1, zona=1, prodotto=1, data='\"2014-01-03\"', timestamp=1388703600, giorno_della_settimana=5, giorno_del_mese=3, giorno_dell_anno=3, settimana_dell_anno=1, mese=1, anno=2014, festivo=0, vendite=3),\n",
       " sample(sottoarea=5, area=1, zona=1, prodotto=1, data='\"2014-01-04\"', timestamp=1388790000, giorno_della_settimana=6, giorno_del_mese=4, giorno_dell_anno=4, settimana_dell_anno=1, mese=1, anno=2014, festivo=1, vendite=0),\n",
       " sample(sottoarea=5, area=1, zona=1, prodotto=1, data='\"2014-01-05\"', timestamp=1388876400, giorno_della_settimana=7, giorno_del_mese=5, giorno_dell_anno=5, settimana_dell_anno=2, mese=1, anno=2014, festivo=1, vendite=0),\n",
       " sample(sottoarea=5, area=1, zona=1, prodotto=1, data='\"2014-01-06\"', timestamp=1388962800, giorno_della_settimana=1, giorno_del_mese=6, giorno_dell_anno=6, settimana_dell_anno=2, mese=1, anno=2014, festivo=1, vendite=0),\n",
       " sample(sottoarea=5, area=1, zona=1, prodotto=1, data='\"2014-01-07\"', timestamp=1389049200, giorno_della_settimana=2, giorno_del_mese=7, giorno_dell_anno=7, settimana_dell_anno=2, mese=1, anno=2014, festivo=0, vendite=6),\n",
       " sample(sottoarea=5, area=1, zona=1, prodotto=1, data='\"2014-01-08\"', timestamp=1389135600, giorno_della_settimana=3, giorno_del_mese=8, giorno_dell_anno=8, settimana_dell_anno=2, mese=1, anno=2014, festivo=0, vendite=9),\n",
       " sample(sottoarea=5, area=1, zona=1, prodotto=1, data='\"2014-01-09\"', timestamp=1389222000, giorno_della_settimana=4, giorno_del_mese=9, giorno_dell_anno=9, settimana_dell_anno=2, mese=1, anno=2014, festivo=0, vendite=14),\n",
       " sample(sottoarea=5, area=1, zona=1, prodotto=1, data='\"2014-01-10\"', timestamp=1389308400, giorno_della_settimana=5, giorno_del_mese=10, giorno_dell_anno=10, settimana_dell_anno=2, mese=1, anno=2014, festivo=0, vendite=10)]"
      ]
     },
     "execution_count": 93,
     "metadata": {},
     "output_type": "execute_result"
    }
   ],
   "source": [
    "rdd = parse(sc,\"dataset/dataset_polimi.csv\")\n",
    "rdd.take(10)"
   ]
  },
  {
   "cell_type": "markdown",
   "metadata": {},
   "source": [
    "# Pandas\n",
    "if you cannot stay without it"
   ]
  },
  {
   "cell_type": "code",
   "execution_count": 94,
   "metadata": {
    "collapsed": true
   },
   "outputs": [],
   "source": [
    "import pandas as pd"
   ]
  },
  {
   "cell_type": "code",
   "execution_count": 95,
   "metadata": {
    "collapsed": true
   },
   "outputs": [],
   "source": [
    "#porto sottoarea come prima colonna per poi fare il join\n",
    "#rdd = rdd.map(lambda x: (x[2], x[1], x[0], x[3], x[4], x[5], x[6], x[7], x[8], x[9], x[10], x[11]))"
   ]
  },
  {
   "cell_type": "code",
   "execution_count": 96,
   "metadata": {
    "collapsed": true
   },
   "outputs": [],
   "source": [
    "row1 = namedtuple(\"gps\", ['sottoarea', 'lat', 'lon', 'citta', 'provincia', 'regione', 'zona_italia',\n",
    "                              'isola', 'abitanti', 'min_distanza', 'densita'])"
   ]
  },
  {
   "cell_type": "code",
   "execution_count": 97,
   "metadata": {
    "collapsed": false
   },
   "outputs": [],
   "source": [
    "def do_parse_locations(x):\n",
    "    return row1(\n",
    "        sottoarea = int(x[0]),\n",
    "        lat = float(x[1]),\n",
    "        lon = float(x[2]),  \n",
    "        citta = x[3],\n",
    "        provincia = x[4],\n",
    "        regione = x[5],\n",
    "        zona_italia = x[6],\n",
    "        isola = int(x[7]),\n",
    "        abitanti = int(x[8]),\n",
    "        min_distanza = int(x[9]),\n",
    "        densita = int(x[10])\n",
    "        )\n",
    "\n",
    "def parse_locations(sc,filepath):\n",
    "    rawRdd = sc.textFile(filepath)\n",
    "    \n",
    "    header = rawRdd.first()\n",
    "\n",
    "    # Togliamo l'header\n",
    "    rawRdd = rawRdd.filter(lambda x: x != header)\n",
    "    \n",
    "    return rawRdd.map(lambda x: x.split(\",\")).map(lambda x: do_parse_locations(x))"
   ]
  },
  {
   "cell_type": "code",
   "execution_count": 98,
   "metadata": {
    "collapsed": false
   },
   "outputs": [
    {
     "data": {
      "text/plain": [
       "sample(sottoarea=5, area=1, zona=1, prodotto=1, data='\"2014-01-01\"', timestamp=1388530800, giorno_della_settimana=3, giorno_del_mese=1, giorno_dell_anno=1, settimana_dell_anno=1, mese=1, anno=2014, festivo=1, vendite=0)"
      ]
     },
     "execution_count": 98,
     "metadata": {},
     "output_type": "execute_result"
    }
   ],
   "source": [
    "rdd.first()"
   ]
  },
  {
   "cell_type": "code",
   "execution_count": 99,
   "metadata": {
    "collapsed": false
   },
   "outputs": [
    {
     "data": {
      "text/plain": [
       "(5, [1, 1, 1, '\"2014-01-01\"', 1388530800, 3, 1, 1, 1, 1, 2014, 1, 0])"
      ]
     },
     "execution_count": 99,
     "metadata": {},
     "output_type": "execute_result"
    }
   ],
   "source": [
    "rdd1 = rdd.map(lambda x: (x[0], list(x[1:])))\n",
    "rdd1.first()"
   ]
  },
  {
   "cell_type": "code",
   "execution_count": 100,
   "metadata": {
    "collapsed": false
   },
   "outputs": [
    {
     "data": {
      "text/plain": [
       "gps(sottoarea=1, lat=37.57251433333334, lon=14.20335411764705, citta='Villarosa', provincia='EN', regione='SIC', zona_italia='Sud', isola=1, abitanti=4937, min_distanza=50450, densita=0)"
      ]
     },
     "execution_count": 100,
     "metadata": {},
     "output_type": "execute_result"
    }
   ],
   "source": [
    "rdd_gps = parse_locations(sc,\"dataset/gps_processed_andrea.csv\")\n",
    "rdd_gps.first()"
   ]
  },
  {
   "cell_type": "code",
   "execution_count": 101,
   "metadata": {
    "collapsed": false
   },
   "outputs": [
    {
     "data": {
      "text/plain": [
       "(1,\n",
       " [37.57251433333334,\n",
       "  14.20335411764705,\n",
       "  'Villarosa',\n",
       "  'EN',\n",
       "  'SIC',\n",
       "  'Sud',\n",
       "  1,\n",
       "  4937,\n",
       "  50450,\n",
       "  0])"
      ]
     },
     "execution_count": 101,
     "metadata": {},
     "output_type": "execute_result"
    }
   ],
   "source": [
    "rdd_gps1 = rdd_gps.map(lambda x: (x[0], list(x[1:])))\n",
    "rdd_gps1.first()"
   ]
  },
  {
   "cell_type": "code",
   "execution_count": 102,
   "metadata": {
    "collapsed": false
   },
   "outputs": [
    {
     "data": {
      "text/plain": [
       "[sample(sottoarea=68, area=55, zona=20, prodotto=1, data='\"2014-01-01\"', timestamp=1388530800, giorno_della_settimana=3, giorno_del_mese=1, giorno_dell_anno=1, settimana_dell_anno=1, mese=1, anno=2014, festivo=1, vendite=0),\n",
       " sample(sottoarea=68, area=55, zona=20, prodotto=1, data='\"2014-01-02\"', timestamp=1388617200, giorno_della_settimana=4, giorno_del_mese=2, giorno_dell_anno=2, settimana_dell_anno=1, mese=1, anno=2014, festivo=0, vendite=1),\n",
       " sample(sottoarea=68, area=55, zona=20, prodotto=1, data='\"2014-01-03\"', timestamp=1388703600, giorno_della_settimana=5, giorno_del_mese=3, giorno_dell_anno=3, settimana_dell_anno=1, mese=1, anno=2014, festivo=0, vendite=1),\n",
       " sample(sottoarea=68, area=55, zona=20, prodotto=1, data='\"2014-01-04\"', timestamp=1388790000, giorno_della_settimana=6, giorno_del_mese=4, giorno_dell_anno=4, settimana_dell_anno=1, mese=1, anno=2014, festivo=1, vendite=1),\n",
       " sample(sottoarea=68, area=55, zona=20, prodotto=1, data='\"2014-01-05\"', timestamp=1388876400, giorno_della_settimana=7, giorno_del_mese=5, giorno_dell_anno=5, settimana_dell_anno=2, mese=1, anno=2014, festivo=1, vendite=2),\n",
       " sample(sottoarea=68, area=55, zona=20, prodotto=1, data='\"2014-01-06\"', timestamp=1388962800, giorno_della_settimana=1, giorno_del_mese=6, giorno_dell_anno=6, settimana_dell_anno=2, mese=1, anno=2014, festivo=1, vendite=0),\n",
       " sample(sottoarea=68, area=55, zona=20, prodotto=1, data='\"2014-01-07\"', timestamp=1389049200, giorno_della_settimana=2, giorno_del_mese=7, giorno_dell_anno=7, settimana_dell_anno=2, mese=1, anno=2014, festivo=0, vendite=2),\n",
       " sample(sottoarea=68, area=55, zona=20, prodotto=1, data='\"2014-01-08\"', timestamp=1389135600, giorno_della_settimana=3, giorno_del_mese=8, giorno_dell_anno=8, settimana_dell_anno=2, mese=1, anno=2014, festivo=0, vendite=3),\n",
       " sample(sottoarea=68, area=55, zona=20, prodotto=1, data='\"2014-01-09\"', timestamp=1389222000, giorno_della_settimana=4, giorno_del_mese=9, giorno_dell_anno=9, settimana_dell_anno=2, mese=1, anno=2014, festivo=0, vendite=3),\n",
       " sample(sottoarea=68, area=55, zona=20, prodotto=1, data='\"2014-01-10\"', timestamp=1389308400, giorno_della_settimana=5, giorno_del_mese=10, giorno_dell_anno=10, settimana_dell_anno=2, mese=1, anno=2014, festivo=0, vendite=3)]"
      ]
     },
     "execution_count": 102,
     "metadata": {},
     "output_type": "execute_result"
    }
   ],
   "source": [
    "rdd.filter(lambda x: x.sottoarea == 68).take(10)"
   ]
  },
  {
   "cell_type": "code",
   "execution_count": 103,
   "metadata": {
    "collapsed": true
   },
   "outputs": [],
   "source": [
    "result = namedtuple(\"sample\", ['sottoarea', 'abitanti', 'min_distanza', 'densita', \n",
    "                                'prodotto', 'data', 'giorno_della_settimana', 'giorno_del_mese',\n",
    "                                'giorno_dell_anno', 'settimana_dell_anno', 'mese', 'anno', 'festivo', 'vendite'])"
   ]
  },
  {
   "cell_type": "code",
   "execution_count": null,
   "metadata": {
    "collapsed": true
   },
   "outputs": [],
   "source": []
  },
  {
   "cell_type": "code",
   "execution_count": 104,
   "metadata": {
    "collapsed": false
   },
   "outputs": [],
   "source": [
    "def do_parse_join(x):\n",
    "    return result(\n",
    "        sottoarea = x[0],\n",
    "        abitanti = x[1][0][7],\n",
    "        min_distanza = x[1][0][8],\n",
    "        densita = x[1][0][9] + 1, #facendo così considero anche se stesso nel raggio, evitando di avere densita 0 che con certi algoritmi potrebbe dare problemi\n",
    "        prodotto = x[1][1][2],\n",
    "        data = x[1][1][3].replace('\"', ''),\n",
    "        giorno_della_settimana = x[1][1][5],\n",
    "        giorno_del_mese = x[1][1][6],\n",
    "        giorno_dell_anno = x[1][1][7],\n",
    "        settimana_dell_anno = x[1][1][8],\n",
    "        mese = x[1][1][9],\n",
    "        anno = x[1][1][10],\n",
    "        festivo = x[1][1][11],\n",
    "        vendite = x[1][1][12],\n",
    "    )"
   ]
  },
  {
   "cell_type": "code",
   "execution_count": 105,
   "metadata": {
    "collapsed": false
   },
   "outputs": [
    {
     "data": {
      "text/plain": [
       "[(68,\n",
       "  ([38.16890584269665,\n",
       "    15.005016404494388,\n",
       "    'Patti',\n",
       "    'ME',\n",
       "    'SIC',\n",
       "    'Sud',\n",
       "    1,\n",
       "    13431,\n",
       "    33235,\n",
       "    0],\n",
       "   [55, 20, 1, '\"2014-01-01\"', 1388530800, 3, 1, 1, 1, 1, 2014, 1, 0])),\n",
       " (68,\n",
       "  ([38.16890584269665,\n",
       "    15.005016404494388,\n",
       "    'Patti',\n",
       "    'ME',\n",
       "    'SIC',\n",
       "    'Sud',\n",
       "    1,\n",
       "    13431,\n",
       "    33235,\n",
       "    0],\n",
       "   [55, 20, 1, '\"2014-01-02\"', 1388617200, 4, 2, 2, 1, 1, 2014, 0, 1])),\n",
       " (68,\n",
       "  ([38.16890584269665,\n",
       "    15.005016404494388,\n",
       "    'Patti',\n",
       "    'ME',\n",
       "    'SIC',\n",
       "    'Sud',\n",
       "    1,\n",
       "    13431,\n",
       "    33235,\n",
       "    0],\n",
       "   [55, 20, 1, '\"2014-01-03\"', 1388703600, 5, 3, 3, 1, 1, 2014, 0, 1])),\n",
       " (68,\n",
       "  ([38.16890584269665,\n",
       "    15.005016404494388,\n",
       "    'Patti',\n",
       "    'ME',\n",
       "    'SIC',\n",
       "    'Sud',\n",
       "    1,\n",
       "    13431,\n",
       "    33235,\n",
       "    0],\n",
       "   [55, 20, 1, '\"2014-01-04\"', 1388790000, 6, 4, 4, 1, 1, 2014, 1, 1])),\n",
       " (68,\n",
       "  ([38.16890584269665,\n",
       "    15.005016404494388,\n",
       "    'Patti',\n",
       "    'ME',\n",
       "    'SIC',\n",
       "    'Sud',\n",
       "    1,\n",
       "    13431,\n",
       "    33235,\n",
       "    0],\n",
       "   [55, 20, 1, '\"2014-01-05\"', 1388876400, 7, 5, 5, 2, 1, 2014, 1, 2])),\n",
       " (68,\n",
       "  ([38.16890584269665,\n",
       "    15.005016404494388,\n",
       "    'Patti',\n",
       "    'ME',\n",
       "    'SIC',\n",
       "    'Sud',\n",
       "    1,\n",
       "    13431,\n",
       "    33235,\n",
       "    0],\n",
       "   [55, 20, 1, '\"2014-01-06\"', 1388962800, 1, 6, 6, 2, 1, 2014, 1, 0])),\n",
       " (68,\n",
       "  ([38.16890584269665,\n",
       "    15.005016404494388,\n",
       "    'Patti',\n",
       "    'ME',\n",
       "    'SIC',\n",
       "    'Sud',\n",
       "    1,\n",
       "    13431,\n",
       "    33235,\n",
       "    0],\n",
       "   [55, 20, 1, '\"2014-01-07\"', 1389049200, 2, 7, 7, 2, 1, 2014, 0, 2])),\n",
       " (68,\n",
       "  ([38.16890584269665,\n",
       "    15.005016404494388,\n",
       "    'Patti',\n",
       "    'ME',\n",
       "    'SIC',\n",
       "    'Sud',\n",
       "    1,\n",
       "    13431,\n",
       "    33235,\n",
       "    0],\n",
       "   [55, 20, 1, '\"2014-01-08\"', 1389135600, 3, 8, 8, 2, 1, 2014, 0, 3])),\n",
       " (68,\n",
       "  ([38.16890584269665,\n",
       "    15.005016404494388,\n",
       "    'Patti',\n",
       "    'ME',\n",
       "    'SIC',\n",
       "    'Sud',\n",
       "    1,\n",
       "    13431,\n",
       "    33235,\n",
       "    0],\n",
       "   [55, 20, 1, '\"2014-01-09\"', 1389222000, 4, 9, 9, 2, 1, 2014, 0, 3])),\n",
       " (68,\n",
       "  ([38.16890584269665,\n",
       "    15.005016404494388,\n",
       "    'Patti',\n",
       "    'ME',\n",
       "    'SIC',\n",
       "    'Sud',\n",
       "    1,\n",
       "    13431,\n",
       "    33235,\n",
       "    0],\n",
       "   [55, 20, 1, '\"2014-01-10\"', 1389308400, 5, 10, 10, 2, 1, 2014, 0, 3]))]"
      ]
     },
     "execution_count": 105,
     "metadata": {},
     "output_type": "execute_result"
    }
   ],
   "source": [
    "rdd_gps1.join(rdd1).take(10)"
   ]
  },
  {
   "cell_type": "code",
   "execution_count": 106,
   "metadata": {
    "collapsed": false
   },
   "outputs": [
    {
     "data": {
      "text/plain": [
       "[sample(sottoarea=68, abitanti=13431, min_distanza=33235, densita=1, prodotto=1, data='2014-01-01', giorno_della_settimana=3, giorno_del_mese=1, giorno_dell_anno=1, settimana_dell_anno=1, mese=1, anno=2014, festivo=1, vendite=0),\n",
       " sample(sottoarea=68, abitanti=13431, min_distanza=33235, densita=1, prodotto=1, data='2014-01-02', giorno_della_settimana=4, giorno_del_mese=2, giorno_dell_anno=2, settimana_dell_anno=1, mese=1, anno=2014, festivo=0, vendite=1),\n",
       " sample(sottoarea=68, abitanti=13431, min_distanza=33235, densita=1, prodotto=1, data='2014-01-03', giorno_della_settimana=5, giorno_del_mese=3, giorno_dell_anno=3, settimana_dell_anno=1, mese=1, anno=2014, festivo=0, vendite=1),\n",
       " sample(sottoarea=68, abitanti=13431, min_distanza=33235, densita=1, prodotto=1, data='2014-01-04', giorno_della_settimana=6, giorno_del_mese=4, giorno_dell_anno=4, settimana_dell_anno=1, mese=1, anno=2014, festivo=1, vendite=1),\n",
       " sample(sottoarea=68, abitanti=13431, min_distanza=33235, densita=1, prodotto=1, data='2014-01-05', giorno_della_settimana=7, giorno_del_mese=5, giorno_dell_anno=5, settimana_dell_anno=2, mese=1, anno=2014, festivo=1, vendite=2)]"
      ]
     },
     "execution_count": 106,
     "metadata": {},
     "output_type": "execute_result"
    }
   ],
   "source": [
    "res = rdd_gps1.join(rdd1).map(lambda x: do_parse_join(x))\n",
    "res.take(5)"
   ]
  },
  {
   "cell_type": "code",
   "execution_count": 107,
   "metadata": {
    "collapsed": false
   },
   "outputs": [
    {
     "data": {
      "text/plain": [
       "7"
      ]
     },
     "execution_count": 107,
     "metadata": {},
     "output_type": "execute_result"
    }
   ],
   "source": [
    "res.map(lambda x: x.densita).filter(lambda x: x > 0).max()"
   ]
  },
  {
   "cell_type": "code",
   "execution_count": 108,
   "metadata": {
    "collapsed": false
   },
   "outputs": [
    {
     "data": {
      "text/plain": [
       "{1,\n",
       " 2,\n",
       " 3,\n",
       " 4,\n",
       " 5,\n",
       " 6,\n",
       " 7,\n",
       " 8,\n",
       " 9,\n",
       " 10,\n",
       " 11,\n",
       " 12,\n",
       " 13,\n",
       " 14,\n",
       " 15,\n",
       " 16,\n",
       " 17,\n",
       " 18,\n",
       " 19,\n",
       " 20,\n",
       " 21,\n",
       " 22,\n",
       " 23,\n",
       " 24,\n",
       " 25,\n",
       " 26,\n",
       " 27,\n",
       " 28,\n",
       " 29,\n",
       " 30,\n",
       " 31,\n",
       " 32,\n",
       " 33,\n",
       " 34,\n",
       " 35,\n",
       " 36,\n",
       " 37,\n",
       " 38,\n",
       " 39,\n",
       " 40,\n",
       " 41,\n",
       " 42,\n",
       " 43,\n",
       " 44,\n",
       " 45,\n",
       " 46,\n",
       " 47,\n",
       " 48,\n",
       " 49,\n",
       " 50,\n",
       " 52,\n",
       " 53,\n",
       " 54,\n",
       " 55,\n",
       " 56,\n",
       " 57,\n",
       " 58,\n",
       " 59,\n",
       " 60,\n",
       " 61,\n",
       " 62,\n",
       " 63,\n",
       " 64,\n",
       " 65,\n",
       " 66,\n",
       " 67,\n",
       " 68,\n",
       " 69,\n",
       " 70,\n",
       " 71,\n",
       " 72,\n",
       " 73,\n",
       " 74,\n",
       " 75,\n",
       " 76,\n",
       " 77,\n",
       " 78,\n",
       " 79,\n",
       " 80,\n",
       " 81,\n",
       " 82,\n",
       " 83,\n",
       " 84,\n",
       " 85,\n",
       " 86,\n",
       " 87,\n",
       " 88,\n",
       " 89,\n",
       " 90,\n",
       " 91,\n",
       " 92,\n",
       " 93,\n",
       " 94,\n",
       " 95,\n",
       " 96,\n",
       " 97,\n",
       " 98,\n",
       " 99,\n",
       " 100,\n",
       " 101,\n",
       " 102,\n",
       " 103,\n",
       " 104,\n",
       " 105,\n",
       " 106,\n",
       " 107,\n",
       " 108,\n",
       " 109,\n",
       " 110,\n",
       " 111,\n",
       " 112,\n",
       " 113,\n",
       " 114,\n",
       " 115,\n",
       " 116,\n",
       " 117,\n",
       " 118,\n",
       " 119,\n",
       " 120,\n",
       " 121,\n",
       " 122,\n",
       " 123,\n",
       " 124,\n",
       " 125,\n",
       " 126,\n",
       " 127,\n",
       " 128,\n",
       " 129,\n",
       " 130,\n",
       " 131,\n",
       " 132,\n",
       " 133,\n",
       " 134,\n",
       " 135,\n",
       " 136,\n",
       " 137,\n",
       " 138,\n",
       " 139,\n",
       " 140,\n",
       " 141,\n",
       " 142,\n",
       " 143,\n",
       " 144,\n",
       " 145}"
      ]
     },
     "execution_count": 108,
     "metadata": {},
     "output_type": "execute_result"
    }
   ],
   "source": [
    "sottoaree = set(rdd.map(lambda x: x.sottoarea).collect())\n",
    "sottoaree"
   ]
  },
  {
   "cell_type": "code",
   "execution_count": 109,
   "metadata": {
    "collapsed": true
   },
   "outputs": [],
   "source": [
    "collected_rdd = res.collect()"
   ]
  },
  {
   "cell_type": "code",
   "execution_count": 110,
   "metadata": {
    "collapsed": false
   },
   "outputs": [],
   "source": [
    "df = pd.DataFrame.from_records(collected_rdd, columns = ['sottoarea', 'abitanti', 'min_distanza', 'densita', 'prodotto', 'data',\n",
    "                                                         'giorno_della_settimana', 'giorno_del_mese', \n",
    "                                                         'giorno_dell_anno', 'settimana_dell_anno', 'mese', 'anno', 'festivo', 'vendite'])"
   ]
  },
  {
   "cell_type": "code",
   "execution_count": 111,
   "metadata": {
    "collapsed": false
   },
   "outputs": [
    {
     "data": {
      "text/html": [
       "<div>\n",
       "<table border=\"1\" class=\"dataframe\">\n",
       "  <thead>\n",
       "    <tr style=\"text-align: right;\">\n",
       "      <th></th>\n",
       "      <th>sottoarea</th>\n",
       "      <th>abitanti</th>\n",
       "      <th>min_distanza</th>\n",
       "      <th>densita</th>\n",
       "      <th>prodotto</th>\n",
       "      <th>data</th>\n",
       "      <th>giorno_della_settimana</th>\n",
       "      <th>giorno_del_mese</th>\n",
       "      <th>giorno_dell_anno</th>\n",
       "      <th>settimana_dell_anno</th>\n",
       "      <th>mese</th>\n",
       "      <th>anno</th>\n",
       "      <th>festivo</th>\n",
       "      <th>vendite</th>\n",
       "    </tr>\n",
       "  </thead>\n",
       "  <tbody>\n",
       "    <tr>\n",
       "      <th>0</th>\n",
       "      <td>68</td>\n",
       "      <td>13431</td>\n",
       "      <td>33235</td>\n",
       "      <td>1</td>\n",
       "      <td>1</td>\n",
       "      <td>2014-01-01</td>\n",
       "      <td>3</td>\n",
       "      <td>1</td>\n",
       "      <td>1</td>\n",
       "      <td>1</td>\n",
       "      <td>1</td>\n",
       "      <td>2014</td>\n",
       "      <td>1</td>\n",
       "      <td>0</td>\n",
       "    </tr>\n",
       "    <tr>\n",
       "      <th>1</th>\n",
       "      <td>68</td>\n",
       "      <td>13431</td>\n",
       "      <td>33235</td>\n",
       "      <td>1</td>\n",
       "      <td>1</td>\n",
       "      <td>2014-01-02</td>\n",
       "      <td>4</td>\n",
       "      <td>2</td>\n",
       "      <td>2</td>\n",
       "      <td>1</td>\n",
       "      <td>1</td>\n",
       "      <td>2014</td>\n",
       "      <td>0</td>\n",
       "      <td>1</td>\n",
       "    </tr>\n",
       "    <tr>\n",
       "      <th>2</th>\n",
       "      <td>68</td>\n",
       "      <td>13431</td>\n",
       "      <td>33235</td>\n",
       "      <td>1</td>\n",
       "      <td>1</td>\n",
       "      <td>2014-01-03</td>\n",
       "      <td>5</td>\n",
       "      <td>3</td>\n",
       "      <td>3</td>\n",
       "      <td>1</td>\n",
       "      <td>1</td>\n",
       "      <td>2014</td>\n",
       "      <td>0</td>\n",
       "      <td>1</td>\n",
       "    </tr>\n",
       "    <tr>\n",
       "      <th>3</th>\n",
       "      <td>68</td>\n",
       "      <td>13431</td>\n",
       "      <td>33235</td>\n",
       "      <td>1</td>\n",
       "      <td>1</td>\n",
       "      <td>2014-01-04</td>\n",
       "      <td>6</td>\n",
       "      <td>4</td>\n",
       "      <td>4</td>\n",
       "      <td>1</td>\n",
       "      <td>1</td>\n",
       "      <td>2014</td>\n",
       "      <td>1</td>\n",
       "      <td>1</td>\n",
       "    </tr>\n",
       "    <tr>\n",
       "      <th>4</th>\n",
       "      <td>68</td>\n",
       "      <td>13431</td>\n",
       "      <td>33235</td>\n",
       "      <td>1</td>\n",
       "      <td>1</td>\n",
       "      <td>2014-01-05</td>\n",
       "      <td>7</td>\n",
       "      <td>5</td>\n",
       "      <td>5</td>\n",
       "      <td>2</td>\n",
       "      <td>1</td>\n",
       "      <td>2014</td>\n",
       "      <td>1</td>\n",
       "      <td>2</td>\n",
       "    </tr>\n",
       "    <tr>\n",
       "      <th>5</th>\n",
       "      <td>68</td>\n",
       "      <td>13431</td>\n",
       "      <td>33235</td>\n",
       "      <td>1</td>\n",
       "      <td>1</td>\n",
       "      <td>2014-01-06</td>\n",
       "      <td>1</td>\n",
       "      <td>6</td>\n",
       "      <td>6</td>\n",
       "      <td>2</td>\n",
       "      <td>1</td>\n",
       "      <td>2014</td>\n",
       "      <td>1</td>\n",
       "      <td>0</td>\n",
       "    </tr>\n",
       "    <tr>\n",
       "      <th>6</th>\n",
       "      <td>68</td>\n",
       "      <td>13431</td>\n",
       "      <td>33235</td>\n",
       "      <td>1</td>\n",
       "      <td>1</td>\n",
       "      <td>2014-01-07</td>\n",
       "      <td>2</td>\n",
       "      <td>7</td>\n",
       "      <td>7</td>\n",
       "      <td>2</td>\n",
       "      <td>1</td>\n",
       "      <td>2014</td>\n",
       "      <td>0</td>\n",
       "      <td>2</td>\n",
       "    </tr>\n",
       "    <tr>\n",
       "      <th>7</th>\n",
       "      <td>68</td>\n",
       "      <td>13431</td>\n",
       "      <td>33235</td>\n",
       "      <td>1</td>\n",
       "      <td>1</td>\n",
       "      <td>2014-01-08</td>\n",
       "      <td>3</td>\n",
       "      <td>8</td>\n",
       "      <td>8</td>\n",
       "      <td>2</td>\n",
       "      <td>1</td>\n",
       "      <td>2014</td>\n",
       "      <td>0</td>\n",
       "      <td>3</td>\n",
       "    </tr>\n",
       "    <tr>\n",
       "      <th>8</th>\n",
       "      <td>68</td>\n",
       "      <td>13431</td>\n",
       "      <td>33235</td>\n",
       "      <td>1</td>\n",
       "      <td>1</td>\n",
       "      <td>2014-01-09</td>\n",
       "      <td>4</td>\n",
       "      <td>9</td>\n",
       "      <td>9</td>\n",
       "      <td>2</td>\n",
       "      <td>1</td>\n",
       "      <td>2014</td>\n",
       "      <td>0</td>\n",
       "      <td>3</td>\n",
       "    </tr>\n",
       "    <tr>\n",
       "      <th>9</th>\n",
       "      <td>68</td>\n",
       "      <td>13431</td>\n",
       "      <td>33235</td>\n",
       "      <td>1</td>\n",
       "      <td>1</td>\n",
       "      <td>2014-01-10</td>\n",
       "      <td>5</td>\n",
       "      <td>10</td>\n",
       "      <td>10</td>\n",
       "      <td>2</td>\n",
       "      <td>1</td>\n",
       "      <td>2014</td>\n",
       "      <td>0</td>\n",
       "      <td>3</td>\n",
       "    </tr>\n",
       "  </tbody>\n",
       "</table>\n",
       "</div>"
      ],
      "text/plain": [
       "   sottoarea  abitanti  min_distanza  densita  prodotto        data  \\\n",
       "0         68     13431         33235        1         1  2014-01-01   \n",
       "1         68     13431         33235        1         1  2014-01-02   \n",
       "2         68     13431         33235        1         1  2014-01-03   \n",
       "3         68     13431         33235        1         1  2014-01-04   \n",
       "4         68     13431         33235        1         1  2014-01-05   \n",
       "5         68     13431         33235        1         1  2014-01-06   \n",
       "6         68     13431         33235        1         1  2014-01-07   \n",
       "7         68     13431         33235        1         1  2014-01-08   \n",
       "8         68     13431         33235        1         1  2014-01-09   \n",
       "9         68     13431         33235        1         1  2014-01-10   \n",
       "\n",
       "   giorno_della_settimana  giorno_del_mese  giorno_dell_anno  \\\n",
       "0                       3                1                 1   \n",
       "1                       4                2                 2   \n",
       "2                       5                3                 3   \n",
       "3                       6                4                 4   \n",
       "4                       7                5                 5   \n",
       "5                       1                6                 6   \n",
       "6                       2                7                 7   \n",
       "7                       3                8                 8   \n",
       "8                       4                9                 9   \n",
       "9                       5               10                10   \n",
       "\n",
       "   settimana_dell_anno  mese  anno  festivo  vendite  \n",
       "0                    1     1  2014        1        0  \n",
       "1                    1     1  2014        0        1  \n",
       "2                    1     1  2014        0        1  \n",
       "3                    1     1  2014        1        1  \n",
       "4                    2     1  2014        1        2  \n",
       "5                    2     1  2014        1        0  \n",
       "6                    2     1  2014        0        2  \n",
       "7                    2     1  2014        0        3  \n",
       "8                    2     1  2014        0        3  \n",
       "9                    2     1  2014        0        3  "
      ]
     },
     "execution_count": 111,
     "metadata": {},
     "output_type": "execute_result"
    }
   ],
   "source": [
    "df[0:10]"
   ]
  },
  {
   "cell_type": "code",
   "execution_count": 112,
   "metadata": {
    "collapsed": false
   },
   "outputs": [],
   "source": [
    "#df[1:10].values"
   ]
  },
  {
   "cell_type": "code",
   "execution_count": 113,
   "metadata": {
    "collapsed": false
   },
   "outputs": [],
   "source": [
    "#df.to_csv('dataset_polimi_andrea3.csv', sep=',', index=False)"
   ]
  },
  {
   "cell_type": "code",
   "execution_count": 114,
   "metadata": {
    "collapsed": false
   },
   "outputs": [],
   "source": [
    "#df[1:10].sottoarea"
   ]
  },
  {
   "cell_type": "code",
   "execution_count": 115,
   "metadata": {
    "collapsed": false
   },
   "outputs": [
    {
     "name": "stdout",
     "output_type": "stream",
     "text": [
      "1\n",
      "2\n",
      "3\n",
      "4\n",
      "5\n",
      "6\n",
      "7\n",
      "8\n",
      "9\n",
      "10\n",
      "11\n",
      "12\n",
      "13\n",
      "14\n",
      "15\n",
      "16\n",
      "17\n",
      "18\n",
      "19\n",
      "20\n",
      "21\n",
      "22\n",
      "23\n",
      "24\n",
      "25\n",
      "26\n",
      "27\n",
      "28\n",
      "29\n",
      "30\n",
      "31\n",
      "32\n",
      "33\n",
      "34\n",
      "35\n",
      "36\n",
      "37\n",
      "38\n",
      "39\n",
      "40\n",
      "41\n",
      "42\n",
      "43\n",
      "44\n",
      "45\n",
      "46\n",
      "47\n",
      "48\n",
      "49\n",
      "50\n",
      "52\n",
      "53\n",
      "54\n",
      "55\n",
      "56\n",
      "57\n",
      "58\n",
      "59\n",
      "60\n",
      "61\n",
      "62\n",
      "63\n",
      "64\n",
      "65\n",
      "66\n",
      "67\n",
      "68\n",
      "69\n",
      "70\n",
      "71\n",
      "72\n",
      "73\n",
      "74\n",
      "75\n",
      "76\n",
      "77\n",
      "78\n",
      "79\n",
      "80\n",
      "81\n",
      "82\n",
      "83\n",
      "84\n",
      "85\n",
      "86\n",
      "87\n",
      "88\n",
      "89\n",
      "90\n",
      "91\n",
      "92\n",
      "93\n",
      "94\n",
      "95\n",
      "96\n",
      "97\n",
      "98\n",
      "99\n",
      "100\n",
      "101\n",
      "102\n",
      "103\n",
      "104\n",
      "105\n",
      "106\n",
      "107\n",
      "108\n",
      "109\n",
      "110\n",
      "111\n",
      "112\n",
      "113\n",
      "114\n",
      "115\n",
      "116\n",
      "117\n",
      "118\n",
      "119\n",
      "120\n",
      "121\n",
      "122\n",
      "123\n",
      "124\n",
      "125\n",
      "126\n",
      "127\n",
      "128\n",
      "129\n",
      "130\n",
      "131\n",
      "132\n",
      "133\n",
      "134\n",
      "135\n",
      "136\n",
      "137\n",
      "138\n",
      "139\n",
      "140\n",
      "141\n",
      "142\n",
      "143\n",
      "144\n",
      "145\n"
     ]
    },
    {
     "data": {
      "image/png": "[encoded data removed]",
      "text/plain": [
       "<matplotlib.figure.Figure at 0x11f7d0f98>"
      ]
     },
     "metadata": {},
     "output_type": "display_data"
    },
    {
     "data": {
      "image/png": "[encoded data removed]",
      "text/plain": [
       "<matplotlib.figure.Figure at 0x11f8b6198>"
      ]
     },
     "metadata": {},
     "output_type": "display_data"
    }
   ],
   "source": [
    "def do_parse_sub(x, max2):\n",
    "    return result(\n",
    "        sottoarea = x[0],\n",
    "        abitanti = x[1],\n",
    "        min_distanza = x[2],\n",
    "        densita = x[3],\n",
    "        prodotto = x[4],\n",
    "        data = x[5],\n",
    "        giorno_della_settimana = x[6],\n",
    "        giorno_del_mese = x[7],\n",
    "        giorno_dell_anno = x[8],\n",
    "        settimana_dell_anno = x[9],\n",
    "        mese = x[10],\n",
    "        anno = x[11],\n",
    "        festivo = x[12],\n",
    "        vendite = max2,\n",
    "    )\n",
    "\n",
    "m_outlier_1 = []\n",
    "m2_1 = []\n",
    "\n",
    "m_outlier_2 = []\n",
    "m2_2 = []\n",
    "\n",
    "for s in sottoaree:\n",
    "    prod1 = res.filter(lambda x: x.prodotto == 1 and x.sottoarea == s)\n",
    "    m_out = prod1.filter(lambda x: x.data == '2014-06-30').map(lambda x: x.vendite).max()\n",
    "    m_outlier_1.append(m_out)\n",
    "    max2 = prod1.map(lambda x: x.vendite if x.data != '2014-06-30' else 0).max()\n",
    "    m2_1.append(max2)\n",
    "    prod1 = prod1.map(lambda x: x if x.data != '2014-06-30' or (x.data == '2014-06-30' and x.vendite <= max2) else do_parse_sub(x, max2))\n",
    "    collected_rdd1 = prod1.collect()\n",
    "    df1 = pd.DataFrame.from_records(collected_rdd1, columns = ['sottoarea', 'abitanti', 'min_distanza', 'densita', 'prodotto', 'data',\n",
    "                                                         'giorno_della_settimana', 'giorno_del_mese', \n",
    "                                                         'giorno_dell_anno', 'settimana_dell_anno', 'mese', 'anno', 'festivo', 'vendite'])\n",
    "    #df1.to_csv('dataset/prodotto_sottoarea/prodotto1_sottoarea' + str(s) +'.csv', sep=',', index=False)\n",
    "    \n",
    "    prod2 = res.filter(lambda x: x.prodotto == 2 and x.sottoarea == s)\n",
    "    m_out = prod2.filter(lambda x: x.data == '2014-06-30').map(lambda x: x.vendite).max()\n",
    "    m_outlier_2.append(m_out)\n",
    "    max2 = prod2.map(lambda x: x.vendite if x.data != '2014-06-30' else 0).max()\n",
    "    m2_2.append(max2)\n",
    "    prod2 = prod2.map(lambda x: x if x.data != '2014-06-30' or (x.data == '2014-06-30' and x.vendite <= max2) else do_parse_sub(x, max2))\n",
    "    collected_rdd2 = prod2.collect()\n",
    "    df2 = pd.DataFrame.from_records(collected_rdd2, columns = ['sottoarea', 'abitanti', 'min_distanza', 'densita', 'prodotto', 'data',\n",
    "                                                        'giorno_della_settimana', 'giorno_del_mese', \n",
    "                                                         'giorno_dell_anno', 'settimana_dell_anno', 'mese', 'anno', 'festivo', 'vendite'])\n",
    "    #df2.to_csv('dataset/prodotto_sottoarea/prodotto2_sottoarea' + str(s) +'.csv', sep=',', index=False)\n",
    "    print(s)\n",
    "    \n",
    "fig = plt.figure(figsize=(10,5))\n",
    "plot1 = plt.plot(list(sottoaree), m_outlier_1, 'r', list(sottoaree), m2_1, 'b')\n",
    "\n",
    "fig = plt.figure(figsize=(10,5))\n",
    "plot2 = plt.plot(list(sottoaree), m_outlier_2, 'r', list(sottoaree), m2_2, 'b')"
   ]
  },
  {
   "cell_type": "code",
   "execution_count": 116,
   "metadata": {
    "collapsed": false
   },
   "outputs": [
    {
     "name": "stdout",
     "output_type": "stream",
     "text": [
      "1\n",
      "2\n",
      "3\n",
      "4\n",
      "5\n",
      "6\n",
      "7\n",
      "8\n",
      "9\n",
      "10\n",
      "11\n",
      "12\n",
      "13\n",
      "14\n",
      "15\n",
      "16\n",
      "17\n",
      "18\n",
      "19\n",
      "20\n",
      "21\n",
      "22\n",
      "23\n",
      "24\n",
      "25\n",
      "26\n",
      "27\n",
      "28\n",
      "29\n",
      "30\n",
      "31\n",
      "32\n",
      "33\n",
      "34\n",
      "35\n",
      "36\n",
      "37\n",
      "38\n",
      "39\n",
      "40\n",
      "41\n",
      "42\n",
      "43\n",
      "44\n",
      "45\n",
      "46\n",
      "47\n",
      "48\n",
      "49\n",
      "50\n",
      "52\n",
      "53\n",
      "54\n",
      "55\n",
      "56\n",
      "57\n",
      "58\n",
      "59\n",
      "60\n",
      "61\n",
      "62\n",
      "63\n",
      "64\n",
      "65\n",
      "66\n",
      "67\n",
      "68\n",
      "69\n",
      "70\n",
      "71\n",
      "72\n",
      "73\n",
      "74\n",
      "75\n",
      "76\n",
      "77\n",
      "78\n",
      "79\n",
      "80\n",
      "81\n",
      "82\n",
      "83\n",
      "84\n",
      "85\n",
      "86\n",
      "87\n",
      "88\n",
      "89\n",
      "90\n",
      "91\n",
      "92\n",
      "93\n",
      "94\n",
      "95\n",
      "96\n",
      "97\n",
      "98\n",
      "99\n",
      "100\n",
      "101\n",
      "102\n",
      "103\n",
      "104\n",
      "105\n",
      "106\n",
      "107\n",
      "108\n",
      "109\n",
      "110\n",
      "111\n",
      "112\n",
      "113\n",
      "114\n",
      "115\n",
      "116\n",
      "117\n",
      "118\n",
      "119\n",
      "120\n",
      "121\n",
      "122\n",
      "123\n",
      "124\n",
      "125\n",
      "126\n",
      "127\n",
      "128\n",
      "129\n",
      "130\n",
      "131\n",
      "132\n",
      "133\n",
      "134\n",
      "135\n",
      "136\n",
      "137\n",
      "138\n",
      "139\n",
      "140\n",
      "141\n",
      "142\n",
      "143\n",
      "144\n",
      "145\n"
     ]
    }
   ],
   "source": [
    "def do_parse_sub(x, max2):\n",
    "    return result(\n",
    "        sottoarea = x[0],\n",
    "        abitanti = x[1],\n",
    "        min_distanza = x[2],\n",
    "        densita = x[3],\n",
    "        prodotto = x[4],\n",
    "        data = x[5],\n",
    "        giorno_della_settimana = x[6],\n",
    "        giorno_del_mese = x[7],\n",
    "        giorno_dell_anno = x[8],\n",
    "        settimana_dell_anno = x[9],\n",
    "        mese = x[10],\n",
    "        anno = x[11],\n",
    "        festivo = x[12],\n",
    "        vendite = max2,\n",
    "    )\n",
    "\n",
    "m_outlier_1 = []\n",
    "m2_1 = []\n",
    "\n",
    "m_outlier_2 = []\n",
    "m2_2 = []\n",
    "\n",
    "for s in sottoaree:\n",
    "    prod1 = res.filter(lambda x: x.prodotto == 1 and x.sottoarea == s)\n",
    "    #m_out = prod1.filter(lambda x: x.data == '2014-06-30').map(lambda x: x.vendite).max()\n",
    "    #m_outlier_1.append(m_out)\n",
    "    max2 = prod1.map(lambda x: x.vendite if x.data != '2014-06-30' else 0).max()\n",
    "    #m2_1.append(max2)\n",
    "    prod1 = prod1.map(lambda x: x if x.data != '2014-06-30' or (x.data == '2014-06-30' and x.vendite <= max2) else do_parse_sub(x, max2))\n",
    "    collected_rdd1 = prod1.collect()\n",
    "    df1 = pd.DataFrame.from_records(collected_rdd1, columns = ['sottoarea', 'abitanti', 'min_distanza', 'densita', 'prodotto', 'data',\n",
    "                                                         'giorno_della_settimana', 'giorno_del_mese', \n",
    "                                                         'giorno_dell_anno', 'settimana_dell_anno', 'mese', 'anno', 'festivo', 'vendite'])\n",
    "    df1.to_csv('dataset/prodotto_sottoarea/prodotto1_sottoarea' + str(s) +'.csv', sep=',', index=False)\n",
    "    \n",
    "    prod2 = res.filter(lambda x: x.prodotto == 2 and x.sottoarea == s)\n",
    "    #m_out = prod2.filter(lambda x: x.data == '2014-06-30').map(lambda x: x.vendite).max()\n",
    "    #m_outlier_2.append(m_out)\n",
    "    max2 = prod2.map(lambda x: x.vendite if x.data != '2014-06-30' else 0).max()\n",
    "    #m2_2.append(max2)\n",
    "    prod2 = prod2.map(lambda x: x if x.data != '2014-06-30' or (x.data == '2014-06-30' and x.vendite <= max2) else do_parse_sub(x, max2))\n",
    "    collected_rdd2 = prod2.collect()\n",
    "    df2 = pd.DataFrame.from_records(collected_rdd2, columns = ['sottoarea', 'abitanti', 'min_distanza', 'densita', 'prodotto', 'data',\n",
    "                                                        'giorno_della_settimana', 'giorno_del_mese', \n",
    "                                                         'giorno_dell_anno', 'settimana_dell_anno', 'mese', 'anno', 'festivo', 'vendite'])\n",
    "    df2.to_csv('dataset/prodotto_sottoarea/prodotto2_sottoarea' + str(s) +'.csv', sep=',', index=False)\n",
    "    print(s)\n",
    "    \n",
    "#fig = plt.figure(figsize=(10,5))\n",
    "#plot1 = plt.plot(list(sottoaree), m_outlier_1, 'r', list(sottoaree), m2_1, 'b')\n",
    "\n",
    "#fig = plt.figure(figsize=(10,5))\n",
    "#plot2 = plt.plot(list(sottoaree), m_outlier_2, 'r', list(sottoaree), m2_2, 'b')"
   ]
  }
 ],
 "metadata": {
  "kernelspec": {
   "display_name": "Python 3",
   "language": "python",
   "name": "python3"
  },
  "language_info": {
   "codemirror_mode": {
    "name": "ipython",
    "version": 3
   },
   "file_extension": ".py",
   "mimetype": "text/x-python",
   "name": "python",
   "nbconvert_exporter": "python",
   "pygments_lexer": "ipython3",
   "version": "3.5.1"
  },
  "widgets": {
   "state": {},
   "version": "1.1.2"
  }
 },
 "nbformat": 4,
 "nbformat_minor": 0
}
