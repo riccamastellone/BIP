{
 "cells": [
  {
   "cell_type": "markdown",
   "metadata": {},
   "source": [
    "XGBoost\n",
    "==="
   ]
  },
  {
   "cell_type": "code",
   "execution_count": 1,
   "metadata": {
    "collapsed": false
   },
   "outputs": [],
   "source": [
    "import xgboost as xgb\n",
    "from scipy.sparse import csr_matrix\n",
    "import pandas as pd\n",
    "import numpy as np\n",
    "import scipy as sc\n",
    "from sklearn import preprocessing\n",
    "from sklearn.grid_search import GridSearchCV"
   ]
  },
  {
   "cell_type": "markdown",
   "metadata": {},
   "source": [
    "Algorithms\n",
    "---"
   ]
  },
  {
   "cell_type": "code",
   "execution_count": 2,
   "metadata": {
    "collapsed": false
   },
   "outputs": [],
   "source": [
    "# Parsing\n",
    "\n",
    "#train_set = pd.read_csv('https://media.githubusercontent.com/media/riccamastellone/BIP/master/dataset/output/dataset_polimi_extended_with_province.csv?token=AJr57772_45EhdrKvwKTKj088rhOjaNwks5XcTOFwA%3D%3D',delimiter=',')\n",
    "train_set = pd.read_csv('https://raw.githubusercontent.com/riccamastellone/BIP/master/dataset/output/dataset_polimi_extended_no2014.csv?token=AJr576cQljkvIkao9t78T4EZwajLHZvkks5Xe29WwA%3D%3D',delimiter=',')\n",
    "#test_set = pd.read_csv('https://raw.githubusercontent.com/riccamastellone/BIP/master/dataset/output/test_with_features.csv?token=AJr572V5PSQQk_et0pEphHlyIPeQGxChks5XcT0gwA%3D%3D',delimiter=',')\n",
    "test_set = pd.read_csv('https://raw.githubusercontent.com/riccamastellone/BIP/master/dataset/output/test_with_features.csv?token=AJr570gdvqYtMTESBVV4kcyqmrzIDar5ks5Xe2_AwA%3D%3D',delimiter=',')\n",
    "#test_set = pd.read_csv(\"https://raw.githubusercontent.com/riccamastellone/BIP/master/dataset/output/test_with_features_with_provincie.csv?token=AJr577ZlQvRoERZYYis2-iIT_trl1r7Jks5Xel_4wA%3D%3D\",delimiter=',')\n",
    "pd.options.mode.chained_assignment = None\n",
    "#Id_ts = test_['ID']\n",
    "#test_set.drop('ID',axis=1,inplace=True)"
   ]
  },
  {
   "cell_type": "code",
   "execution_count": 3,
   "metadata": {
    "collapsed": false
   },
   "outputs": [
    {
     "data": {
      "text/html": [
       "<div>\n",
       "<table border=\"1\" class=\"dataframe\">\n",
       "  <thead>\n",
       "    <tr style=\"text-align: right;\">\n",
       "      <th></th>\n",
       "      <th>zona</th>\n",
       "      <th>area</th>\n",
       "      <th>sottoarea</th>\n",
       "      <th>categoria</th>\n",
       "      <th>timestamp</th>\n",
       "      <th>giorno_della_settimana</th>\n",
       "      <th>giorno_del_mese</th>\n",
       "      <th>giorno_dell_anno</th>\n",
       "      <th>settimana_dell_anno</th>\n",
       "      <th>mese</th>\n",
       "      <th>...</th>\n",
       "      <th>regione_PUG</th>\n",
       "      <th>regione_SAR</th>\n",
       "      <th>regione_SIC</th>\n",
       "      <th>regione_TAA</th>\n",
       "      <th>regione_TOS</th>\n",
       "      <th>regione_UMB</th>\n",
       "      <th>regione_VEN</th>\n",
       "      <th>zona_italia_Centro</th>\n",
       "      <th>zona_italia_Nord</th>\n",
       "      <th>zona_italia_Sud</th>\n",
       "    </tr>\n",
       "  </thead>\n",
       "  <tbody>\n",
       "    <tr>\n",
       "      <th>0</th>\n",
       "      <td>1</td>\n",
       "      <td>1</td>\n",
       "      <td>5</td>\n",
       "      <td>1</td>\n",
       "      <td>1420070400</td>\n",
       "      <td>3</td>\n",
       "      <td>1</td>\n",
       "      <td>1</td>\n",
       "      <td>0</td>\n",
       "      <td>1</td>\n",
       "      <td>...</td>\n",
       "      <td>0.0</td>\n",
       "      <td>0.0</td>\n",
       "      <td>0.0</td>\n",
       "      <td>0.0</td>\n",
       "      <td>0.0</td>\n",
       "      <td>0.0</td>\n",
       "      <td>0.0</td>\n",
       "      <td>0.0</td>\n",
       "      <td>0.0</td>\n",
       "      <td>1.0</td>\n",
       "    </tr>\n",
       "    <tr>\n",
       "      <th>1</th>\n",
       "      <td>1</td>\n",
       "      <td>1</td>\n",
       "      <td>5</td>\n",
       "      <td>1</td>\n",
       "      <td>1420156800</td>\n",
       "      <td>4</td>\n",
       "      <td>2</td>\n",
       "      <td>2</td>\n",
       "      <td>0</td>\n",
       "      <td>1</td>\n",
       "      <td>...</td>\n",
       "      <td>0.0</td>\n",
       "      <td>0.0</td>\n",
       "      <td>0.0</td>\n",
       "      <td>0.0</td>\n",
       "      <td>0.0</td>\n",
       "      <td>0.0</td>\n",
       "      <td>0.0</td>\n",
       "      <td>0.0</td>\n",
       "      <td>0.0</td>\n",
       "      <td>1.0</td>\n",
       "    </tr>\n",
       "    <tr>\n",
       "      <th>2</th>\n",
       "      <td>1</td>\n",
       "      <td>1</td>\n",
       "      <td>5</td>\n",
       "      <td>1</td>\n",
       "      <td>1420243200</td>\n",
       "      <td>5</td>\n",
       "      <td>3</td>\n",
       "      <td>3</td>\n",
       "      <td>0</td>\n",
       "      <td>1</td>\n",
       "      <td>...</td>\n",
       "      <td>0.0</td>\n",
       "      <td>0.0</td>\n",
       "      <td>0.0</td>\n",
       "      <td>0.0</td>\n",
       "      <td>0.0</td>\n",
       "      <td>0.0</td>\n",
       "      <td>0.0</td>\n",
       "      <td>0.0</td>\n",
       "      <td>0.0</td>\n",
       "      <td>1.0</td>\n",
       "    </tr>\n",
       "    <tr>\n",
       "      <th>3</th>\n",
       "      <td>1</td>\n",
       "      <td>1</td>\n",
       "      <td>5</td>\n",
       "      <td>1</td>\n",
       "      <td>1420329600</td>\n",
       "      <td>6</td>\n",
       "      <td>4</td>\n",
       "      <td>4</td>\n",
       "      <td>1</td>\n",
       "      <td>1</td>\n",
       "      <td>...</td>\n",
       "      <td>0.0</td>\n",
       "      <td>0.0</td>\n",
       "      <td>0.0</td>\n",
       "      <td>0.0</td>\n",
       "      <td>0.0</td>\n",
       "      <td>0.0</td>\n",
       "      <td>0.0</td>\n",
       "      <td>0.0</td>\n",
       "      <td>0.0</td>\n",
       "      <td>1.0</td>\n",
       "    </tr>\n",
       "    <tr>\n",
       "      <th>4</th>\n",
       "      <td>1</td>\n",
       "      <td>1</td>\n",
       "      <td>5</td>\n",
       "      <td>1</td>\n",
       "      <td>1420416000</td>\n",
       "      <td>0</td>\n",
       "      <td>5</td>\n",
       "      <td>5</td>\n",
       "      <td>1</td>\n",
       "      <td>1</td>\n",
       "      <td>...</td>\n",
       "      <td>0.0</td>\n",
       "      <td>0.0</td>\n",
       "      <td>0.0</td>\n",
       "      <td>0.0</td>\n",
       "      <td>0.0</td>\n",
       "      <td>0.0</td>\n",
       "      <td>0.0</td>\n",
       "      <td>0.0</td>\n",
       "      <td>0.0</td>\n",
       "      <td>1.0</td>\n",
       "    </tr>\n",
       "  </tbody>\n",
       "</table>\n",
       "<p>5 rows × 44 columns</p>\n",
       "</div>"
      ],
      "text/plain": [
       "   zona  area  sottoarea  categoria   timestamp  giorno_della_settimana  \\\n",
       "0     1     1          5          1  1420070400                       3   \n",
       "1     1     1          5          1  1420156800                       4   \n",
       "2     1     1          5          1  1420243200                       5   \n",
       "3     1     1          5          1  1420329600                       6   \n",
       "4     1     1          5          1  1420416000                       0   \n",
       "\n",
       "   giorno_del_mese  giorno_dell_anno  settimana_dell_anno  mese  \\\n",
       "0                1                 1                    0     1   \n",
       "1                2                 2                    0     1   \n",
       "2                3                 3                    0     1   \n",
       "3                4                 4                    1     1   \n",
       "4                5                 5                    1     1   \n",
       "\n",
       "        ...         regione_PUG  regione_SAR  regione_SIC  regione_TAA  \\\n",
       "0       ...                 0.0          0.0          0.0          0.0   \n",
       "1       ...                 0.0          0.0          0.0          0.0   \n",
       "2       ...                 0.0          0.0          0.0          0.0   \n",
       "3       ...                 0.0          0.0          0.0          0.0   \n",
       "4       ...                 0.0          0.0          0.0          0.0   \n",
       "\n",
       "   regione_TOS  regione_UMB  regione_VEN  zona_italia_Centro  \\\n",
       "0          0.0          0.0          0.0                 0.0   \n",
       "1          0.0          0.0          0.0                 0.0   \n",
       "2          0.0          0.0          0.0                 0.0   \n",
       "3          0.0          0.0          0.0                 0.0   \n",
       "4          0.0          0.0          0.0                 0.0   \n",
       "\n",
       "   zona_italia_Nord  zona_italia_Sud  \n",
       "0               0.0              1.0  \n",
       "1               0.0              1.0  \n",
       "2               0.0              1.0  \n",
       "3               0.0              1.0  \n",
       "4               0.0              1.0  \n",
       "\n",
       "[5 rows x 44 columns]"
      ]
     },
     "execution_count": 3,
     "metadata": {},
     "output_type": "execute_result"
    }
   ],
   "source": [
    "train_set.head()"
   ]
  },
  {
   "cell_type": "code",
   "execution_count": 4,
   "metadata": {
    "collapsed": false
   },
   "outputs": [
    {
     "data": {
      "text/html": [
       "<div>\n",
       "<table border=\"1\" class=\"dataframe\">\n",
       "  <thead>\n",
       "    <tr style=\"text-align: right;\">\n",
       "      <th></th>\n",
       "      <th>zona</th>\n",
       "      <th>area</th>\n",
       "      <th>sottoarea</th>\n",
       "      <th>categoria</th>\n",
       "      <th>timestamp</th>\n",
       "      <th>giorno_della_settimana</th>\n",
       "      <th>giorno_del_mese</th>\n",
       "      <th>giorno_dell_anno</th>\n",
       "      <th>settimana_dell_anno</th>\n",
       "      <th>mese</th>\n",
       "      <th>...</th>\n",
       "      <th>regione_PUG</th>\n",
       "      <th>regione_SAR</th>\n",
       "      <th>regione_SIC</th>\n",
       "      <th>regione_TAA</th>\n",
       "      <th>regione_TOS</th>\n",
       "      <th>regione_UMB</th>\n",
       "      <th>regione_VEN</th>\n",
       "      <th>zona_italia_Centro</th>\n",
       "      <th>zona_italia_Nord</th>\n",
       "      <th>zona_italia_Sud</th>\n",
       "    </tr>\n",
       "  </thead>\n",
       "  <tbody>\n",
       "    <tr>\n",
       "      <th>0</th>\n",
       "      <td>10</td>\n",
       "      <td>26</td>\n",
       "      <td>67</td>\n",
       "      <td>1</td>\n",
       "      <td>1463702400</td>\n",
       "      <td>4</td>\n",
       "      <td>20</td>\n",
       "      <td>141</td>\n",
       "      <td>20</td>\n",
       "      <td>5</td>\n",
       "      <td>...</td>\n",
       "      <td>0.0</td>\n",
       "      <td>0.0</td>\n",
       "      <td>0.0</td>\n",
       "      <td>0.0</td>\n",
       "      <td>0.0</td>\n",
       "      <td>0.0</td>\n",
       "      <td>0.0</td>\n",
       "      <td>0.0</td>\n",
       "      <td>1.0</td>\n",
       "      <td>0.0</td>\n",
       "    </tr>\n",
       "    <tr>\n",
       "      <th>1</th>\n",
       "      <td>10</td>\n",
       "      <td>26</td>\n",
       "      <td>67</td>\n",
       "      <td>2</td>\n",
       "      <td>1463702400</td>\n",
       "      <td>4</td>\n",
       "      <td>20</td>\n",
       "      <td>141</td>\n",
       "      <td>20</td>\n",
       "      <td>5</td>\n",
       "      <td>...</td>\n",
       "      <td>0.0</td>\n",
       "      <td>0.0</td>\n",
       "      <td>0.0</td>\n",
       "      <td>0.0</td>\n",
       "      <td>0.0</td>\n",
       "      <td>0.0</td>\n",
       "      <td>0.0</td>\n",
       "      <td>0.0</td>\n",
       "      <td>1.0</td>\n",
       "      <td>0.0</td>\n",
       "    </tr>\n",
       "    <tr>\n",
       "      <th>2</th>\n",
       "      <td>10</td>\n",
       "      <td>26</td>\n",
       "      <td>67</td>\n",
       "      <td>1</td>\n",
       "      <td>1463788800</td>\n",
       "      <td>5</td>\n",
       "      <td>21</td>\n",
       "      <td>142</td>\n",
       "      <td>20</td>\n",
       "      <td>5</td>\n",
       "      <td>...</td>\n",
       "      <td>0.0</td>\n",
       "      <td>0.0</td>\n",
       "      <td>0.0</td>\n",
       "      <td>0.0</td>\n",
       "      <td>0.0</td>\n",
       "      <td>0.0</td>\n",
       "      <td>0.0</td>\n",
       "      <td>0.0</td>\n",
       "      <td>1.0</td>\n",
       "      <td>0.0</td>\n",
       "    </tr>\n",
       "    <tr>\n",
       "      <th>3</th>\n",
       "      <td>10</td>\n",
       "      <td>26</td>\n",
       "      <td>67</td>\n",
       "      <td>2</td>\n",
       "      <td>1463788800</td>\n",
       "      <td>5</td>\n",
       "      <td>21</td>\n",
       "      <td>142</td>\n",
       "      <td>20</td>\n",
       "      <td>5</td>\n",
       "      <td>...</td>\n",
       "      <td>0.0</td>\n",
       "      <td>0.0</td>\n",
       "      <td>0.0</td>\n",
       "      <td>0.0</td>\n",
       "      <td>0.0</td>\n",
       "      <td>0.0</td>\n",
       "      <td>0.0</td>\n",
       "      <td>0.0</td>\n",
       "      <td>1.0</td>\n",
       "      <td>0.0</td>\n",
       "    </tr>\n",
       "    <tr>\n",
       "      <th>4</th>\n",
       "      <td>10</td>\n",
       "      <td>26</td>\n",
       "      <td>67</td>\n",
       "      <td>1</td>\n",
       "      <td>1463875200</td>\n",
       "      <td>6</td>\n",
       "      <td>22</td>\n",
       "      <td>143</td>\n",
       "      <td>21</td>\n",
       "      <td>5</td>\n",
       "      <td>...</td>\n",
       "      <td>0.0</td>\n",
       "      <td>0.0</td>\n",
       "      <td>0.0</td>\n",
       "      <td>0.0</td>\n",
       "      <td>0.0</td>\n",
       "      <td>0.0</td>\n",
       "      <td>0.0</td>\n",
       "      <td>0.0</td>\n",
       "      <td>1.0</td>\n",
       "      <td>0.0</td>\n",
       "    </tr>\n",
       "  </tbody>\n",
       "</table>\n",
       "<p>5 rows × 43 columns</p>\n",
       "</div>"
      ],
      "text/plain": [
       "   zona  area  sottoarea  categoria   timestamp  giorno_della_settimana  \\\n",
       "0    10    26         67          1  1463702400                       4   \n",
       "1    10    26         67          2  1463702400                       4   \n",
       "2    10    26         67          1  1463788800                       5   \n",
       "3    10    26         67          2  1463788800                       5   \n",
       "4    10    26         67          1  1463875200                       6   \n",
       "\n",
       "   giorno_del_mese  giorno_dell_anno  settimana_dell_anno  mese  \\\n",
       "0               20               141                   20     5   \n",
       "1               20               141                   20     5   \n",
       "2               21               142                   20     5   \n",
       "3               21               142                   20     5   \n",
       "4               22               143                   21     5   \n",
       "\n",
       "        ...         regione_PUG  regione_SAR  regione_SIC  regione_TAA  \\\n",
       "0       ...                 0.0          0.0          0.0          0.0   \n",
       "1       ...                 0.0          0.0          0.0          0.0   \n",
       "2       ...                 0.0          0.0          0.0          0.0   \n",
       "3       ...                 0.0          0.0          0.0          0.0   \n",
       "4       ...                 0.0          0.0          0.0          0.0   \n",
       "\n",
       "   regione_TOS  regione_UMB  regione_VEN  zona_italia_Centro  \\\n",
       "0          0.0          0.0          0.0                 0.0   \n",
       "1          0.0          0.0          0.0                 0.0   \n",
       "2          0.0          0.0          0.0                 0.0   \n",
       "3          0.0          0.0          0.0                 0.0   \n",
       "4          0.0          0.0          0.0                 0.0   \n",
       "\n",
       "   zona_italia_Nord  zona_italia_Sud  \n",
       "0               1.0              0.0  \n",
       "1               1.0              0.0  \n",
       "2               1.0              0.0  \n",
       "3               1.0              0.0  \n",
       "4               1.0              0.0  \n",
       "\n",
       "[5 rows x 43 columns]"
      ]
     },
     "execution_count": 4,
     "metadata": {},
     "output_type": "execute_result"
    }
   ],
   "source": [
    "test_set.head()"
   ]
  },
  {
   "cell_type": "code",
   "execution_count": 5,
   "metadata": {
    "collapsed": false
   },
   "outputs": [
    {
     "name": "stdout",
     "output_type": "stream",
     "text": [
      "<class 'pandas.core.frame.DataFrame'>\n",
      "RangeIndex: 145440 entries, 0 to 145439\n",
      "Data columns (total 44 columns):\n",
      "zona                      145440 non-null int64\n",
      "area                      145440 non-null int64\n",
      "sottoarea                 145440 non-null int64\n",
      "categoria                 145440 non-null int64\n",
      "timestamp                 145440 non-null int64\n",
      "giorno_della_settimana    145440 non-null int64\n",
      "giorno_del_mese           145440 non-null int64\n",
      "giorno_dell_anno          145440 non-null int64\n",
      "settimana_dell_anno       145440 non-null int64\n",
      "mese                      145440 non-null int64\n",
      "anno                      145440 non-null int64\n",
      "festivo                   145440 non-null int64\n",
      "vendite                   145440 non-null int64\n",
      "isola                     145440 non-null int64\n",
      "abitanti                  145440 non-null int64\n",
      "min_distanza              145440 non-null int64\n",
      "densita                   145440 non-null int64\n",
      "indice_istruzione         143420 non-null float64\n",
      "reddito_medio             145440 non-null int64\n",
      "gini_index                145440 non-null float64\n",
      "forza_lavoro              143420 non-null float64\n",
      "occupazione               143420 non-null float64\n",
      "regione_ABR               145440 non-null float64\n",
      "regione_BAS               145440 non-null float64\n",
      "regione_CAL               145440 non-null float64\n",
      "regione_CAM               145440 non-null float64\n",
      "regione_EMR               145440 non-null float64\n",
      "regione_FVG               145440 non-null float64\n",
      "regione_LAZ               145440 non-null float64\n",
      "regione_LIG               145440 non-null float64\n",
      "regione_LOM               145440 non-null float64\n",
      "regione_MAR               145440 non-null float64\n",
      "regione_MOL               145440 non-null float64\n",
      "regione_PIE               145440 non-null float64\n",
      "regione_PUG               145440 non-null float64\n",
      "regione_SAR               145440 non-null float64\n",
      "regione_SIC               145440 non-null float64\n",
      "regione_TAA               145440 non-null float64\n",
      "regione_TOS               145440 non-null float64\n",
      "regione_UMB               145440 non-null float64\n",
      "regione_VEN               145440 non-null float64\n",
      "zona_italia_Centro        145440 non-null float64\n",
      "zona_italia_Nord          145440 non-null float64\n",
      "zona_italia_Sud           145440 non-null float64\n",
      "dtypes: float64(26), int64(18)\n",
      "memory usage: 48.8 MB\n"
     ]
    }
   ],
   "source": [
    "train_set.info()"
   ]
  },
  {
   "cell_type": "code",
   "execution_count": 6,
   "metadata": {
    "collapsed": false
   },
   "outputs": [
    {
     "name": "stdout",
     "output_type": "stream",
     "text": [
      "<class 'pandas.core.frame.DataFrame'>\n",
      "RangeIndex: 2880 entries, 0 to 2879\n",
      "Data columns (total 43 columns):\n",
      "zona                      2880 non-null int64\n",
      "area                      2880 non-null int64\n",
      "sottoarea                 2880 non-null int64\n",
      "categoria                 2880 non-null int64\n",
      "timestamp                 2880 non-null int64\n",
      "giorno_della_settimana    2880 non-null int64\n",
      "giorno_del_mese           2880 non-null int64\n",
      "giorno_dell_anno          2880 non-null int64\n",
      "settimana_dell_anno       2880 non-null int64\n",
      "mese                      2880 non-null int64\n",
      "anno                      2880 non-null int64\n",
      "festivo                   2880 non-null int64\n",
      "isola                     2880 non-null int64\n",
      "abitanti                  2880 non-null int64\n",
      "min_distanza              2880 non-null int64\n",
      "densita                   2880 non-null int64\n",
      "indice_istruzione         2840 non-null float64\n",
      "reddito_medio             2880 non-null int64\n",
      "gini_index                2880 non-null float64\n",
      "forza_lavoro              2840 non-null float64\n",
      "occupazione               2840 non-null float64\n",
      "regione_ABR               2880 non-null float64\n",
      "regione_BAS               2880 non-null float64\n",
      "regione_CAL               2880 non-null float64\n",
      "regione_CAM               2880 non-null float64\n",
      "regione_EMR               2880 non-null float64\n",
      "regione_FVG               2880 non-null float64\n",
      "regione_LAZ               2880 non-null float64\n",
      "regione_LIG               2880 non-null float64\n",
      "regione_LOM               2880 non-null float64\n",
      "regione_MAR               2880 non-null float64\n",
      "regione_MOL               2880 non-null float64\n",
      "regione_PIE               2880 non-null float64\n",
      "regione_PUG               2880 non-null float64\n",
      "regione_SAR               2880 non-null float64\n",
      "regione_SIC               2880 non-null float64\n",
      "regione_TAA               2880 non-null float64\n",
      "regione_TOS               2880 non-null float64\n",
      "regione_UMB               2880 non-null float64\n",
      "regione_VEN               2880 non-null float64\n",
      "zona_italia_Centro        2880 non-null float64\n",
      "zona_italia_Nord          2880 non-null float64\n",
      "zona_italia_Sud           2880 non-null float64\n",
      "dtypes: float64(26), int64(17)\n",
      "memory usage: 967.6 KB\n"
     ]
    }
   ],
   "source": [
    "test_set.info()"
   ]
  },
  {
   "cell_type": "code",
   "execution_count": 7,
   "metadata": {
    "collapsed": true
   },
   "outputs": [],
   "source": [
    "y_train = train_set.pop('vendite')"
   ]
  },
  {
   "cell_type": "code",
   "execution_count": 32,
   "metadata": {
    "collapsed": false
   },
   "outputs": [],
   "source": [
    "cv_params = { 'max_depth':[1,10,100],'min_child_weight':[1,10,100] }\n",
    "ind_params = { 'subsample':0.9,'learning_rate':0.01,'n_estimators': 500, 'seed':0, 'colsample_bytree': 0.8, \n",
    "             'objective': 'reg:linear', \"nthread\":8}\n",
    "\n",
    "optimized_GBM = GridSearchCV(xgb.XGBClassifier(**ind_params),\n",
    "                            cv_params,\n",
    "                            scoring = 'accuracy',\n",
    "                            cv = 3, \n",
    "                            n_jobs = -1)"
   ]
  },
  {
   "cell_type": "code",
   "execution_count": 33,
   "metadata": {
    "collapsed": false,
    "scrolled": true
   },
   "outputs": [
    {
     "ename": "KeyboardInterrupt",
     "evalue": "",
     "output_type": "error",
     "traceback": [
      "\u001b[1;31m---------------------------------------------------------------------------\u001b[0m",
      "\u001b[1;31mKeyboardInterrupt\u001b[0m                         Traceback (most recent call last)",
      "\u001b[1;32m<ipython-input-33-6527e4ac63a3>\u001b[0m in \u001b[0;36m<module>\u001b[1;34m()\u001b[0m\n\u001b[1;32m----> 1\u001b[1;33m \u001b[0moptimized_GBM\u001b[0m\u001b[1;33m.\u001b[0m\u001b[0mfit\u001b[0m\u001b[1;33m(\u001b[0m\u001b[0mtrain_set\u001b[0m\u001b[1;33m,\u001b[0m\u001b[0my_train\u001b[0m\u001b[1;33m)\u001b[0m\u001b[1;33m\u001b[0m\u001b[0m\n\u001b[0m",
      "\u001b[1;32m/home/ubuntu/anaconda2/lib/python2.7/site-packages/sklearn/grid_search.pyc\u001b[0m in \u001b[0;36mfit\u001b[1;34m(self, X, y)\u001b[0m\n\u001b[0;32m    802\u001b[0m \u001b[1;33m\u001b[0m\u001b[0m\n\u001b[0;32m    803\u001b[0m         \"\"\"\n\u001b[1;32m--> 804\u001b[1;33m         \u001b[1;32mreturn\u001b[0m \u001b[0mself\u001b[0m\u001b[1;33m.\u001b[0m\u001b[0m_fit\u001b[0m\u001b[1;33m(\u001b[0m\u001b[0mX\u001b[0m\u001b[1;33m,\u001b[0m \u001b[0my\u001b[0m\u001b[1;33m,\u001b[0m \u001b[0mParameterGrid\u001b[0m\u001b[1;33m(\u001b[0m\u001b[0mself\u001b[0m\u001b[1;33m.\u001b[0m\u001b[0mparam_grid\u001b[0m\u001b[1;33m)\u001b[0m\u001b[1;33m)\u001b[0m\u001b[1;33m\u001b[0m\u001b[0m\n\u001b[0m\u001b[0;32m    805\u001b[0m \u001b[1;33m\u001b[0m\u001b[0m\n\u001b[0;32m    806\u001b[0m \u001b[1;33m\u001b[0m\u001b[0m\n",
      "\u001b[1;32m/home/ubuntu/anaconda2/lib/python2.7/site-packages/sklearn/grid_search.pyc\u001b[0m in \u001b[0;36m_fit\u001b[1;34m(self, X, y, parameter_iterable)\u001b[0m\n\u001b[0;32m    551\u001b[0m                                     \u001b[0mself\u001b[0m\u001b[1;33m.\u001b[0m\u001b[0mfit_params\u001b[0m\u001b[1;33m,\u001b[0m \u001b[0mreturn_parameters\u001b[0m\u001b[1;33m=\u001b[0m\u001b[0mTrue\u001b[0m\u001b[1;33m,\u001b[0m\u001b[1;33m\u001b[0m\u001b[0m\n\u001b[0;32m    552\u001b[0m                                     error_score=self.error_score)\n\u001b[1;32m--> 553\u001b[1;33m                 \u001b[1;32mfor\u001b[0m \u001b[0mparameters\u001b[0m \u001b[1;32min\u001b[0m \u001b[0mparameter_iterable\u001b[0m\u001b[1;33m\u001b[0m\u001b[0m\n\u001b[0m\u001b[0;32m    554\u001b[0m                 for train, test in cv)\n\u001b[0;32m    555\u001b[0m \u001b[1;33m\u001b[0m\u001b[0m\n",
      "\u001b[1;32m/home/ubuntu/anaconda2/lib/python2.7/site-packages/sklearn/externals/joblib/parallel.pyc\u001b[0m in \u001b[0;36m__call__\u001b[1;34m(self, iterable)\u001b[0m\n\u001b[0;32m    808\u001b[0m                 \u001b[1;31m# consumption.\u001b[0m\u001b[1;33m\u001b[0m\u001b[1;33m\u001b[0m\u001b[0m\n\u001b[0;32m    809\u001b[0m                 \u001b[0mself\u001b[0m\u001b[1;33m.\u001b[0m\u001b[0m_iterating\u001b[0m \u001b[1;33m=\u001b[0m \u001b[0mFalse\u001b[0m\u001b[1;33m\u001b[0m\u001b[0m\n\u001b[1;32m--> 810\u001b[1;33m             \u001b[0mself\u001b[0m\u001b[1;33m.\u001b[0m\u001b[0mretrieve\u001b[0m\u001b[1;33m(\u001b[0m\u001b[1;33m)\u001b[0m\u001b[1;33m\u001b[0m\u001b[0m\n\u001b[0m\u001b[0;32m    811\u001b[0m             \u001b[1;31m# Make sure that we get a last message telling us we are done\u001b[0m\u001b[1;33m\u001b[0m\u001b[1;33m\u001b[0m\u001b[0m\n\u001b[0;32m    812\u001b[0m             \u001b[0melapsed_time\u001b[0m \u001b[1;33m=\u001b[0m \u001b[0mtime\u001b[0m\u001b[1;33m.\u001b[0m\u001b[0mtime\u001b[0m\u001b[1;33m(\u001b[0m\u001b[1;33m)\u001b[0m \u001b[1;33m-\u001b[0m \u001b[0mself\u001b[0m\u001b[1;33m.\u001b[0m\u001b[0m_start_time\u001b[0m\u001b[1;33m\u001b[0m\u001b[0m\n",
      "\u001b[1;32m/home/ubuntu/anaconda2/lib/python2.7/site-packages/sklearn/externals/joblib/parallel.pyc\u001b[0m in \u001b[0;36mretrieve\u001b[1;34m(self)\u001b[0m\n\u001b[0;32m    755\u001b[0m                     \u001b[1;31m# a working pool as they expect.\u001b[0m\u001b[1;33m\u001b[0m\u001b[1;33m\u001b[0m\u001b[0m\n\u001b[0;32m    756\u001b[0m                     \u001b[0mself\u001b[0m\u001b[1;33m.\u001b[0m\u001b[0m_initialize_pool\u001b[0m\u001b[1;33m(\u001b[0m\u001b[1;33m)\u001b[0m\u001b[1;33m\u001b[0m\u001b[0m\n\u001b[1;32m--> 757\u001b[1;33m                 \u001b[1;32mraise\u001b[0m \u001b[0mexception\u001b[0m\u001b[1;33m\u001b[0m\u001b[0m\n\u001b[0m\u001b[0;32m    758\u001b[0m \u001b[1;33m\u001b[0m\u001b[0m\n\u001b[0;32m    759\u001b[0m     \u001b[1;32mdef\u001b[0m \u001b[0m__call__\u001b[0m\u001b[1;33m(\u001b[0m\u001b[0mself\u001b[0m\u001b[1;33m,\u001b[0m \u001b[0miterable\u001b[0m\u001b[1;33m)\u001b[0m\u001b[1;33m:\u001b[0m\u001b[1;33m\u001b[0m\u001b[0m\n",
      "\u001b[1;31mKeyboardInterrupt\u001b[0m: "
     ]
    }
   ],
   "source": [
    "optimized_GBM.fit(train_set,y_train)"
   ]
  },
  {
   "cell_type": "code",
   "execution_count": 12,
   "metadata": {
    "collapsed": false
   },
   "outputs": [
    {
     "data": {
      "text/plain": [
       "[mean: 0.25241, std: 0.01767, params: {'max_depth': 10, 'min_child_weight': 10},\n",
       " mean: 0.25140, std: 0.01398, params: {'max_depth': 10, 'min_child_weight': 70},\n",
       " mean: 0.25334, std: 0.01664, params: {'max_depth': 70, 'min_child_weight': 10},\n",
       " mean: 0.25571, std: 0.01535, params: {'max_depth': 70, 'min_child_weight': 70}]"
      ]
     },
     "execution_count": 12,
     "metadata": {},
     "output_type": "execute_result"
    }
   ],
   "source": [
    "optimized_GBM.grid_scores_"
   ]
  },
  {
   "cell_type": "code",
   "execution_count": 27,
   "metadata": {
    "collapsed": false
   },
   "outputs": [
    {
     "data": {
      "text/plain": [
       "[mean: 0.23804, std: 0.01847, params: {'max_depth': 20, 'min_child_weight': 15},\n",
       " mean: 0.23888, std: 0.01809, params: {'max_depth': 20, 'min_child_weight': 23},\n",
       " mean: 0.23982, std: 0.01825, params: {'max_depth': 20, 'min_child_weight': 30},\n",
       " mean: 0.24055, std: 0.01800, params: {'max_depth': 20, 'min_child_weight': 36},\n",
       " mean: 0.23947, std: 0.01852, params: {'max_depth': 27, 'min_child_weight': 15},\n",
       " mean: 0.23969, std: 0.01951, params: {'max_depth': 27, 'min_child_weight': 23},\n",
       " mean: 0.23954, std: 0.01913, params: {'max_depth': 27, 'min_child_weight': 30},\n",
       " mean: 0.24077, std: 0.01718, params: {'max_depth': 27, 'min_child_weight': 36},\n",
       " mean: 0.23880, std: 0.01710, params: {'max_depth': 35, 'min_child_weight': 15},\n",
       " mean: 0.23902, std: 0.01720, params: {'max_depth': 35, 'min_child_weight': 23},\n",
       " mean: 0.24024, std: 0.01795, params: {'max_depth': 35, 'min_child_weight': 30},\n",
       " mean: 0.24097, std: 0.01906, params: {'max_depth': 35, 'min_child_weight': 36},\n",
       " mean: 0.23973, std: 0.01706, params: {'max_depth': 40, 'min_child_weight': 15},\n",
       " mean: 0.23954, std: 0.01876, params: {'max_depth': 40, 'min_child_weight': 23},\n",
       " mean: 0.23965, std: 0.01887, params: {'max_depth': 40, 'min_child_weight': 30},\n",
       " mean: 0.24106, std: 0.01812, params: {'max_depth': 40, 'min_child_weight': 36}]"
      ]
     },
     "execution_count": 27,
     "metadata": {},
     "output_type": "execute_result"
    }
   ],
   "source": [
    "optimized_GBM.grid_scores_"
   ]
  },
  {
   "cell_type": "code",
   "execution_count": 132,
   "metadata": {
    "collapsed": false
   },
   "outputs": [
    {
     "data": {
      "text/plain": [
       "[mean: 0.23313, std: 0.03200, params: {'max_depth': 7, 'min_child_weight': 5},\n",
       " mean: 0.23312, std: 0.03298, params: {'max_depth': 7, 'min_child_weight': 7},\n",
       " mean: 0.23236, std: 0.03461, params: {'max_depth': 7, 'min_child_weight': 9},\n",
       " mean: 0.23517, std: 0.03218, params: {'max_depth': 9, 'min_child_weight': 5},\n",
       " mean: 0.23539, std: 0.03347, params: {'max_depth': 9, 'min_child_weight': 7},\n",
       " mean: 0.23425, std: 0.03682, params: {'max_depth': 9, 'min_child_weight': 9},\n",
       " mean: 0.23394, std: 0.03378, params: {'max_depth': 11, 'min_child_weight': 5},\n",
       " mean: 0.23414, std: 0.03398, params: {'max_depth': 11, 'min_child_weight': 7},\n",
       " mean: 0.23394, std: 0.03382, params: {'max_depth': 11, 'min_child_weight': 9}]"
      ]
     },
     "execution_count": 132,
     "metadata": {},
     "output_type": "execute_result"
    }
   ],
   "source": [
    "optimized_GBM.grid_scores_"
   ]
  },
  {
   "cell_type": "code",
   "execution_count": null,
   "metadata": {
    "collapsed": true
   },
   "outputs": [],
   "source": [
    "def custom_evaluation(preds, dtrain):\n",
    "    labels = dtrain.get_label()\n",
    "    # return a pair metric_name, result\n",
    "    # since preds are margin(before logistic transformation, cutoff at 0)\n",
    "    return 'error', float(sum(labels != (preds > 0.0))) / len(labels)"
   ]
  },
  {
   "cell_type": "code",
   "execution_count": 8,
   "metadata": {
    "collapsed": false
   },
   "outputs": [],
   "source": [
    "xgdmat = xgb.DMatrix(train_set, y_train, missing=np.nan)"
   ]
  },
  {
   "cell_type": "code",
   "execution_count": 14,
   "metadata": {
    "collapsed": false
   },
   "outputs": [
    {
     "name": "stderr",
     "output_type": "stream",
     "text": [
      "Will train until cv error hasn't decreased in 100 rounds.\n",
      "Stopping. Best iteration: 562\n"
     ]
    }
   ],
   "source": [
    "our_params = {'eta': 0.1, 'seed':0,'learning_rate':0.01, 'subsample': 0.9, 'colsample_bytree': 0.8, \n",
    "             'objective': 'reg:linear', 'max_depth':70, 'min_child_weight':70, \"nthread\":8} \n",
    "# Grid Search CV optimized settings\n",
    "\n",
    "cv_xgb = xgb.cv(params = our_params, dtrain = xgdmat, num_boost_round = 3000, nfold = 5,\n",
    "                metrics = ['error'], \n",
    "                early_stopping_rounds = 100)"
   ]
  },
  {
   "cell_type": "code",
   "execution_count": 9,
   "metadata": {
    "collapsed": false
   },
   "outputs": [],
   "source": [
    "our_params = {'eta': 0.1, 'seed':0, 'subsample': 0.8, 'colsample_bytree': 0.8, \n",
    "             'objective': 'reg:linear', 'max_depth':10, 'min_child_weight':10} \n",
    "\n",
    "final_gb = xgb.train(our_params, xgdmat, num_boost_round = 562)"
   ]
  },
  {
   "cell_type": "code",
   "execution_count": 10,
   "metadata": {
    "collapsed": false
   },
   "outputs": [],
   "source": [
    "testdmat = xgb.DMatrix(test_set, missing=np.nan)"
   ]
  },
  {
   "cell_type": "code",
   "execution_count": 11,
   "metadata": {
    "collapsed": false
   },
   "outputs": [
    {
     "data": {
      "text/plain": [
       "array([ 2.71868658,  0.97682607, -0.48832482, ...,  1.71807432,\n",
       "        0.43935814,  0.26081297], dtype=float32)"
      ]
     },
     "execution_count": 11,
     "metadata": {},
     "output_type": "execute_result"
    }
   ],
   "source": [
    "y_pred = final_gb.predict(testdmat) # Predict using our testdmat\n",
    "y_pred"
   ]
  },
  {
   "cell_type": "code",
   "execution_count": 17,
   "metadata": {
    "collapsed": false
   },
   "outputs": [
    {
     "data": {
      "text/plain": [
       "array([ 2.71868658,  0.97682607, -0.48832482,  0.43961689, -1.20718062,\n",
       "       -0.38496959,  3.04898787,  1.1797297 ,  2.63060451,  1.46600938], dtype=float32)"
      ]
     },
     "execution_count": 17,
     "metadata": {},
     "output_type": "execute_result"
    }
   ],
   "source": [
    "y_pred[:10]"
   ]
  },
  {
   "cell_type": "code",
   "execution_count": 13,
   "metadata": {
    "collapsed": false
   },
   "outputs": [],
   "source": [
    "final_df = test_set"
   ]
  },
  {
   "cell_type": "code",
   "execution_count": 18,
   "metadata": {
    "collapsed": true
   },
   "outputs": [],
   "source": [
    "final_df['prediction'] = y_pred"
   ]
  },
  {
   "cell_type": "code",
   "execution_count": 19,
   "metadata": {
    "collapsed": false
   },
   "outputs": [
    {
     "data": {
      "text/html": [
       "<div>\n",
       "<table border=\"1\" class=\"dataframe\">\n",
       "  <thead>\n",
       "    <tr style=\"text-align: right;\">\n",
       "      <th></th>\n",
       "      <th>zona</th>\n",
       "      <th>area</th>\n",
       "      <th>sottoarea</th>\n",
       "      <th>categoria</th>\n",
       "      <th>timestamp</th>\n",
       "      <th>giorno_della_settimana</th>\n",
       "      <th>giorno_del_mese</th>\n",
       "      <th>giorno_dell_anno</th>\n",
       "      <th>settimana_dell_anno</th>\n",
       "      <th>mese</th>\n",
       "      <th>...</th>\n",
       "      <th>regione_SAR</th>\n",
       "      <th>regione_SIC</th>\n",
       "      <th>regione_TAA</th>\n",
       "      <th>regione_TOS</th>\n",
       "      <th>regione_UMB</th>\n",
       "      <th>regione_VEN</th>\n",
       "      <th>zona_italia_Centro</th>\n",
       "      <th>zona_italia_Nord</th>\n",
       "      <th>zona_italia_Sud</th>\n",
       "      <th>prediction</th>\n",
       "    </tr>\n",
       "  </thead>\n",
       "  <tbody>\n",
       "    <tr>\n",
       "      <th>0</th>\n",
       "      <td>10</td>\n",
       "      <td>26</td>\n",
       "      <td>67</td>\n",
       "      <td>1</td>\n",
       "      <td>1463702400</td>\n",
       "      <td>4</td>\n",
       "      <td>20</td>\n",
       "      <td>141</td>\n",
       "      <td>20</td>\n",
       "      <td>5</td>\n",
       "      <td>...</td>\n",
       "      <td>0.0</td>\n",
       "      <td>0.0</td>\n",
       "      <td>0.0</td>\n",
       "      <td>0.0</td>\n",
       "      <td>0.0</td>\n",
       "      <td>0.0</td>\n",
       "      <td>0.0</td>\n",
       "      <td>1.0</td>\n",
       "      <td>0.0</td>\n",
       "      <td>2.718687</td>\n",
       "    </tr>\n",
       "    <tr>\n",
       "      <th>1</th>\n",
       "      <td>10</td>\n",
       "      <td>26</td>\n",
       "      <td>67</td>\n",
       "      <td>2</td>\n",
       "      <td>1463702400</td>\n",
       "      <td>4</td>\n",
       "      <td>20</td>\n",
       "      <td>141</td>\n",
       "      <td>20</td>\n",
       "      <td>5</td>\n",
       "      <td>...</td>\n",
       "      <td>0.0</td>\n",
       "      <td>0.0</td>\n",
       "      <td>0.0</td>\n",
       "      <td>0.0</td>\n",
       "      <td>0.0</td>\n",
       "      <td>0.0</td>\n",
       "      <td>0.0</td>\n",
       "      <td>1.0</td>\n",
       "      <td>0.0</td>\n",
       "      <td>0.976826</td>\n",
       "    </tr>\n",
       "    <tr>\n",
       "      <th>2</th>\n",
       "      <td>10</td>\n",
       "      <td>26</td>\n",
       "      <td>67</td>\n",
       "      <td>1</td>\n",
       "      <td>1463788800</td>\n",
       "      <td>5</td>\n",
       "      <td>21</td>\n",
       "      <td>142</td>\n",
       "      <td>20</td>\n",
       "      <td>5</td>\n",
       "      <td>...</td>\n",
       "      <td>0.0</td>\n",
       "      <td>0.0</td>\n",
       "      <td>0.0</td>\n",
       "      <td>0.0</td>\n",
       "      <td>0.0</td>\n",
       "      <td>0.0</td>\n",
       "      <td>0.0</td>\n",
       "      <td>1.0</td>\n",
       "      <td>0.0</td>\n",
       "      <td>-0.488325</td>\n",
       "    </tr>\n",
       "    <tr>\n",
       "      <th>3</th>\n",
       "      <td>10</td>\n",
       "      <td>26</td>\n",
       "      <td>67</td>\n",
       "      <td>2</td>\n",
       "      <td>1463788800</td>\n",
       "      <td>5</td>\n",
       "      <td>21</td>\n",
       "      <td>142</td>\n",
       "      <td>20</td>\n",
       "      <td>5</td>\n",
       "      <td>...</td>\n",
       "      <td>0.0</td>\n",
       "      <td>0.0</td>\n",
       "      <td>0.0</td>\n",
       "      <td>0.0</td>\n",
       "      <td>0.0</td>\n",
       "      <td>0.0</td>\n",
       "      <td>0.0</td>\n",
       "      <td>1.0</td>\n",
       "      <td>0.0</td>\n",
       "      <td>0.439617</td>\n",
       "    </tr>\n",
       "    <tr>\n",
       "      <th>4</th>\n",
       "      <td>10</td>\n",
       "      <td>26</td>\n",
       "      <td>67</td>\n",
       "      <td>1</td>\n",
       "      <td>1463875200</td>\n",
       "      <td>6</td>\n",
       "      <td>22</td>\n",
       "      <td>143</td>\n",
       "      <td>21</td>\n",
       "      <td>5</td>\n",
       "      <td>...</td>\n",
       "      <td>0.0</td>\n",
       "      <td>0.0</td>\n",
       "      <td>0.0</td>\n",
       "      <td>0.0</td>\n",
       "      <td>0.0</td>\n",
       "      <td>0.0</td>\n",
       "      <td>0.0</td>\n",
       "      <td>1.0</td>\n",
       "      <td>0.0</td>\n",
       "      <td>-1.207181</td>\n",
       "    </tr>\n",
       "  </tbody>\n",
       "</table>\n",
       "<p>5 rows × 44 columns</p>\n",
       "</div>"
      ],
      "text/plain": [
       "   zona  area  sottoarea  categoria   timestamp  giorno_della_settimana  \\\n",
       "0    10    26         67          1  1463702400                       4   \n",
       "1    10    26         67          2  1463702400                       4   \n",
       "2    10    26         67          1  1463788800                       5   \n",
       "3    10    26         67          2  1463788800                       5   \n",
       "4    10    26         67          1  1463875200                       6   \n",
       "\n",
       "   giorno_del_mese  giorno_dell_anno  settimana_dell_anno  mese     ...      \\\n",
       "0               20               141                   20     5     ...       \n",
       "1               20               141                   20     5     ...       \n",
       "2               21               142                   20     5     ...       \n",
       "3               21               142                   20     5     ...       \n",
       "4               22               143                   21     5     ...       \n",
       "\n",
       "   regione_SAR  regione_SIC  regione_TAA  regione_TOS  regione_UMB  \\\n",
       "0          0.0          0.0          0.0          0.0          0.0   \n",
       "1          0.0          0.0          0.0          0.0          0.0   \n",
       "2          0.0          0.0          0.0          0.0          0.0   \n",
       "3          0.0          0.0          0.0          0.0          0.0   \n",
       "4          0.0          0.0          0.0          0.0          0.0   \n",
       "\n",
       "   regione_VEN  zona_italia_Centro  zona_italia_Nord  zona_italia_Sud  \\\n",
       "0          0.0                 0.0               1.0              0.0   \n",
       "1          0.0                 0.0               1.0              0.0   \n",
       "2          0.0                 0.0               1.0              0.0   \n",
       "3          0.0                 0.0               1.0              0.0   \n",
       "4          0.0                 0.0               1.0              0.0   \n",
       "\n",
       "   prediction  \n",
       "0    2.718687  \n",
       "1    0.976826  \n",
       "2   -0.488325  \n",
       "3    0.439617  \n",
       "4   -1.207181  \n",
       "\n",
       "[5 rows x 44 columns]"
      ]
     },
     "execution_count": 19,
     "metadata": {},
     "output_type": "execute_result"
    }
   ],
   "source": [
    "final_df.head()"
   ]
  },
  {
   "cell_type": "code",
   "execution_count": 21,
   "metadata": {
    "collapsed": true
   },
   "outputs": [],
   "source": [
    "final_df.to_csv(\"xgboost_depth10_child10.csv\", sep=',')"
   ]
  },
  {
   "cell_type": "code",
   "execution_count": null,
   "metadata": {
    "collapsed": true
   },
   "outputs": [],
   "source": []
  }
 ],
 "metadata": {
  "kernelspec": {
   "display_name": "Python 2",
   "language": "python",
   "name": "python2"
  },
  "language_info": {
   "codemirror_mode": {
    "name": "ipython",
    "version": 2
   },
   "file_extension": ".py",
   "mimetype": "text/x-python",
   "name": "python",
   "nbconvert_exporter": "python",
   "pygments_lexer": "ipython2",
   "version": "2.7.11"
  }
 },
 "nbformat": 4,
 "nbformat_minor": 0
}
