{
 "cells": [
  {
   "cell_type": "markdown",
   "metadata": {},
   "source": [
    "XGBoost\n",
    "==="
   ]
  },
  {
   "cell_type": "code",
   "execution_count": 1,
   "metadata": {
    "collapsed": false
   },
   "outputs": [],
   "source": [
    "import xgboost as xgb\n",
    "from scipy.sparse import csr_matrix\n",
    "import pandas as pd\n",
    "import numpy as np\n",
    "import scipy as sc\n",
    "from sklearn import preprocessing\n",
    "from sklearn.grid_search import GridSearchCV"
   ]
  },
  {
   "cell_type": "markdown",
   "metadata": {},
   "source": [
    "Algorithms\n",
    "---"
   ]
  },
  {
   "cell_type": "code",
   "execution_count": 11,
   "metadata": {
    "collapsed": false
   },
   "outputs": [],
   "source": [
    "# Parsing\n",
    "#train_set = pd.read_csv('https://media.githubusercontent.com/media/riccamastellone/BIP/master/dataset/output/dataset_polimi_extended.csv?token=AJr57459zM29HNDCIgJxY0xuGQucxIHJks5XaBFfwA%3D%3D',delimiter=',')\n",
    "#train_set = pd.read_csv('https://media.githubusercontent.com/media/riccamastellone/BIP/master/dataset/output/dataset_polimi_extended.csv?token=AI7lzqjq-gI8IohNvPk8aIYYO_gE6e2gks5XbAPmwA%3D%3D',delimiter=',')\n",
    "train_set = pd.read_csv('https://raw.githubusercontent.com/riccamastellone/BIP/master/dataset/output/dataset_polimi_extended_with_province_no2014.csv?token=AI7lzlmydW5L8qrMHYvMDbIktyyBkve_ks5Xd4TcwA%3D%3D',delimiter=',')\n",
    "#test_set = pd.read_csv('https://raw.githubusercontent.com/riccamastellone/BIP/master/dataset/output/test_with_features.csv?token=AJr572V5PSQQk_et0pEphHlyIPeQGxChks5XcT0gwA%3D%3D',delimiter=',')\n",
    "#test_set = pd.read_csv('https://raw.githubusercontent.com/riccamastellone/BIP/master/dataset/output/test_with_features.csv?token=AI7lzlG4mUzm9mH8ZJUCXSvymRM5i0kdks5XdTB1wA%3D%3D',delimiter=',')\n",
    "test_set = pd.read_csv(\"https://raw.githubusercontent.com/riccamastellone/BIP/master/dataset/output/test_with_features_with_provincie.csv?token=AI7lzuSM4N6yF0InDcQgdbssWOQPAPTQks5Xd4UewA%3D%3D\",delimiter=',')\n",
    "pd.options.mode.chained_assignment = None\n",
    "#Id_ts = test_['ID']\n",
    "#test_set.drop('ID',axis=1,inplace=True)"
   ]
  },
  {
   "cell_type": "code",
   "execution_count": 12,
   "metadata": {
    "collapsed": false
   },
   "outputs": [
    {
     "data": {
      "text/html": [
       "<div>\n",
       "<table border=\"1\" class=\"dataframe\">\n",
       "  <thead>\n",
       "    <tr style=\"text-align: right;\">\n",
       "      <th></th>\n",
       "      <th>zona</th>\n",
       "      <th>area</th>\n",
       "      <th>sottoarea</th>\n",
       "      <th>categoria</th>\n",
       "      <th>timestamp</th>\n",
       "      <th>giorno_della_settimana</th>\n",
       "      <th>giorno_del_mese</th>\n",
       "      <th>giorno_dell_anno</th>\n",
       "      <th>mese</th>\n",
       "      <th>anno</th>\n",
       "      <th>...</th>\n",
       "      <th>provincia_TR</th>\n",
       "      <th>provincia_TV</th>\n",
       "      <th>provincia_UD</th>\n",
       "      <th>provincia_VA</th>\n",
       "      <th>provincia_VC</th>\n",
       "      <th>provincia_VE</th>\n",
       "      <th>provincia_VI</th>\n",
       "      <th>provincia_VR</th>\n",
       "      <th>provincia_VT</th>\n",
       "      <th>provincia_VV</th>\n",
       "    </tr>\n",
       "  </thead>\n",
       "  <tbody>\n",
       "    <tr>\n",
       "      <th>0</th>\n",
       "      <td>1</td>\n",
       "      <td>1</td>\n",
       "      <td>5</td>\n",
       "      <td>1</td>\n",
       "      <td>1420070400</td>\n",
       "      <td>3</td>\n",
       "      <td>3</td>\n",
       "      <td>1</td>\n",
       "      <td>1</td>\n",
       "      <td>2015</td>\n",
       "      <td>...</td>\n",
       "      <td>0.0</td>\n",
       "      <td>0.0</td>\n",
       "      <td>0.0</td>\n",
       "      <td>0.0</td>\n",
       "      <td>0.0</td>\n",
       "      <td>0.0</td>\n",
       "      <td>0.0</td>\n",
       "      <td>0.0</td>\n",
       "      <td>0.0</td>\n",
       "      <td>0.0</td>\n",
       "    </tr>\n",
       "    <tr>\n",
       "      <th>1</th>\n",
       "      <td>1</td>\n",
       "      <td>1</td>\n",
       "      <td>5</td>\n",
       "      <td>1</td>\n",
       "      <td>1420156800</td>\n",
       "      <td>4</td>\n",
       "      <td>4</td>\n",
       "      <td>2</td>\n",
       "      <td>1</td>\n",
       "      <td>2015</td>\n",
       "      <td>...</td>\n",
       "      <td>0.0</td>\n",
       "      <td>0.0</td>\n",
       "      <td>0.0</td>\n",
       "      <td>0.0</td>\n",
       "      <td>0.0</td>\n",
       "      <td>0.0</td>\n",
       "      <td>0.0</td>\n",
       "      <td>0.0</td>\n",
       "      <td>0.0</td>\n",
       "      <td>0.0</td>\n",
       "    </tr>\n",
       "    <tr>\n",
       "      <th>2</th>\n",
       "      <td>1</td>\n",
       "      <td>1</td>\n",
       "      <td>5</td>\n",
       "      <td>1</td>\n",
       "      <td>1420243200</td>\n",
       "      <td>5</td>\n",
       "      <td>5</td>\n",
       "      <td>3</td>\n",
       "      <td>1</td>\n",
       "      <td>2015</td>\n",
       "      <td>...</td>\n",
       "      <td>0.0</td>\n",
       "      <td>0.0</td>\n",
       "      <td>0.0</td>\n",
       "      <td>0.0</td>\n",
       "      <td>0.0</td>\n",
       "      <td>0.0</td>\n",
       "      <td>0.0</td>\n",
       "      <td>0.0</td>\n",
       "      <td>0.0</td>\n",
       "      <td>0.0</td>\n",
       "    </tr>\n",
       "    <tr>\n",
       "      <th>3</th>\n",
       "      <td>1</td>\n",
       "      <td>1</td>\n",
       "      <td>5</td>\n",
       "      <td>1</td>\n",
       "      <td>1420329600</td>\n",
       "      <td>6</td>\n",
       "      <td>6</td>\n",
       "      <td>4</td>\n",
       "      <td>1</td>\n",
       "      <td>2015</td>\n",
       "      <td>...</td>\n",
       "      <td>0.0</td>\n",
       "      <td>0.0</td>\n",
       "      <td>0.0</td>\n",
       "      <td>0.0</td>\n",
       "      <td>0.0</td>\n",
       "      <td>0.0</td>\n",
       "      <td>0.0</td>\n",
       "      <td>0.0</td>\n",
       "      <td>0.0</td>\n",
       "      <td>0.0</td>\n",
       "    </tr>\n",
       "    <tr>\n",
       "      <th>4</th>\n",
       "      <td>1</td>\n",
       "      <td>1</td>\n",
       "      <td>5</td>\n",
       "      <td>1</td>\n",
       "      <td>1420416000</td>\n",
       "      <td>0</td>\n",
       "      <td>0</td>\n",
       "      <td>5</td>\n",
       "      <td>1</td>\n",
       "      <td>2015</td>\n",
       "      <td>...</td>\n",
       "      <td>0.0</td>\n",
       "      <td>0.0</td>\n",
       "      <td>0.0</td>\n",
       "      <td>0.0</td>\n",
       "      <td>0.0</td>\n",
       "      <td>0.0</td>\n",
       "      <td>0.0</td>\n",
       "      <td>0.0</td>\n",
       "      <td>0.0</td>\n",
       "      <td>0.0</td>\n",
       "    </tr>\n",
       "  </tbody>\n",
       "</table>\n",
       "<p>5 rows × 130 columns</p>\n",
       "</div>"
      ],
      "text/plain": [
       "   zona  area  sottoarea  categoria   timestamp  giorno_della_settimana  \\\n",
       "0     1     1          5          1  1420070400                       3   \n",
       "1     1     1          5          1  1420156800                       4   \n",
       "2     1     1          5          1  1420243200                       5   \n",
       "3     1     1          5          1  1420329600                       6   \n",
       "4     1     1          5          1  1420416000                       0   \n",
       "\n",
       "   giorno_del_mese  giorno_dell_anno  mese  anno      ...       provincia_TR  \\\n",
       "0                3                 1     1  2015      ...                0.0   \n",
       "1                4                 2     1  2015      ...                0.0   \n",
       "2                5                 3     1  2015      ...                0.0   \n",
       "3                6                 4     1  2015      ...                0.0   \n",
       "4                0                 5     1  2015      ...                0.0   \n",
       "\n",
       "   provincia_TV  provincia_UD  provincia_VA  provincia_VC  provincia_VE  \\\n",
       "0           0.0           0.0           0.0           0.0           0.0   \n",
       "1           0.0           0.0           0.0           0.0           0.0   \n",
       "2           0.0           0.0           0.0           0.0           0.0   \n",
       "3           0.0           0.0           0.0           0.0           0.0   \n",
       "4           0.0           0.0           0.0           0.0           0.0   \n",
       "\n",
       "   provincia_VI  provincia_VR  provincia_VT  provincia_VV  \n",
       "0           0.0           0.0           0.0           0.0  \n",
       "1           0.0           0.0           0.0           0.0  \n",
       "2           0.0           0.0           0.0           0.0  \n",
       "3           0.0           0.0           0.0           0.0  \n",
       "4           0.0           0.0           0.0           0.0  \n",
       "\n",
       "[5 rows x 130 columns]"
      ]
     },
     "execution_count": 12,
     "metadata": {},
     "output_type": "execute_result"
    }
   ],
   "source": [
    "train_set.head()"
   ]
  },
  {
   "cell_type": "code",
   "execution_count": 13,
   "metadata": {
    "collapsed": false
   },
   "outputs": [
    {
     "data": {
      "text/html": [
       "<div>\n",
       "<table border=\"1\" class=\"dataframe\">\n",
       "  <thead>\n",
       "    <tr style=\"text-align: right;\">\n",
       "      <th></th>\n",
       "      <th>zona</th>\n",
       "      <th>area</th>\n",
       "      <th>sottoarea</th>\n",
       "      <th>categoria</th>\n",
       "      <th>timestamp</th>\n",
       "      <th>giorno_della_settimana</th>\n",
       "      <th>giorno_del_mese</th>\n",
       "      <th>giorno_dell_anno</th>\n",
       "      <th>mese</th>\n",
       "      <th>anno</th>\n",
       "      <th>...</th>\n",
       "      <th>provincia_TR</th>\n",
       "      <th>provincia_TV</th>\n",
       "      <th>provincia_UD</th>\n",
       "      <th>provincia_VA</th>\n",
       "      <th>provincia_VC</th>\n",
       "      <th>provincia_VE</th>\n",
       "      <th>provincia_VI</th>\n",
       "      <th>provincia_VR</th>\n",
       "      <th>provincia_VT</th>\n",
       "      <th>provincia_VV</th>\n",
       "    </tr>\n",
       "  </thead>\n",
       "  <tbody>\n",
       "    <tr>\n",
       "      <th>0</th>\n",
       "      <td>10</td>\n",
       "      <td>26</td>\n",
       "      <td>67</td>\n",
       "      <td>1</td>\n",
       "      <td>1463702400</td>\n",
       "      <td>4</td>\n",
       "      <td>4</td>\n",
       "      <td>141</td>\n",
       "      <td>5</td>\n",
       "      <td>2016</td>\n",
       "      <td>...</td>\n",
       "      <td>0.0</td>\n",
       "      <td>0.0</td>\n",
       "      <td>0.0</td>\n",
       "      <td>0.0</td>\n",
       "      <td>0.0</td>\n",
       "      <td>0.0</td>\n",
       "      <td>0.0</td>\n",
       "      <td>0.0</td>\n",
       "      <td>0.0</td>\n",
       "      <td>0.0</td>\n",
       "    </tr>\n",
       "    <tr>\n",
       "      <th>1</th>\n",
       "      <td>10</td>\n",
       "      <td>26</td>\n",
       "      <td>67</td>\n",
       "      <td>2</td>\n",
       "      <td>1463702400</td>\n",
       "      <td>4</td>\n",
       "      <td>4</td>\n",
       "      <td>141</td>\n",
       "      <td>5</td>\n",
       "      <td>2016</td>\n",
       "      <td>...</td>\n",
       "      <td>0.0</td>\n",
       "      <td>0.0</td>\n",
       "      <td>0.0</td>\n",
       "      <td>0.0</td>\n",
       "      <td>0.0</td>\n",
       "      <td>0.0</td>\n",
       "      <td>0.0</td>\n",
       "      <td>0.0</td>\n",
       "      <td>0.0</td>\n",
       "      <td>0.0</td>\n",
       "    </tr>\n",
       "    <tr>\n",
       "      <th>2</th>\n",
       "      <td>10</td>\n",
       "      <td>26</td>\n",
       "      <td>67</td>\n",
       "      <td>1</td>\n",
       "      <td>1463788800</td>\n",
       "      <td>5</td>\n",
       "      <td>5</td>\n",
       "      <td>142</td>\n",
       "      <td>5</td>\n",
       "      <td>2016</td>\n",
       "      <td>...</td>\n",
       "      <td>0.0</td>\n",
       "      <td>0.0</td>\n",
       "      <td>0.0</td>\n",
       "      <td>0.0</td>\n",
       "      <td>0.0</td>\n",
       "      <td>0.0</td>\n",
       "      <td>0.0</td>\n",
       "      <td>0.0</td>\n",
       "      <td>0.0</td>\n",
       "      <td>0.0</td>\n",
       "    </tr>\n",
       "    <tr>\n",
       "      <th>3</th>\n",
       "      <td>10</td>\n",
       "      <td>26</td>\n",
       "      <td>67</td>\n",
       "      <td>2</td>\n",
       "      <td>1463788800</td>\n",
       "      <td>5</td>\n",
       "      <td>5</td>\n",
       "      <td>142</td>\n",
       "      <td>5</td>\n",
       "      <td>2016</td>\n",
       "      <td>...</td>\n",
       "      <td>0.0</td>\n",
       "      <td>0.0</td>\n",
       "      <td>0.0</td>\n",
       "      <td>0.0</td>\n",
       "      <td>0.0</td>\n",
       "      <td>0.0</td>\n",
       "      <td>0.0</td>\n",
       "      <td>0.0</td>\n",
       "      <td>0.0</td>\n",
       "      <td>0.0</td>\n",
       "    </tr>\n",
       "    <tr>\n",
       "      <th>4</th>\n",
       "      <td>10</td>\n",
       "      <td>26</td>\n",
       "      <td>67</td>\n",
       "      <td>1</td>\n",
       "      <td>1463875200</td>\n",
       "      <td>6</td>\n",
       "      <td>6</td>\n",
       "      <td>143</td>\n",
       "      <td>5</td>\n",
       "      <td>2016</td>\n",
       "      <td>...</td>\n",
       "      <td>0.0</td>\n",
       "      <td>0.0</td>\n",
       "      <td>0.0</td>\n",
       "      <td>0.0</td>\n",
       "      <td>0.0</td>\n",
       "      <td>0.0</td>\n",
       "      <td>0.0</td>\n",
       "      <td>0.0</td>\n",
       "      <td>0.0</td>\n",
       "      <td>0.0</td>\n",
       "    </tr>\n",
       "  </tbody>\n",
       "</table>\n",
       "<p>5 rows × 129 columns</p>\n",
       "</div>"
      ],
      "text/plain": [
       "   zona  area  sottoarea  categoria   timestamp  giorno_della_settimana  \\\n",
       "0    10    26         67          1  1463702400                       4   \n",
       "1    10    26         67          2  1463702400                       4   \n",
       "2    10    26         67          1  1463788800                       5   \n",
       "3    10    26         67          2  1463788800                       5   \n",
       "4    10    26         67          1  1463875200                       6   \n",
       "\n",
       "   giorno_del_mese  giorno_dell_anno  mese  anno      ...       provincia_TR  \\\n",
       "0                4               141     5  2016      ...                0.0   \n",
       "1                4               141     5  2016      ...                0.0   \n",
       "2                5               142     5  2016      ...                0.0   \n",
       "3                5               142     5  2016      ...                0.0   \n",
       "4                6               143     5  2016      ...                0.0   \n",
       "\n",
       "   provincia_TV  provincia_UD  provincia_VA  provincia_VC  provincia_VE  \\\n",
       "0           0.0           0.0           0.0           0.0           0.0   \n",
       "1           0.0           0.0           0.0           0.0           0.0   \n",
       "2           0.0           0.0           0.0           0.0           0.0   \n",
       "3           0.0           0.0           0.0           0.0           0.0   \n",
       "4           0.0           0.0           0.0           0.0           0.0   \n",
       "\n",
       "   provincia_VI  provincia_VR  provincia_VT  provincia_VV  \n",
       "0           0.0           0.0           0.0           0.0  \n",
       "1           0.0           0.0           0.0           0.0  \n",
       "2           0.0           0.0           0.0           0.0  \n",
       "3           0.0           0.0           0.0           0.0  \n",
       "4           0.0           0.0           0.0           0.0  \n",
       "\n",
       "[5 rows x 129 columns]"
      ]
     },
     "execution_count": 13,
     "metadata": {},
     "output_type": "execute_result"
    }
   ],
   "source": [
    "test_set.head()"
   ]
  },
  {
   "cell_type": "code",
   "execution_count": 5,
   "metadata": {
    "collapsed": false
   },
   "outputs": [
    {
     "name": "stdout",
     "output_type": "stream",
     "text": [
      "<class 'pandas.core.frame.DataFrame'>\n",
      "RangeIndex: 145440 entries, 0 to 145439\n",
      "Columns: 130 entries, zona to provincia_VV\n",
      "dtypes: float64(113), int64(17)\n",
      "memory usage: 144.3 MB\n"
     ]
    }
   ],
   "source": [
    "train_set.info()"
   ]
  },
  {
   "cell_type": "code",
   "execution_count": 6,
   "metadata": {
    "collapsed": false
   },
   "outputs": [
    {
     "name": "stdout",
     "output_type": "stream",
     "text": [
      "<class 'pandas.core.frame.DataFrame'>\n",
      "RangeIndex: 2880 entries, 0 to 2879\n",
      "Columns: 129 entries, zona to provincia_VV\n",
      "dtypes: float64(113), int64(16)\n",
      "memory usage: 2.8 MB\n"
     ]
    }
   ],
   "source": [
    "test_set.info()"
   ]
  },
  {
   "cell_type": "code",
   "execution_count": 14,
   "metadata": {
    "collapsed": true
   },
   "outputs": [],
   "source": [
    "y_train = train_set.pop('vendite')"
   ]
  },
  {
   "cell_type": "code",
   "execution_count": 15,
   "metadata": {
    "collapsed": false
   },
   "outputs": [],
   "source": [
    "cv_params = {'subsample': [0.7,0.9], 'learning_rate':[0.1,0.01]}\n",
    "ind_params = {'max_depth':40,'min_child_weight': 36,'n_estimators': 500, 'seed':0, 'colsample_bytree': 0.8, \n",
    "             'objective': 'reg:linear', \"nthread\":8}\n",
    "\n",
    "optimized_GBM = GridSearchCV(xgb.XGBClassifier(**ind_params),\n",
    "                            cv_params,\n",
    "                            scoring = 'accuracy',\n",
    "                            cv = 3, \n",
    "                            n_jobs = -1)"
   ]
  },
  {
   "cell_type": "code",
   "execution_count": null,
   "metadata": {
    "collapsed": false,
    "scrolled": true
   },
   "outputs": [],
   "source": [
    "optimized_GBM.fit(train_set,y_train)"
   ]
  },
  {
   "cell_type": "code",
   "execution_count": 17,
   "metadata": {
    "collapsed": false
   },
   "outputs": [
    {
     "data": {
      "text/plain": [
       "[mean: 0.24200, std: 0.01815, params: {'subsample': 0.7, 'learning_rate': 0.1},\n",
       " mean: 0.24016, std: 0.01589, params: {'subsample': 0.9, 'learning_rate': 0.1},\n",
       " mean: 0.24660, std: 0.01611, params: {'subsample': 0.7, 'learning_rate': 0.01},\n",
       " mean: 0.24426, std: 0.01585, params: {'subsample': 0.9, 'learning_rate': 0.01}]"
      ]
     },
     "execution_count": 17,
     "metadata": {},
     "output_type": "execute_result"
    }
   ],
   "source": [
    "optimized_GBM.grid_scores_"
   ]
  },
  {
   "cell_type": "code",
   "execution_count": 27,
   "metadata": {
    "collapsed": false
   },
   "outputs": [
    {
     "data": {
      "text/plain": [
       "[mean: 0.23804, std: 0.01847, params: {'max_depth': 20, 'min_child_weight': 15},\n",
       " mean: 0.23888, std: 0.01809, params: {'max_depth': 20, 'min_child_weight': 23},\n",
       " mean: 0.23982, std: 0.01825, params: {'max_depth': 20, 'min_child_weight': 30},\n",
       " mean: 0.24055, std: 0.01800, params: {'max_depth': 20, 'min_child_weight': 36},\n",
       " mean: 0.23947, std: 0.01852, params: {'max_depth': 27, 'min_child_weight': 15},\n",
       " mean: 0.23969, std: 0.01951, params: {'max_depth': 27, 'min_child_weight': 23},\n",
       " mean: 0.23954, std: 0.01913, params: {'max_depth': 27, 'min_child_weight': 30},\n",
       " mean: 0.24077, std: 0.01718, params: {'max_depth': 27, 'min_child_weight': 36},\n",
       " mean: 0.23880, std: 0.01710, params: {'max_depth': 35, 'min_child_weight': 15},\n",
       " mean: 0.23902, std: 0.01720, params: {'max_depth': 35, 'min_child_weight': 23},\n",
       " mean: 0.24024, std: 0.01795, params: {'max_depth': 35, 'min_child_weight': 30},\n",
       " mean: 0.24097, std: 0.01906, params: {'max_depth': 35, 'min_child_weight': 36},\n",
       " mean: 0.23973, std: 0.01706, params: {'max_depth': 40, 'min_child_weight': 15},\n",
       " mean: 0.23954, std: 0.01876, params: {'max_depth': 40, 'min_child_weight': 23},\n",
       " mean: 0.23965, std: 0.01887, params: {'max_depth': 40, 'min_child_weight': 30},\n",
       " mean: 0.24106, std: 0.01812, params: {'max_depth': 40, 'min_child_weight': 36}]"
      ]
     },
     "execution_count": 27,
     "metadata": {},
     "output_type": "execute_result"
    }
   ],
   "source": [
    "optimized_GBM.grid_scores_"
   ]
  },
  {
   "cell_type": "code",
   "execution_count": 132,
   "metadata": {
    "collapsed": false
   },
   "outputs": [
    {
     "data": {
      "text/plain": [
       "[mean: 0.23313, std: 0.03200, params: {'max_depth': 7, 'min_child_weight': 5},\n",
       " mean: 0.23312, std: 0.03298, params: {'max_depth': 7, 'min_child_weight': 7},\n",
       " mean: 0.23236, std: 0.03461, params: {'max_depth': 7, 'min_child_weight': 9},\n",
       " mean: 0.23517, std: 0.03218, params: {'max_depth': 9, 'min_child_weight': 5},\n",
       " mean: 0.23539, std: 0.03347, params: {'max_depth': 9, 'min_child_weight': 7},\n",
       " mean: 0.23425, std: 0.03682, params: {'max_depth': 9, 'min_child_weight': 9},\n",
       " mean: 0.23394, std: 0.03378, params: {'max_depth': 11, 'min_child_weight': 5},\n",
       " mean: 0.23414, std: 0.03398, params: {'max_depth': 11, 'min_child_weight': 7},\n",
       " mean: 0.23394, std: 0.03382, params: {'max_depth': 11, 'min_child_weight': 9}]"
      ]
     },
     "execution_count": 132,
     "metadata": {},
     "output_type": "execute_result"
    }
   ],
   "source": [
    "optimized_GBM.grid_scores_"
   ]
  },
  {
   "cell_type": "code",
   "execution_count": null,
   "metadata": {
    "collapsed": true
   },
   "outputs": [],
   "source": [
    "def custom_evaluation(preds, dtrain):\n",
    "    labels = dtrain.get_label()\n",
    "    # return a pair metric_name, result\n",
    "    # since preds are margin(before logistic transformation, cutoff at 0)\n",
    "    return 'error', float(sum(labels != (preds > 0.0))) / len(labels)"
   ]
  },
  {
   "cell_type": "code",
   "execution_count": null,
   "metadata": {
    "collapsed": true
   },
   "outputs": [],
   "source": [
    "cv_params = {'max_depth': [7,9,11], 'min_child_weight': [5,7,9]}\n",
    "ind_params = {'max_depth': [7,9,11], 'min_child_weight': [5,7,9],'learning_rate': 0.1, 'n_estimators': 500, 'seed':0, 'subsample': 0.8, 'colsample_bytree': 0.8, \n",
    "             'objective': 'reg:linear', \"nthread\":8}\n",
    "\n",
    "optimized_GBM = GridSearchCV(xgb.XGBClassifier(**ind_params),\n",
    "                            cv_params,\n",
    "                            scoring = 'accuracy',\n",
    "                            cv = 2, \n",
    "                            n_jobs = -1)"
   ]
  },
  {
   "cell_type": "code",
   "execution_count": 19,
   "metadata": {
    "collapsed": false
   },
   "outputs": [],
   "source": [
    "xgdmat = xgb.DMatrix(train_set, y_train, missing=np.nan)"
   ]
  },
  {
   "cell_type": "code",
   "execution_count": 11,
   "metadata": {
    "collapsed": false
   },
   "outputs": [
    {
     "name": "stderr",
     "output_type": "stream",
     "text": [
      "Will train until cv error hasn't decreased in 100 rounds.\n"
     ]
    },
    {
     "ename": "KeyboardInterrupt",
     "evalue": "",
     "output_type": "error",
     "traceback": [
      "\u001b[1;31m---------------------------------------------------------------------------\u001b[0m",
      "\u001b[1;31mKeyboardInterrupt\u001b[0m                         Traceback (most recent call last)",
      "\u001b[1;32m<ipython-input-11-a4808dab1a93>\u001b[0m in \u001b[0;36m<module>\u001b[1;34m()\u001b[0m\n\u001b[0;32m      5\u001b[0m cv_xgb = xgb.cv(params = our_params, dtrain = xgdmat, num_boost_round = 3000, nfold = 5,\n\u001b[0;32m      6\u001b[0m                 \u001b[0mmetrics\u001b[0m \u001b[1;33m=\u001b[0m \u001b[1;33m[\u001b[0m\u001b[1;34m'error'\u001b[0m\u001b[1;33m]\u001b[0m\u001b[1;33m,\u001b[0m\u001b[1;33m\u001b[0m\u001b[0m\n\u001b[1;32m----> 7\u001b[1;33m                 early_stopping_rounds = 100)\n\u001b[0m",
      "\u001b[1;32m/home/ubuntu/anaconda2/lib/python2.7/site-packages/xgboost/training.pyc\u001b[0m in \u001b[0;36mcv\u001b[1;34m(params, dtrain, num_boost_round, nfold, metrics, obj, feval, maximize, early_stopping_rounds, fpreproc, as_pandas, show_progress, show_stdv, seed)\u001b[0m\n\u001b[0;32m    416\u001b[0m     \u001b[1;32mfor\u001b[0m \u001b[0mi\u001b[0m \u001b[1;32min\u001b[0m \u001b[0mrange\u001b[0m\u001b[1;33m(\u001b[0m\u001b[0mnum_boost_round\u001b[0m\u001b[1;33m)\u001b[0m\u001b[1;33m:\u001b[0m\u001b[1;33m\u001b[0m\u001b[0m\n\u001b[0;32m    417\u001b[0m         \u001b[1;32mfor\u001b[0m \u001b[0mfold\u001b[0m \u001b[1;32min\u001b[0m \u001b[0mcvfolds\u001b[0m\u001b[1;33m:\u001b[0m\u001b[1;33m\u001b[0m\u001b[0m\n\u001b[1;32m--> 418\u001b[1;33m             \u001b[0mfold\u001b[0m\u001b[1;33m.\u001b[0m\u001b[0mupdate\u001b[0m\u001b[1;33m(\u001b[0m\u001b[0mi\u001b[0m\u001b[1;33m,\u001b[0m \u001b[0mobj\u001b[0m\u001b[1;33m)\u001b[0m\u001b[1;33m\u001b[0m\u001b[0m\n\u001b[0m\u001b[0;32m    419\u001b[0m         res = aggcv([f.eval(i, feval) for f in cvfolds],\n\u001b[0;32m    420\u001b[0m                     \u001b[0mshow_stdv\u001b[0m\u001b[1;33m=\u001b[0m\u001b[0mshow_stdv\u001b[0m\u001b[1;33m,\u001b[0m \u001b[0mshow_progress\u001b[0m\u001b[1;33m=\u001b[0m\u001b[0mshow_progress\u001b[0m\u001b[1;33m,\u001b[0m\u001b[1;33m\u001b[0m\u001b[0m\n",
      "\u001b[1;32m/home/ubuntu/anaconda2/lib/python2.7/site-packages/xgboost/training.pyc\u001b[0m in \u001b[0;36mupdate\u001b[1;34m(self, iteration, fobj)\u001b[0m\n\u001b[0;32m    255\u001b[0m     \u001b[1;32mdef\u001b[0m \u001b[0mupdate\u001b[0m\u001b[1;33m(\u001b[0m\u001b[0mself\u001b[0m\u001b[1;33m,\u001b[0m \u001b[0miteration\u001b[0m\u001b[1;33m,\u001b[0m \u001b[0mfobj\u001b[0m\u001b[1;33m)\u001b[0m\u001b[1;33m:\u001b[0m\u001b[1;33m\u001b[0m\u001b[0m\n\u001b[0;32m    256\u001b[0m         \u001b[1;34m\"\"\"\"Update the boosters for one iteration\"\"\"\u001b[0m\u001b[1;33m\u001b[0m\u001b[0m\n\u001b[1;32m--> 257\u001b[1;33m         \u001b[0mself\u001b[0m\u001b[1;33m.\u001b[0m\u001b[0mbst\u001b[0m\u001b[1;33m.\u001b[0m\u001b[0mupdate\u001b[0m\u001b[1;33m(\u001b[0m\u001b[0mself\u001b[0m\u001b[1;33m.\u001b[0m\u001b[0mdtrain\u001b[0m\u001b[1;33m,\u001b[0m \u001b[0miteration\u001b[0m\u001b[1;33m,\u001b[0m \u001b[0mfobj\u001b[0m\u001b[1;33m)\u001b[0m\u001b[1;33m\u001b[0m\u001b[0m\n\u001b[0m\u001b[0;32m    258\u001b[0m \u001b[1;33m\u001b[0m\u001b[0m\n\u001b[0;32m    259\u001b[0m     \u001b[1;32mdef\u001b[0m \u001b[0meval\u001b[0m\u001b[1;33m(\u001b[0m\u001b[0mself\u001b[0m\u001b[1;33m,\u001b[0m \u001b[0miteration\u001b[0m\u001b[1;33m,\u001b[0m \u001b[0mfeval\u001b[0m\u001b[1;33m)\u001b[0m\u001b[1;33m:\u001b[0m\u001b[1;33m\u001b[0m\u001b[0m\n",
      "\u001b[1;32m/home/ubuntu/anaconda2/lib/python2.7/site-packages/xgboost/core.pyc\u001b[0m in \u001b[0;36mupdate\u001b[1;34m(self, dtrain, iteration, fobj)\u001b[0m\n\u001b[0;32m    692\u001b[0m \u001b[1;33m\u001b[0m\u001b[0m\n\u001b[0;32m    693\u001b[0m         \u001b[1;32mif\u001b[0m \u001b[0mfobj\u001b[0m \u001b[1;32mis\u001b[0m \u001b[0mNone\u001b[0m\u001b[1;33m:\u001b[0m\u001b[1;33m\u001b[0m\u001b[0m\n\u001b[1;32m--> 694\u001b[1;33m             \u001b[0m_check_call\u001b[0m\u001b[1;33m(\u001b[0m\u001b[0m_LIB\u001b[0m\u001b[1;33m.\u001b[0m\u001b[0mXGBoosterUpdateOneIter\u001b[0m\u001b[1;33m(\u001b[0m\u001b[0mself\u001b[0m\u001b[1;33m.\u001b[0m\u001b[0mhandle\u001b[0m\u001b[1;33m,\u001b[0m \u001b[0miteration\u001b[0m\u001b[1;33m,\u001b[0m \u001b[0mdtrain\u001b[0m\u001b[1;33m.\u001b[0m\u001b[0mhandle\u001b[0m\u001b[1;33m)\u001b[0m\u001b[1;33m)\u001b[0m\u001b[1;33m\u001b[0m\u001b[0m\n\u001b[0m\u001b[0;32m    695\u001b[0m         \u001b[1;32melse\u001b[0m\u001b[1;33m:\u001b[0m\u001b[1;33m\u001b[0m\u001b[0m\n\u001b[0;32m    696\u001b[0m             \u001b[0mpred\u001b[0m \u001b[1;33m=\u001b[0m \u001b[0mself\u001b[0m\u001b[1;33m.\u001b[0m\u001b[0mpredict\u001b[0m\u001b[1;33m(\u001b[0m\u001b[0mdtrain\u001b[0m\u001b[1;33m)\u001b[0m\u001b[1;33m\u001b[0m\u001b[0m\n",
      "\u001b[1;31mKeyboardInterrupt\u001b[0m: "
     ]
    }
   ],
   "source": [
    "our_params = {'eta': 0.1, 'seed':0, 'subsample': 0.8, 'colsample_bytree': 0.8, \n",
    "             'objective': 'reg:linear', 'max_depth':7, 'min_child_weight':5, \"nthread\":8} \n",
    "# Grid Search CV optimized settings\n",
    "\n",
    "cv_xgb = xgb.cv(params = our_params, dtrain = xgdmat, num_boost_round = 3000, nfold = 5,\n",
    "                metrics = ['error'], \n",
    "                early_stopping_rounds = 100)"
   ]
  },
  {
   "cell_type": "code",
   "execution_count": 20,
   "metadata": {
    "collapsed": false
   },
   "outputs": [],
   "source": [
    "our_params = {'eta': 0.1, 'seed':0, 'subsample': 0.8, 'colsample_bytree': 0.8, \n",
    "             'objective': 'reg:linear', 'max_depth':3, 'min_child_weight':1} \n",
    "\n",
    "final_gb = xgb.train(our_params, xgdmat, num_boost_round = 100)"
   ]
  },
  {
   "cell_type": "code",
   "execution_count": 21,
   "metadata": {
    "collapsed": false
   },
   "outputs": [],
   "source": [
    "testdmat = xgb.DMatrix(test_set, missing=np.nan)"
   ]
  },
  {
   "cell_type": "code",
   "execution_count": 22,
   "metadata": {
    "collapsed": false
   },
   "outputs": [
    {
     "data": {
      "text/plain": [
       "array([ 6.25132895,  3.41447377,  1.84642565, ...,  1.84321249,\n",
       "        0.92337108,  1.14182711], dtype=float32)"
      ]
     },
     "execution_count": 22,
     "metadata": {},
     "output_type": "execute_result"
    }
   ],
   "source": [
    "y_pred = final_gb.predict(testdmat) # Predict using our testdmat\n",
    "y_pred"
   ]
  },
  {
   "cell_type": "code",
   "execution_count": 23,
   "metadata": {
    "collapsed": false
   },
   "outputs": [
    {
     "data": {
      "text/plain": [
       "array([ 6.25132895,  3.41447377,  1.84642565,  1.95581186,  0.98951685,\n",
       "        1.25442624,  6.25132895,  2.83298182,  6.25132895,  3.3680203 ], dtype=float32)"
      ]
     },
     "execution_count": 23,
     "metadata": {},
     "output_type": "execute_result"
    }
   ],
   "source": [
    "y_pred[:10]"
   ]
  },
  {
   "cell_type": "code",
   "execution_count": 14,
   "metadata": {
    "collapsed": false
   },
   "outputs": [
    {
     "data": {
      "text/plain": [
       "array([ 6.83515167,  3.75366306,  2.23812723, ...,  2.07126808,\n",
       "        1.40312445,  1.3314755 ], dtype=float32)"
      ]
     },
     "execution_count": 14,
     "metadata": {},
     "output_type": "execute_result"
    }
   ],
   "source": [
    "y_pred = final_gb.predict(testdmat) # Predict using our testdmat\n",
    "y_pred"
   ]
  }
 ],
 "metadata": {
  "kernelspec": {
   "display_name": "Python 2",
   "language": "python",
   "name": "python2"
  },
  "language_info": {
   "codemirror_mode": {
    "name": "ipython",
    "version": 2
   },
   "file_extension": ".py",
   "mimetype": "text/x-python",
   "name": "python",
   "nbconvert_exporter": "python",
   "pygments_lexer": "ipython2",
   "version": "2.7.11"
  }
 },
 "nbformat": 4,
 "nbformat_minor": 0
}
