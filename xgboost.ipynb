{
 "cells": [
  {
   "cell_type": "markdown",
   "metadata": {},
   "source": [
    "XGBoost\n",
    "==="
   ]
  },
  {
   "cell_type": "code",
   "execution_count": 215,
   "metadata": {
    "collapsed": false
   },
   "outputs": [],
   "source": [
    "import xgboost as xgb\n",
    "from scipy.sparse import csr_matrix\n",
    "import pandas as pd\n",
    "import numpy as np\n",
    "import scipy as sci\n",
    "from sklearn import preprocessing\n",
    "from sklearn.grid_search import GridSearchCV"
   ]
  },
  {
   "cell_type": "markdown",
   "metadata": {},
   "source": [
    "Algorithms\n",
    "---"
   ]
  },
  {
   "cell_type": "code",
   "execution_count": 216,
   "metadata": {
    "collapsed": false
   },
   "outputs": [],
   "source": [
    "# Parsing\n",
    "train_set = pd.read_csv('dataset/output/train_local_dataset_polimi_extended_no2014.csv',delimiter=',')\n",
    "test_set = pd.read_csv('dataset/output/test_local_dataset_polimi_extended_no2014.csv',delimiter=',')\n",
    "pd.options.mode.chained_assignment = None"
   ]
  },
  {
   "cell_type": "markdown",
   "metadata": {},
   "source": [
    "train_set = train_set[['area','sottoarea','timestamp','categoria','vendite']]\n",
    "test_set = test_set[['area','sottoarea','timestamp','categoria']]"
   ]
  },
  {
   "cell_type": "code",
   "execution_count": 217,
   "metadata": {
    "collapsed": false
   },
   "outputs": [
    {
     "data": {
      "text/html": [
       "<div>\n",
       "<table border=\"1\" class=\"dataframe\">\n",
       "  <thead>\n",
       "    <tr style=\"text-align: right;\">\n",
       "      <th></th>\n",
       "      <th>zona</th>\n",
       "      <th>area</th>\n",
       "      <th>sottoarea</th>\n",
       "      <th>categoria</th>\n",
       "      <th>timestamp</th>\n",
       "      <th>giorno_della_settimana</th>\n",
       "      <th>giorno_del_mese</th>\n",
       "      <th>giorno_dell_anno</th>\n",
       "      <th>settimana_dell_anno</th>\n",
       "      <th>mese</th>\n",
       "      <th>...</th>\n",
       "      <th>regione_PUG</th>\n",
       "      <th>regione_SAR</th>\n",
       "      <th>regione_SIC</th>\n",
       "      <th>regione_TAA</th>\n",
       "      <th>regione_TOS</th>\n",
       "      <th>regione_UMB</th>\n",
       "      <th>regione_VEN</th>\n",
       "      <th>zona_italia_Centro</th>\n",
       "      <th>zona_italia_Nord</th>\n",
       "      <th>zona_italia_Sud</th>\n",
       "    </tr>\n",
       "  </thead>\n",
       "  <tbody>\n",
       "    <tr>\n",
       "      <th>0</th>\n",
       "      <td>1</td>\n",
       "      <td>1</td>\n",
       "      <td>5</td>\n",
       "      <td>1</td>\n",
       "      <td>1420070400</td>\n",
       "      <td>3</td>\n",
       "      <td>1</td>\n",
       "      <td>1</td>\n",
       "      <td>0</td>\n",
       "      <td>1</td>\n",
       "      <td>...</td>\n",
       "      <td>0.0</td>\n",
       "      <td>0.0</td>\n",
       "      <td>0.0</td>\n",
       "      <td>0.0</td>\n",
       "      <td>0.0</td>\n",
       "      <td>0.0</td>\n",
       "      <td>0.0</td>\n",
       "      <td>0.0</td>\n",
       "      <td>0.0</td>\n",
       "      <td>1.0</td>\n",
       "    </tr>\n",
       "    <tr>\n",
       "      <th>1</th>\n",
       "      <td>1</td>\n",
       "      <td>1</td>\n",
       "      <td>5</td>\n",
       "      <td>1</td>\n",
       "      <td>1420156800</td>\n",
       "      <td>4</td>\n",
       "      <td>2</td>\n",
       "      <td>2</td>\n",
       "      <td>0</td>\n",
       "      <td>1</td>\n",
       "      <td>...</td>\n",
       "      <td>0.0</td>\n",
       "      <td>0.0</td>\n",
       "      <td>0.0</td>\n",
       "      <td>0.0</td>\n",
       "      <td>0.0</td>\n",
       "      <td>0.0</td>\n",
       "      <td>0.0</td>\n",
       "      <td>0.0</td>\n",
       "      <td>0.0</td>\n",
       "      <td>1.0</td>\n",
       "    </tr>\n",
       "    <tr>\n",
       "      <th>2</th>\n",
       "      <td>1</td>\n",
       "      <td>1</td>\n",
       "      <td>5</td>\n",
       "      <td>1</td>\n",
       "      <td>1420243200</td>\n",
       "      <td>5</td>\n",
       "      <td>3</td>\n",
       "      <td>3</td>\n",
       "      <td>0</td>\n",
       "      <td>1</td>\n",
       "      <td>...</td>\n",
       "      <td>0.0</td>\n",
       "      <td>0.0</td>\n",
       "      <td>0.0</td>\n",
       "      <td>0.0</td>\n",
       "      <td>0.0</td>\n",
       "      <td>0.0</td>\n",
       "      <td>0.0</td>\n",
       "      <td>0.0</td>\n",
       "      <td>0.0</td>\n",
       "      <td>1.0</td>\n",
       "    </tr>\n",
       "    <tr>\n",
       "      <th>3</th>\n",
       "      <td>1</td>\n",
       "      <td>1</td>\n",
       "      <td>5</td>\n",
       "      <td>1</td>\n",
       "      <td>1420329600</td>\n",
       "      <td>6</td>\n",
       "      <td>4</td>\n",
       "      <td>4</td>\n",
       "      <td>1</td>\n",
       "      <td>1</td>\n",
       "      <td>...</td>\n",
       "      <td>0.0</td>\n",
       "      <td>0.0</td>\n",
       "      <td>0.0</td>\n",
       "      <td>0.0</td>\n",
       "      <td>0.0</td>\n",
       "      <td>0.0</td>\n",
       "      <td>0.0</td>\n",
       "      <td>0.0</td>\n",
       "      <td>0.0</td>\n",
       "      <td>1.0</td>\n",
       "    </tr>\n",
       "    <tr>\n",
       "      <th>4</th>\n",
       "      <td>1</td>\n",
       "      <td>1</td>\n",
       "      <td>5</td>\n",
       "      <td>1</td>\n",
       "      <td>1420416000</td>\n",
       "      <td>0</td>\n",
       "      <td>5</td>\n",
       "      <td>5</td>\n",
       "      <td>1</td>\n",
       "      <td>1</td>\n",
       "      <td>...</td>\n",
       "      <td>0.0</td>\n",
       "      <td>0.0</td>\n",
       "      <td>0.0</td>\n",
       "      <td>0.0</td>\n",
       "      <td>0.0</td>\n",
       "      <td>0.0</td>\n",
       "      <td>0.0</td>\n",
       "      <td>0.0</td>\n",
       "      <td>0.0</td>\n",
       "      <td>1.0</td>\n",
       "    </tr>\n",
       "  </tbody>\n",
       "</table>\n",
       "<p>5 rows × 44 columns</p>\n",
       "</div>"
      ],
      "text/plain": [
       "   zona  area  sottoarea  categoria   timestamp  giorno_della_settimana  \\\n",
       "0     1     1          5          1  1420070400                       3   \n",
       "1     1     1          5          1  1420156800                       4   \n",
       "2     1     1          5          1  1420243200                       5   \n",
       "3     1     1          5          1  1420329600                       6   \n",
       "4     1     1          5          1  1420416000                       0   \n",
       "\n",
       "   giorno_del_mese  giorno_dell_anno  settimana_dell_anno  mese  \\\n",
       "0                1                 1                    0     1   \n",
       "1                2                 2                    0     1   \n",
       "2                3                 3                    0     1   \n",
       "3                4                 4                    1     1   \n",
       "4                5                 5                    1     1   \n",
       "\n",
       "        ...         regione_PUG  regione_SAR  regione_SIC  regione_TAA  \\\n",
       "0       ...                 0.0          0.0          0.0          0.0   \n",
       "1       ...                 0.0          0.0          0.0          0.0   \n",
       "2       ...                 0.0          0.0          0.0          0.0   \n",
       "3       ...                 0.0          0.0          0.0          0.0   \n",
       "4       ...                 0.0          0.0          0.0          0.0   \n",
       "\n",
       "   regione_TOS  regione_UMB  regione_VEN  zona_italia_Centro  \\\n",
       "0          0.0          0.0          0.0                 0.0   \n",
       "1          0.0          0.0          0.0                 0.0   \n",
       "2          0.0          0.0          0.0                 0.0   \n",
       "3          0.0          0.0          0.0                 0.0   \n",
       "4          0.0          0.0          0.0                 0.0   \n",
       "\n",
       "   zona_italia_Nord  zona_italia_Sud  \n",
       "0               0.0              1.0  \n",
       "1               0.0              1.0  \n",
       "2               0.0              1.0  \n",
       "3               0.0              1.0  \n",
       "4               0.0              1.0  \n",
       "\n",
       "[5 rows x 44 columns]"
      ]
     },
     "execution_count": 217,
     "metadata": {},
     "output_type": "execute_result"
    }
   ],
   "source": [
    "train_set.head()"
   ]
  },
  {
   "cell_type": "code",
   "execution_count": 218,
   "metadata": {
    "collapsed": false
   },
   "outputs": [
    {
     "data": {
      "text/html": [
       "<div>\n",
       "<table border=\"1\" class=\"dataframe\">\n",
       "  <thead>\n",
       "    <tr style=\"text-align: right;\">\n",
       "      <th></th>\n",
       "      <th>zona</th>\n",
       "      <th>area</th>\n",
       "      <th>sottoarea</th>\n",
       "      <th>categoria</th>\n",
       "      <th>timestamp</th>\n",
       "      <th>giorno_della_settimana</th>\n",
       "      <th>giorno_del_mese</th>\n",
       "      <th>giorno_dell_anno</th>\n",
       "      <th>settimana_dell_anno</th>\n",
       "      <th>mese</th>\n",
       "      <th>...</th>\n",
       "      <th>regione_PUG</th>\n",
       "      <th>regione_SAR</th>\n",
       "      <th>regione_SIC</th>\n",
       "      <th>regione_TAA</th>\n",
       "      <th>regione_TOS</th>\n",
       "      <th>regione_UMB</th>\n",
       "      <th>regione_VEN</th>\n",
       "      <th>zona_italia_Centro</th>\n",
       "      <th>zona_italia_Nord</th>\n",
       "      <th>zona_italia_Sud</th>\n",
       "    </tr>\n",
       "  </thead>\n",
       "  <tbody>\n",
       "    <tr>\n",
       "      <th>0</th>\n",
       "      <td>1</td>\n",
       "      <td>1</td>\n",
       "      <td>5</td>\n",
       "      <td>1</td>\n",
       "      <td>1462838400</td>\n",
       "      <td>1</td>\n",
       "      <td>10</td>\n",
       "      <td>131</td>\n",
       "      <td>19</td>\n",
       "      <td>5</td>\n",
       "      <td>...</td>\n",
       "      <td>0.0</td>\n",
       "      <td>0.0</td>\n",
       "      <td>0.0</td>\n",
       "      <td>0.0</td>\n",
       "      <td>0.0</td>\n",
       "      <td>0.0</td>\n",
       "      <td>0.0</td>\n",
       "      <td>0.0</td>\n",
       "      <td>0.0</td>\n",
       "      <td>1.0</td>\n",
       "    </tr>\n",
       "    <tr>\n",
       "      <th>1</th>\n",
       "      <td>1</td>\n",
       "      <td>1</td>\n",
       "      <td>5</td>\n",
       "      <td>1</td>\n",
       "      <td>1462924800</td>\n",
       "      <td>2</td>\n",
       "      <td>11</td>\n",
       "      <td>132</td>\n",
       "      <td>19</td>\n",
       "      <td>5</td>\n",
       "      <td>...</td>\n",
       "      <td>0.0</td>\n",
       "      <td>0.0</td>\n",
       "      <td>0.0</td>\n",
       "      <td>0.0</td>\n",
       "      <td>0.0</td>\n",
       "      <td>0.0</td>\n",
       "      <td>0.0</td>\n",
       "      <td>0.0</td>\n",
       "      <td>0.0</td>\n",
       "      <td>1.0</td>\n",
       "    </tr>\n",
       "    <tr>\n",
       "      <th>2</th>\n",
       "      <td>1</td>\n",
       "      <td>1</td>\n",
       "      <td>5</td>\n",
       "      <td>1</td>\n",
       "      <td>1463011200</td>\n",
       "      <td>3</td>\n",
       "      <td>12</td>\n",
       "      <td>133</td>\n",
       "      <td>19</td>\n",
       "      <td>5</td>\n",
       "      <td>...</td>\n",
       "      <td>0.0</td>\n",
       "      <td>0.0</td>\n",
       "      <td>0.0</td>\n",
       "      <td>0.0</td>\n",
       "      <td>0.0</td>\n",
       "      <td>0.0</td>\n",
       "      <td>0.0</td>\n",
       "      <td>0.0</td>\n",
       "      <td>0.0</td>\n",
       "      <td>1.0</td>\n",
       "    </tr>\n",
       "    <tr>\n",
       "      <th>3</th>\n",
       "      <td>1</td>\n",
       "      <td>1</td>\n",
       "      <td>5</td>\n",
       "      <td>1</td>\n",
       "      <td>1463097600</td>\n",
       "      <td>4</td>\n",
       "      <td>13</td>\n",
       "      <td>134</td>\n",
       "      <td>19</td>\n",
       "      <td>5</td>\n",
       "      <td>...</td>\n",
       "      <td>0.0</td>\n",
       "      <td>0.0</td>\n",
       "      <td>0.0</td>\n",
       "      <td>0.0</td>\n",
       "      <td>0.0</td>\n",
       "      <td>0.0</td>\n",
       "      <td>0.0</td>\n",
       "      <td>0.0</td>\n",
       "      <td>0.0</td>\n",
       "      <td>1.0</td>\n",
       "    </tr>\n",
       "    <tr>\n",
       "      <th>4</th>\n",
       "      <td>1</td>\n",
       "      <td>1</td>\n",
       "      <td>5</td>\n",
       "      <td>1</td>\n",
       "      <td>1463184000</td>\n",
       "      <td>5</td>\n",
       "      <td>14</td>\n",
       "      <td>135</td>\n",
       "      <td>19</td>\n",
       "      <td>5</td>\n",
       "      <td>...</td>\n",
       "      <td>0.0</td>\n",
       "      <td>0.0</td>\n",
       "      <td>0.0</td>\n",
       "      <td>0.0</td>\n",
       "      <td>0.0</td>\n",
       "      <td>0.0</td>\n",
       "      <td>0.0</td>\n",
       "      <td>0.0</td>\n",
       "      <td>0.0</td>\n",
       "      <td>1.0</td>\n",
       "    </tr>\n",
       "  </tbody>\n",
       "</table>\n",
       "<p>5 rows × 43 columns</p>\n",
       "</div>"
      ],
      "text/plain": [
       "   zona  area  sottoarea  categoria   timestamp  giorno_della_settimana  \\\n",
       "0     1     1          5          1  1462838400                       1   \n",
       "1     1     1          5          1  1462924800                       2   \n",
       "2     1     1          5          1  1463011200                       3   \n",
       "3     1     1          5          1  1463097600                       4   \n",
       "4     1     1          5          1  1463184000                       5   \n",
       "\n",
       "   giorno_del_mese  giorno_dell_anno  settimana_dell_anno  mese  \\\n",
       "0               10               131                   19     5   \n",
       "1               11               132                   19     5   \n",
       "2               12               133                   19     5   \n",
       "3               13               134                   19     5   \n",
       "4               14               135                   19     5   \n",
       "\n",
       "        ...         regione_PUG  regione_SAR  regione_SIC  regione_TAA  \\\n",
       "0       ...                 0.0          0.0          0.0          0.0   \n",
       "1       ...                 0.0          0.0          0.0          0.0   \n",
       "2       ...                 0.0          0.0          0.0          0.0   \n",
       "3       ...                 0.0          0.0          0.0          0.0   \n",
       "4       ...                 0.0          0.0          0.0          0.0   \n",
       "\n",
       "   regione_TOS  regione_UMB  regione_VEN  zona_italia_Centro  \\\n",
       "0          0.0          0.0          0.0                 0.0   \n",
       "1          0.0          0.0          0.0                 0.0   \n",
       "2          0.0          0.0          0.0                 0.0   \n",
       "3          0.0          0.0          0.0                 0.0   \n",
       "4          0.0          0.0          0.0                 0.0   \n",
       "\n",
       "   zona_italia_Nord  zona_italia_Sud  \n",
       "0               0.0              1.0  \n",
       "1               0.0              1.0  \n",
       "2               0.0              1.0  \n",
       "3               0.0              1.0  \n",
       "4               0.0              1.0  \n",
       "\n",
       "[5 rows x 43 columns]"
      ]
     },
     "execution_count": 218,
     "metadata": {},
     "output_type": "execute_result"
    }
   ],
   "source": [
    "test_set = test_set.drop('vendite',1)\n",
    "test_set.head()"
   ]
  },
  {
   "cell_type": "code",
   "execution_count": 219,
   "metadata": {
    "collapsed": false
   },
   "outputs": [],
   "source": [
    "y_train = train_set.pop('vendite')"
   ]
  },
  {
   "cell_type": "code",
   "execution_count": 40,
   "metadata": {
    "collapsed": false
   },
   "outputs": [],
   "source": [
    "cv_params = { 'max_depth':[1,10,100],'min_child_weight':[1,10,100] }\n",
    "ind_params = { 'subsample':0.9,'learning_rate':0.01,'n_estimators': 500, 'seed':0, 'colsample_bytree': 0.8, \n",
    "             'objective': 'reg:linear', \"nthread\":8}\n",
    "\n",
    "optimized_GBM = GridSearchCV(xgb.XGBClassifier(**ind_params),\n",
    "                            cv_params,\n",
    "                            scoring = 'accuracy',\n",
    "                            cv = 3, \n",
    "                            n_jobs = -1)"
   ]
  },
  {
   "cell_type": "code",
   "execution_count": null,
   "metadata": {
    "collapsed": false,
    "scrolled": true
   },
   "outputs": [],
   "source": [
    "optimized_GBM.fit(train_set,y_train)"
   ]
  },
  {
   "cell_type": "code",
   "execution_count": 12,
   "metadata": {
    "collapsed": false
   },
   "outputs": [
    {
     "data": {
      "text/plain": [
       "[mean: 0.25241, std: 0.01767, params: {'max_depth': 10, 'min_child_weight': 10},\n",
       " mean: 0.25140, std: 0.01398, params: {'max_depth': 10, 'min_child_weight': 70},\n",
       " mean: 0.25334, std: 0.01664, params: {'max_depth': 70, 'min_child_weight': 10},\n",
       " mean: 0.25571, std: 0.01535, params: {'max_depth': 70, 'min_child_weight': 70}]"
      ]
     },
     "execution_count": 12,
     "metadata": {},
     "output_type": "execute_result"
    }
   ],
   "source": [
    "optimized_GBM.grid_scores_"
   ]
  },
  {
   "cell_type": "code",
   "execution_count": 220,
   "metadata": {
    "collapsed": false
   },
   "outputs": [],
   "source": [
    "xgdmat = xgb.DMatrix(train_set, y_train, missing=np.nan)"
   ]
  },
  {
   "cell_type": "code",
   "execution_count": 14,
   "metadata": {
    "collapsed": false
   },
   "outputs": [
    {
     "name": "stderr",
     "output_type": "stream",
     "text": [
      "Will train until cv error hasn't decreased in 100 rounds.\n",
      "Stopping. Best iteration: 562\n"
     ]
    }
   ],
   "source": [
    "our_params = {'eta': 0.1, 'seed':0,'learning_rate':0.01, 'subsample': 0.9, 'colsample_bytree': 0.8, \n",
    "             'objective': 'reg:linear', 'max_depth':70, 'min_child_weight':70, \"nthread\":8} \n",
    "# Grid Search CV optimized settings\n",
    "\n",
    "cv_xgb = xgb.cv(params = our_params, dtrain = xgdmat, num_boost_round = 3000, nfold = 5,\n",
    "                metrics = ['error'], \n",
    "                early_stopping_rounds = 100)"
   ]
  },
  {
   "cell_type": "code",
   "execution_count": 221,
   "metadata": {
    "collapsed": false
   },
   "outputs": [],
   "source": [
    "our_params = {'eta': 0.1, 'seed':0, 'subsample': 0.8, 'colsample_bytree': 0.8, \n",
    "             'objective': 'reg:linear', 'max_depth':10, 'min_child_weight':10} \n",
    "\n",
    "final_gb = xgb.train(our_params, xgdmat, num_boost_round = 562)"
   ]
  },
  {
   "cell_type": "code",
   "execution_count": 222,
   "metadata": {
    "collapsed": false
   },
   "outputs": [],
   "source": [
    "testdmat = xgb.DMatrix(test_set, missing=np.nan)"
   ]
  },
  {
   "cell_type": "code",
   "execution_count": 223,
   "metadata": {
    "collapsed": false
   },
   "outputs": [
    {
     "data": {
      "text/plain": [
       "array([ 9.13438892,  9.00417519,  8.97003746, ...,  2.34735298,\n",
       "        2.166327  ,  2.91668844], dtype=float32)"
      ]
     },
     "execution_count": 223,
     "metadata": {},
     "output_type": "execute_result"
    }
   ],
   "source": [
    "y_pred = final_gb.predict(testdmat) # Predict using our testdmat\n",
    "y_pred"
   ]
  },
  {
   "cell_type": "code",
   "execution_count": null,
   "metadata": {
    "collapsed": true
   },
   "outputs": [],
   "source": []
  },
  {
   "cell_type": "code",
   "execution_count": null,
   "metadata": {
    "collapsed": true
   },
   "outputs": [],
   "source": []
  },
  {
   "cell_type": "code",
   "execution_count": 334,
   "metadata": {
    "collapsed": false
   },
   "outputs": [],
   "source": [
    "final_df = test_set.copy()"
   ]
  },
  {
   "cell_type": "code",
   "execution_count": 335,
   "metadata": {
    "collapsed": true
   },
   "outputs": [],
   "source": [
    "final_df['prediction'] = y_pred"
   ]
  },
  {
   "cell_type": "code",
   "execution_count": 286,
   "metadata": {
    "collapsed": false
   },
   "outputs": [
    {
     "name": "stdout",
     "output_type": "stream",
     "text": [
      "0    9.0\n",
      "1    9.0\n",
      "2    9.0\n",
      "3    9.0\n",
      "4    2.0\n",
      "Name: prediction, dtype: float64\n"
     ]
    }
   ],
   "source": [
    "final_df['prediction'] = final_df['prediction'].map(lambda x: round(x))\n",
    "    \n",
    "print final_df.head()['prediction']"
   ]
  },
  {
   "cell_type": "code",
   "execution_count": null,
   "metadata": {
    "collapsed": true
   },
   "outputs": [],
   "source": []
  },
  {
   "cell_type": "code",
   "execution_count": null,
   "metadata": {
    "collapsed": true
   },
   "outputs": [],
   "source": []
  },
  {
   "cell_type": "code",
   "execution_count": null,
   "metadata": {
    "collapsed": true
   },
   "outputs": [],
   "source": []
  },
  {
   "cell_type": "markdown",
   "metadata": {},
   "source": [
    "ENSEMBLE\n",
    "===\n",
    "Dati ARMA\n",
    "---"
   ]
  },
  {
   "cell_type": "code",
   "execution_count": 316,
   "metadata": {
    "collapsed": false
   },
   "outputs": [
    {
     "name": "stdout",
     "output_type": "stream",
     "text": [
      "   Sottoarea         p1        p2        p3        p4        p5        p6  \\\n",
      "0          1   3.696093  2.845264  2.298765  2.211461  2.362665  2.516626   \n",
      "1          2   6.453488  4.209412  3.562813  4.655359  4.274754  4.155359   \n",
      "2          3   1.749039  0.731649  1.055015  1.855050  1.179213  0.746936   \n",
      "3          4   5.947260  5.235588  4.950944  4.525222  4.555232  4.669086   \n",
      "4          5  10.604680  9.872195  7.424551  5.611206  5.254126  6.115085   \n",
      "\n",
      "         p7        p8        p9       p10  \n",
      "0  2.576818  2.562199  2.526496  2.504315  \n",
      "1  4.587996  4.155652  4.395151  4.391570  \n",
      "2  1.580534  1.595378  0.809224  1.162431  \n",
      "3  4.573520  4.609151  4.612898  4.598645  \n",
      "4  7.092021  7.582609  7.394454  6.965099  \n"
     ]
    }
   ],
   "source": [
    "p1 = pd.read_csv('/home/ubuntu/forecasts.csv',delimiter=',')\n",
    "print p1.head()"
   ]
  },
  {
   "cell_type": "code",
   "execution_count": 317,
   "metadata": {
    "collapsed": false
   },
   "outputs": [
    {
     "name": "stdout",
     "output_type": "stream",
     "text": [
      "   Sottoarea         p1        p2        p3        p4        p5        p6  \\\n",
      "0          1   3.696093  2.845264  2.298765  2.211461  2.362665  2.516626   \n",
      "1          2   6.453488  4.209412  3.562813  4.655359  4.274754  4.155359   \n",
      "2          3   1.749039  0.731649  1.055015  1.855050  1.179213  0.746936   \n",
      "3          4   5.947260  5.235588  4.950944  4.525222  4.555232  4.669086   \n",
      "4          5  10.604680  9.872195  7.424551  5.611206  5.254126  6.115085   \n",
      "\n",
      "         p7        p8        p9       p10  \n",
      "0  2.576818  2.562199  2.526496  2.504315  \n",
      "1  4.587996  4.155652  4.395151  4.391570  \n",
      "2  1.580534  1.595378  0.809224  1.162431  \n",
      "3  4.573520  4.609151  4.612898  4.598645  \n",
      "4  7.092021  7.582609  7.394454  6.965099  \n"
     ]
    }
   ],
   "source": [
    "p2 = pd.read_csv('/home/ubuntu/forecasts2.csv',delimiter=',')\n",
    "print p1.head()"
   ]
  },
  {
   "cell_type": "code",
   "execution_count": 336,
   "metadata": {
    "collapsed": false
   },
   "outputs": [
    {
     "data": {
      "text/html": [
       "<div>\n",
       "<table border=\"1\" class=\"dataframe\">\n",
       "  <thead>\n",
       "    <tr style=\"text-align: right;\">\n",
       "      <th></th>\n",
       "      <th>sottoarea</th>\n",
       "      <th>categoria</th>\n",
       "      <th>timestamp</th>\n",
       "      <th>vendite</th>\n",
       "    </tr>\n",
       "  </thead>\n",
       "  <tbody>\n",
       "    <tr>\n",
       "      <th>0</th>\n",
       "      <td>5</td>\n",
       "      <td>1</td>\n",
       "      <td>1462838400</td>\n",
       "      <td>9.134389</td>\n",
       "    </tr>\n",
       "    <tr>\n",
       "      <th>1</th>\n",
       "      <td>5</td>\n",
       "      <td>1</td>\n",
       "      <td>1462924800</td>\n",
       "      <td>9.004175</td>\n",
       "    </tr>\n",
       "    <tr>\n",
       "      <th>2</th>\n",
       "      <td>5</td>\n",
       "      <td>1</td>\n",
       "      <td>1463011200</td>\n",
       "      <td>8.970037</td>\n",
       "    </tr>\n",
       "    <tr>\n",
       "      <th>3</th>\n",
       "      <td>5</td>\n",
       "      <td>1</td>\n",
       "      <td>1463097600</td>\n",
       "      <td>9.163619</td>\n",
       "    </tr>\n",
       "    <tr>\n",
       "      <th>4</th>\n",
       "      <td>5</td>\n",
       "      <td>1</td>\n",
       "      <td>1463184000</td>\n",
       "      <td>2.202881</td>\n",
       "    </tr>\n",
       "  </tbody>\n",
       "</table>\n",
       "</div>"
      ],
      "text/plain": [
       "   sottoarea  categoria   timestamp   vendite\n",
       "0          5          1  1462838400  9.134389\n",
       "1          5          1  1462924800  9.004175\n",
       "2          5          1  1463011200  8.970037\n",
       "3          5          1  1463097600  9.163619\n",
       "4          5          1  1463184000  2.202881"
      ]
     },
     "execution_count": 336,
     "metadata": {},
     "output_type": "execute_result"
    }
   ],
   "source": [
    "test_set['vendite'] = y_pred\n",
    "final_df = test_set.copy()[['sottoarea','categoria','timestamp','vendite']]\n",
    "final_df.head()"
   ]
  },
  {
   "cell_type": "code",
   "execution_count": 337,
   "metadata": {
    "collapsed": false
   },
   "outputs": [],
   "source": [
    "def eval_mean(category, subarea, iterator, value):\n",
    "    if category == 1.:\n",
    "        new_value = p1[(p1['Sottoarea'] == subarea)]['p'+str(iterator)].item()\n",
    "        if new_value != None:\n",
    "            return value*0.7 + new_value*0.3\n",
    "        else:\n",
    "            return value\n",
    "    elif category == 2.:\n",
    "        new_value = p2[(p2['Sottoarea'] == subarea)]['p'+str(iterator)].item()\n",
    "        if new_value != None:\n",
    "                return value*0.7 + new_value*0.3\n",
    "        else:\n",
    "            return value"
   ]
  },
  {
   "cell_type": "code",
   "execution_count": null,
   "metadata": {
    "collapsed": true
   },
   "outputs": [],
   "source": [
    "for cat in range(1,3):\n",
    "    for i in range(1,146):\n",
    "        if (i in final_df.sottoarea.values) and (i in p1.Sottoarea.values) and (i in p2.Sottoarea.values) :\n",
    "            iterator = 1\n",
    "            for row in final_df[(final_df['categoria'] == cat) & (final_df['sottoarea'] == i)].iterrows():\n",
    "                final_df.loc[(final_df['categoria'] == cat)\\\n",
    "                             & (final_df['sottoarea'] == i)\\\n",
    "                             & (final_df['timestamp'] == row[1]['timestamp']),\\\n",
    "                             'vendite'] = eval_mean(cat, i, iterator, row[1]['vendite'])\n",
    "                iterator += 1"
   ]
  },
  {
   "cell_type": "code",
   "execution_count": 338,
   "metadata": {
    "collapsed": true
   },
   "outputs": [],
   "source": [
    "final_df['vendite'] = final_df['vendite'].map(lambda x: round(x))"
   ]
  },
  {
   "cell_type": "code",
   "execution_count": null,
   "metadata": {
    "collapsed": true
   },
   "outputs": [],
   "source": []
  },
  {
   "cell_type": "code",
   "execution_count": 339,
   "metadata": {
    "collapsed": false
   },
   "outputs": [
    {
     "name": "stdout",
     "output_type": "stream",
     "text": [
      " original mape  0.280503491286\n",
      "max absolut error 2.36805555556\n"
     ]
    }
   ],
   "source": [
    "# MAPE Eval\n",
    "\n",
    "dddd = pd.read_csv(\"dataset/output/test_local_dataset_polimi_extended_no2014.csv\",delimiter=\",\")\n",
    "sub_area_list = list(dddd[['sottoarea','categoria','vendite']].values)\n",
    "sub_area_mean = {}\n",
    "for i in sub_area_list:\n",
    "    if sub_area_mean.get((i[0],i[1]))!=None:\n",
    "        sub_area_mean[(i[0],i[1])] += [i[2]]\n",
    "    else:\n",
    "        sub_area_mean[(i[0],i[1])] = [i[2]]\n",
    "for i in sub_area_mean:\n",
    "    sub_area_mean[i] = np.mean(sub_area_mean[i]) if np.mean(sub_area_mean[i])>0. else 3.4534722\n",
    "len(sub_area_mean)\n",
    "\n",
    "gt = pd.read_csv('dataset/output/test_local_dataset_polimi_extended_no2014.csv',delimiter=',')\n",
    "\n",
    "\n",
    "\n",
    "\n",
    "gt_dict={}\n",
    "for i in range(len(gt['vendite'])):\n",
    "    a = gt_dict.get((gt['sottoarea'][i],gt['categoria'][i]))\n",
    "    if a == None:\n",
    "        gt_dict[(gt['sottoarea'][i],gt['categoria'][i])] = [gt['vendite'][i]]\n",
    "    else:\n",
    "        gt_dict[(gt['sottoarea'][i],gt['categoria'][i])] += [gt['vendite'][i]]\n",
    "\n",
    "fin_dict={}\n",
    "for i in range(len(final_df['vendite'])):\n",
    "    a = fin_dict.get((final_df['sottoarea'][i],final_df['categoria'][i]))\n",
    "    if a == None:\n",
    "        fin_dict[(final_df['sottoarea'][i],final_df['categoria'][i])] = [final_df['vendite'][i]]\n",
    "    else:\n",
    "        fin_dict[(final_df['sottoarea'][i],final_df['categoria'][i])] += [final_df['vendite'][i]]\n",
    "\n",
    "mape_error = 0 \n",
    "for i in gt_dict:\n",
    "    attual_rate_list= gt_dict[i]\n",
    "    predict_list = fin_dict[i]\n",
    "    #denominator = attual_rate if attual_rate !=0 else sub_area_mean[(gt['sottoarea'][i],gt['categoria'][i])]\n",
    "    error = sum([np.abs((attual_rate_list[i]-predict_list[i])/(attual_rate_list[i] if attual_rate_list[i] !=0 else sub_area_mean[(gt['sottoarea'][i],gt['categoria'][i])]))\n",
    "                 for i in range(len(attual_rate_list))])/len(attual_rate_list)\n",
    "\n",
    "    mape_error += error\n",
    "print \" original mape \", mape_error/len(gt_dict)\n",
    "\n",
    "MAPE_error = 0\n",
    "for i in gt_dict:\n",
    "    attual_rate_list= gt_dict[i]\n",
    "    predict_list = fin_dict[i]\n",
    "    #denominator = attual_rate if attual_rate !=0 else sub_area_mean[(gt['sottoarea'][i],gt['categoria'][i])]\n",
    "    error = max(np.abs(np.array(attual_rate_list)-np.array(predict_list)))\n",
    "\n",
    "    MAPE_error += error\n",
    "\n",
    "print \"max absolut error\",  MAPE_error/len(gt_dict)\n"
   ]
  }
 ],
 "metadata": {
  "kernelspec": {
   "display_name": "Python 2",
   "language": "python",
   "name": "python2"
  },
  "language_info": {
   "codemirror_mode": {
    "name": "ipython",
    "version": 2
   },
   "file_extension": ".py",
   "mimetype": "text/x-python",
   "name": "python",
   "nbconvert_exporter": "python",
   "pygments_lexer": "ipython2",
   "version": "2.7.11"
  }
 },
 "nbformat": 4,
 "nbformat_minor": 0
}
