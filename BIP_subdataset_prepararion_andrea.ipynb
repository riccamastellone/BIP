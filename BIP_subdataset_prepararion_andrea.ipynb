{
 "cells": [
  {
   "cell_type": "code",
   "execution_count": 36,
   "metadata": {
    "collapsed": false
   },
   "outputs": [
    {
     "data": {
      "text/html": [
       "<style>.container { width:100% !important; }</style>"
      ],
      "text/plain": [
       "<IPython.core.display.HTML object>"
      ]
     },
     "metadata": {},
     "output_type": "display_data"
    }
   ],
   "source": [
    "from IPython.core.display import display, HTML\n",
    "display(HTML(\"<style>.container { width:100% !important; }</style>\"))"
   ]
  },
  {
   "cell_type": "code",
   "execution_count": 37,
   "metadata": {
    "collapsed": false
   },
   "outputs": [],
   "source": [
    "import re\n",
    "import csv\n",
    "from datetime import datetime\n",
    "from collections import namedtuple\n",
    "\n",
    "%matplotlib inline\n",
    "import matplotlib.pyplot as plt\n",
    "\n",
    "\n",
    "# pip install workalendar\n",
    "# https://github.com/novafloss/workalendar\n",
    "from workalendar.europe import Italy"
   ]
  },
  {
   "cell_type": "code",
   "execution_count": 39,
   "metadata": {
    "collapsed": false
   },
   "outputs": [],
   "source": [
    "cal = Italy()\n",
    "\n",
    "def def_is_holiday(dt_obj):\n",
    "    if(cal.is_working_day(dt_obj)):\n",
    "        return 0\n",
    "    else:\n",
    "        return 1"
   ]
  },
  {
   "cell_type": "code",
   "execution_count": 40,
   "metadata": {
    "collapsed": false
   },
   "outputs": [],
   "source": [
    "row = namedtuple(\"sample\", ['sottoarea', 'area', 'zona', 'prodotto', 'data', 'timestamp', 'giorno_della_settimana', 'giorno_del_mese',\n",
    "                              'giorno_dell_anno', 'mese', 'anno', 'festivo','vendite'])"
   ]
  },
  {
   "cell_type": "code",
   "execution_count": 41,
   "metadata": {
    "collapsed": false
   },
   "outputs": [],
   "source": [
    "def do_parse(x):\n",
    "    # Oggetto Datetime\n",
    "    dt_obj = datetime.strptime(str(x[4]), '\"%Y-%m-%d\"')\n",
    "    \n",
    "    return row(\n",
    "        sottoarea = int(re.sub(\"[^0-9]\", \"\", x[2])),\n",
    "        area = int(re.sub(\"[^0-9]\", \"\", x[1])),\n",
    "        zona = int(re.sub(\"[^0-9]\", \"\", str(x[0]))),  \n",
    "        prodotto = int(re.sub(\"[^0-9]\", \"\", x[3])),\n",
    "        data = x[4],\n",
    "        timestamp = int(dt_obj.strftime(\"%s\")),\n",
    "        giorno_della_settimana = int(dt_obj.weekday()),\n",
    "        giorno_del_mese = int(dt_obj.weekday()),\n",
    "        giorno_dell_anno = int(dt_obj.timetuple().tm_yday),\n",
    "        mese = int(dt_obj.strftime(\"%m\")),\n",
    "        anno = int(dt_obj.strftime(\"%Y\")),\n",
    "        festivo = def_is_holiday(dt_obj),\n",
    "        vendite = int(x[5])\n",
    "        )\n",
    "\n",
    "def parse(sc,filepath):\n",
    "    rawRdd = sc.textFile(filepath)\n",
    "    \n",
    "    header = rawRdd.first()\n",
    "\n",
    "    # Togliamo l'header\n",
    "    rawRdd = rawRdd.filter(lambda x: x != header)\n",
    "\n",
    "    # Togliamo le righe vuote\n",
    "    rawRdd = rawRdd.filter(lambda x: x != \"\")\n",
    "    \n",
    "    return rawRdd.map(lambda x: x.split(\",\")).map(lambda x: do_parse(x))"
   ]
  },
  {
   "cell_type": "code",
   "execution_count": 42,
   "metadata": {
    "collapsed": false
   },
   "outputs": [
    {
     "data": {
      "text/plain": [
       "sample(sottoarea=5, area=1, zona=1, prodotto=1, data='\"2014-01-01\"', timestamp=1388530800, giorno_della_settimana=2, giorno_del_mese=2, giorno_dell_anno=1, mese=1, anno=2014, festivo=1, vendite=0)"
      ]
     },
     "execution_count": 42,
     "metadata": {},
     "output_type": "execute_result"
    }
   ],
   "source": [
    "rdd = parse(sc,\"dataset/dataset_polimi.csv\")\n",
    "rdd.first()"
   ]
  },
  {
   "cell_type": "markdown",
   "metadata": {},
   "source": [
    "# Pandas\n",
    "if you cannot stay without it"
   ]
  },
  {
   "cell_type": "code",
   "execution_count": 43,
   "metadata": {
    "collapsed": true
   },
   "outputs": [],
   "source": [
    "import pandas as pd"
   ]
  },
  {
   "cell_type": "code",
   "execution_count": 44,
   "metadata": {
    "collapsed": true
   },
   "outputs": [],
   "source": [
    "#porto sottoarea come prima colonna per poi fare il join\n",
    "#rdd = rdd.map(lambda x: (x[2], x[1], x[0], x[3], x[4], x[5], x[6], x[7], x[8], x[9], x[10], x[11]))"
   ]
  },
  {
   "cell_type": "code",
   "execution_count": 45,
   "metadata": {
    "collapsed": true
   },
   "outputs": [],
   "source": [
    "row1 = namedtuple(\"gps\", ['sottoarea', 'lat', 'lon', 'citta', 'provincia', 'regione', 'zona_italia',\n",
    "                              'isola', 'abitanti', 'min_distanza', 'densita'])"
   ]
  },
  {
   "cell_type": "code",
   "execution_count": 46,
   "metadata": {
    "collapsed": false
   },
   "outputs": [],
   "source": [
    "def do_parse_locations(x):\n",
    "    return row1(\n",
    "        sottoarea = int(x[0]),\n",
    "        lat = float(x[1]),\n",
    "        lon = float(x[2]),  \n",
    "        citta = x[3],\n",
    "        provincia = x[4],\n",
    "        regione = x[5],\n",
    "        zona_italia = x[6],\n",
    "        isola = int(x[7]),\n",
    "        abitanti = int(x[8]),\n",
    "        min_distanza = int(x[9]),\n",
    "        densita = int(x[10])\n",
    "        )\n",
    "\n",
    "def parse_locations(sc,filepath):\n",
    "    rawRdd = sc.textFile(filepath)\n",
    "    \n",
    "    header = rawRdd.first()\n",
    "\n",
    "    # Togliamo l'header\n",
    "    rawRdd = rawRdd.filter(lambda x: x != header)\n",
    "    \n",
    "    return rawRdd.map(lambda x: x.split(\",\")).map(lambda x: do_parse_locations(x))"
   ]
  },
  {
   "cell_type": "code",
   "execution_count": 47,
   "metadata": {
    "collapsed": false
   },
   "outputs": [
    {
     "data": {
      "text/plain": [
       "sample(sottoarea=5, area=1, zona=1, prodotto=1, data='\"2014-01-01\"', timestamp=1388530800, giorno_della_settimana=2, giorno_del_mese=2, giorno_dell_anno=1, mese=1, anno=2014, festivo=1, vendite=0)"
      ]
     },
     "execution_count": 47,
     "metadata": {},
     "output_type": "execute_result"
    }
   ],
   "source": [
    "rdd.first()"
   ]
  },
  {
   "cell_type": "code",
   "execution_count": 48,
   "metadata": {
    "collapsed": false
   },
   "outputs": [
    {
     "data": {
      "text/plain": [
       "(5, [1, 1, 1, '\"2014-01-01\"', 1388530800, 2, 2, 1, 1, 2014, 1, 0])"
      ]
     },
     "execution_count": 48,
     "metadata": {},
     "output_type": "execute_result"
    }
   ],
   "source": [
    "rdd1 = rdd.map(lambda x: (x[0], list(x[1:])))\n",
    "rdd1.first()"
   ]
  },
  {
   "cell_type": "code",
   "execution_count": 49,
   "metadata": {
    "collapsed": false
   },
   "outputs": [
    {
     "data": {
      "text/plain": [
       "gps(sottoarea=1, lat=37.57251433333334, lon=14.20335411764705, citta='Villarosa', provincia='EN', regione='SIC', zona_italia='Sud', isola=1, abitanti=4937, min_distanza=50450, densita=0)"
      ]
     },
     "execution_count": 49,
     "metadata": {},
     "output_type": "execute_result"
    }
   ],
   "source": [
    "rdd_gps = parse_locations(sc,\"dataset/gps_processed_andrea.csv\")\n",
    "rdd_gps.first()"
   ]
  },
  {
   "cell_type": "code",
   "execution_count": 50,
   "metadata": {
    "collapsed": false
   },
   "outputs": [
    {
     "data": {
      "text/plain": [
       "(1,\n",
       " [37.57251433333334,\n",
       "  14.20335411764705,\n",
       "  'Villarosa',\n",
       "  'EN',\n",
       "  'SIC',\n",
       "  'Sud',\n",
       "  1,\n",
       "  4937,\n",
       "  50450,\n",
       "  0])"
      ]
     },
     "execution_count": 50,
     "metadata": {},
     "output_type": "execute_result"
    }
   ],
   "source": [
    "rdd_gps1 = rdd_gps.map(lambda x: (x[0], list(x[1:])))\n",
    "rdd_gps1.first()"
   ]
  },
  {
   "cell_type": "code",
   "execution_count": 51,
   "metadata": {
    "collapsed": false
   },
   "outputs": [
    {
     "data": {
      "text/plain": [
       "[sample(sottoarea=68, area=55, zona=20, prodotto=1, data='\"2014-01-01\"', timestamp=1388530800, giorno_della_settimana=2, giorno_del_mese=2, giorno_dell_anno=1, mese=1, anno=2014, festivo=1, vendite=0),\n",
       " sample(sottoarea=68, area=55, zona=20, prodotto=1, data='\"2014-01-02\"', timestamp=1388617200, giorno_della_settimana=3, giorno_del_mese=3, giorno_dell_anno=2, mese=1, anno=2014, festivo=0, vendite=1),\n",
       " sample(sottoarea=68, area=55, zona=20, prodotto=1, data='\"2014-01-03\"', timestamp=1388703600, giorno_della_settimana=4, giorno_del_mese=4, giorno_dell_anno=3, mese=1, anno=2014, festivo=0, vendite=1),\n",
       " sample(sottoarea=68, area=55, zona=20, prodotto=1, data='\"2014-01-04\"', timestamp=1388790000, giorno_della_settimana=5, giorno_del_mese=5, giorno_dell_anno=4, mese=1, anno=2014, festivo=1, vendite=1),\n",
       " sample(sottoarea=68, area=55, zona=20, prodotto=1, data='\"2014-01-05\"', timestamp=1388876400, giorno_della_settimana=6, giorno_del_mese=6, giorno_dell_anno=5, mese=1, anno=2014, festivo=1, vendite=2),\n",
       " sample(sottoarea=68, area=55, zona=20, prodotto=1, data='\"2014-01-06\"', timestamp=1388962800, giorno_della_settimana=0, giorno_del_mese=0, giorno_dell_anno=6, mese=1, anno=2014, festivo=1, vendite=0),\n",
       " sample(sottoarea=68, area=55, zona=20, prodotto=1, data='\"2014-01-07\"', timestamp=1389049200, giorno_della_settimana=1, giorno_del_mese=1, giorno_dell_anno=7, mese=1, anno=2014, festivo=0, vendite=2),\n",
       " sample(sottoarea=68, area=55, zona=20, prodotto=1, data='\"2014-01-08\"', timestamp=1389135600, giorno_della_settimana=2, giorno_del_mese=2, giorno_dell_anno=8, mese=1, anno=2014, festivo=0, vendite=3),\n",
       " sample(sottoarea=68, area=55, zona=20, prodotto=1, data='\"2014-01-09\"', timestamp=1389222000, giorno_della_settimana=3, giorno_del_mese=3, giorno_dell_anno=9, mese=1, anno=2014, festivo=0, vendite=3),\n",
       " sample(sottoarea=68, area=55, zona=20, prodotto=1, data='\"2014-01-10\"', timestamp=1389308400, giorno_della_settimana=4, giorno_del_mese=4, giorno_dell_anno=10, mese=1, anno=2014, festivo=0, vendite=3)]"
      ]
     },
     "execution_count": 51,
     "metadata": {},
     "output_type": "execute_result"
    }
   ],
   "source": [
    "rdd.filter(lambda x: x.sottoarea == 68).take(10)"
   ]
  },
  {
   "cell_type": "code",
   "execution_count": 53,
   "metadata": {
    "collapsed": true
   },
   "outputs": [],
   "source": [
    "result = namedtuple(\"sample\", ['sottoarea', 'area', 'zona', 'lat', 'lon', 'CE', 'PD', 'FC', \n",
    "                                'PR', 'CH', 'SA', 'PG', 'BS', 'FE', 'VI', 'ME', 'AG', 'TO', \n",
    "                                'PV', 'LU', 'VA', 'BG', 'MN', 'SI', 'GE', 'BA', 'RN', 'BL', \n",
    "                                'CA', 'VE', 'PU', 'VT', 'BO', 'LC', 'MI', 'TR', 'AT', 'FI', \n",
    "                                'CN', 'CO', 'RI', 'FM', 'FG', 'MT', 'IS', 'CS', 'FR', 'CT', \n",
    "                                'LE', 'VC', 'SS', 'MB', 'VV', 'OR', 'PC', 'TP', 'NU', 'UD', \n",
    "                                'RO', 'BR', 'BZ', 'RE', 'PZ', 'RG', 'PA', 'LO', 'PO', 'SV', \n",
    "                                'AR', 'AV', 'BN', 'PN', 'LT', 'TE', 'AL', 'CZ', 'CR', 'TV', \n",
    "                                'VR', 'PI', 'AN', 'TA', 'TN', 'RC', 'OT', 'AQ', 'SR', 'RM', \n",
    "                                'MO', 'GR', 'EN', 'PT', 'ABR', 'BAS', 'CAL', 'CAM', 'EMR',\n",
    "                                'FVG', 'LAZ', 'LIG', 'LOM', 'MAR', 'MOL', 'PIE', 'PUG', 'SAR',\n",
    "                                'SIC', 'TOS', 'TAA', 'UMB', 'VDA', 'VEN', 'nord', 'centro', \n",
    "                                'sud', 'isola', 'abitanti', 'min_distanza', 'densita', \n",
    "                                'prodotto', 'data', 'timestamp', 'giorno_della_settimana', 'giorno_del_mese',\n",
    "                                'giorno_dell_anno', 'mese', 'anno', 'festivo', 'vendite'])"
   ]
  },
  {
   "cell_type": "code",
   "execution_count": null,
   "metadata": {
    "collapsed": true
   },
   "outputs": [],
   "source": []
  },
  {
   "cell_type": "code",
   "execution_count": 54,
   "metadata": {
    "collapsed": false
   },
   "outputs": [],
   "source": [
    "def do_parse_join(x):\n",
    "    return result(\n",
    "        sottoarea = x[0],\n",
    "        area = x[1][1][0],\n",
    "        zona = x[1][1][1],\n",
    "        lat = x[1][0][0],\n",
    "        lon = x[1][0][1],\n",
    "        #provincia = x[1][0][3],\n",
    "        CE = 1 if x[1][0][3] == \"CE\" else 0,\n",
    "        PD = 1 if x[1][0][3] == \"PD\" else 0,\n",
    "        FC = 1 if x[1][0][3] == \"FC\" else 0,\n",
    "        PR = 1 if x[1][0][3] == \"RP\" else 0,\n",
    "        CH = 1 if x[1][0][3] == \"CH\" else 0,\n",
    "        SA = 1 if x[1][0][3] == \"SA\" else 0,\n",
    "        PG = 1 if x[1][0][3] == \"PG\" else 0,\n",
    "        BS = 1 if x[1][0][3] == \"BS\" else 0,\n",
    "        FE = 1 if x[1][0][3] == \"FE\" else 0,\n",
    "        VI = 1 if x[1][0][3] == \"VI\" else 0,\n",
    "        ME = 1 if x[1][0][3] == \"ME\" else 0,\n",
    "        AG = 1 if x[1][0][3] == \"AG\" else 0,\n",
    "        TO = 1 if x[1][0][3] == \"TO\" else 0,\n",
    "        PV = 1 if x[1][0][3] == \"PV\" else 0,\n",
    "        LU = 1 if x[1][0][3] == \"LU\" else 0,\n",
    "        VA = 1 if x[1][0][3] == \"VA\" else 0,\n",
    "        BG = 1 if x[1][0][3] == \"BG\" else 0,\n",
    "        MN = 1 if x[1][0][3] == \"MN\" else 0,\n",
    "        SI = 1 if x[1][0][3] == \"SI\" else 0,\n",
    "        GE = 1 if x[1][0][3] == \"GE\" else 0,\n",
    "        BA = 1 if x[1][0][3] == \"BA\" else 0,\n",
    "        RN = 1 if x[1][0][3] == \"RN\" else 0,\n",
    "        BL = 1 if x[1][0][3] == \"BL\" else 0,\n",
    "        CA = 1 if x[1][0][3] == \"CA\" else 0,\n",
    "        VE = 1 if x[1][0][3] == \"VE\" else 0,\n",
    "        PU = 1 if x[1][0][3] == \"PU\" else 0,\n",
    "        VT = 1 if x[1][0][3] == \"VT\" else 0,\n",
    "        BO = 1 if x[1][0][3] == \"BO\" else 0,\n",
    "        LC = 1 if x[1][0][3] == \"LC\" else 0,\n",
    "        MI = 1 if x[1][0][3] == \"MI\" else 0,\n",
    "        TR = 1 if x[1][0][3] == \"TR\" else 0,\n",
    "        AT = 1 if x[1][0][3] == \"AT\" else 0,\n",
    "        FI = 1 if x[1][0][3] == \"FI\" else 0,\n",
    "        CN = 1 if x[1][0][3] == \"CN\" else 0,\n",
    "        CO = 1 if x[1][0][3] == \"CO\" else 0,\n",
    "        RI = 1 if x[1][0][3] == \"RI\" else 0,\n",
    "        FM = 1 if x[1][0][3] == \"FM\" else 0,\n",
    "        FG = 1 if x[1][0][3] == \"FG\" else 0,\n",
    "        MT = 1 if x[1][0][3] == \"MT\" else 0,\n",
    "        IS = 1 if x[1][0][3] == \"IS\" else 0,\n",
    "        CS = 1 if x[1][0][3] == \"CS\" else 0,\n",
    "        FR = 1 if x[1][0][3] == \"FR\" else 0,\n",
    "        CT = 1 if x[1][0][3] == \"CT\" else 0,\n",
    "        LE = 1 if x[1][0][3] == \"LE\" else 0,\n",
    "        VC = 1 if x[1][0][3] == \"VC\" else 0,\n",
    "        SS = 1 if x[1][0][3] == \"SS\" else 0,\n",
    "        MB = 1 if x[1][0][3] == \"MB\" else 0,\n",
    "        VV = 1 if x[1][0][3] == \"VV\" else 0,\n",
    "        OR = 1 if x[1][0][3] == \"OR\" else 0,\n",
    "        PC = 1 if x[1][0][3] == \"PC\" else 0,\n",
    "        TP = 1 if x[1][0][3] == \"TP\" else 0,\n",
    "        NU = 1 if x[1][0][3] == \"NU\" else 0,\n",
    "        UD = 1 if x[1][0][3] == \"UD\" else 0,\n",
    "        RO = 1 if x[1][0][3] == \"RO\" else 0,\n",
    "        BR = 1 if x[1][0][3] == \"BR\" else 0,\n",
    "        BZ = 1 if x[1][0][3] == \"BZ\" else 0,\n",
    "        RE = 1 if x[1][0][3] == \"RE\" else 0,\n",
    "        PZ = 1 if x[1][0][3] == \"PZ\" else 0,\n",
    "        RG = 1 if x[1][0][3] == \"RG\" else 0,\n",
    "        PA = 1 if x[1][0][3] == \"PA\" else 0,\n",
    "        LO = 1 if x[1][0][3] == \"LO\" else 0,\n",
    "        PO = 1 if x[1][0][3] == \"PO\" else 0,\n",
    "        SV = 1 if x[1][0][3] == \"SV\" else 0,\n",
    "        AR = 1 if x[1][0][3] == \"AR\" else 0,\n",
    "        AV = 1 if x[1][0][3] == \"AV\" else 0,\n",
    "        BN = 1 if x[1][0][3] == \"BN\" else 0,\n",
    "        PN = 1 if x[1][0][3] == \"PN\" else 0,\n",
    "        LT = 1 if x[1][0][3] == \"LT\" else 0,\n",
    "        TE = 1 if x[1][0][3] == \"TE\" else 0,\n",
    "        AL = 1 if x[1][0][3] == \"AL\" else 0,\n",
    "        CZ = 1 if x[1][0][3] == \"CZ\" else 0,\n",
    "        CR = 1 if x[1][0][3] == \"CR\" else 0,\n",
    "        TV = 1 if x[1][0][3] == \"TV\" else 0,\n",
    "        VR = 1 if x[1][0][3] == \"VR\" else 0,\n",
    "        PI = 1 if x[1][0][3] == \"PI\" else 0,\n",
    "        AN = 1 if x[1][0][3] == \"AN\" else 0,\n",
    "        TA = 1 if x[1][0][3] == \"TA\" else 0,\n",
    "        TN = 1 if x[1][0][3] == \"TN\" else 0,\n",
    "        RC = 1 if x[1][0][3] == \"RC\" else 0,\n",
    "        OT = 1 if x[1][0][3] == \"OT\" else 0,\n",
    "        AQ = 1 if x[1][0][3] == \"AQ\" else 0,\n",
    "        SR = 1 if x[1][0][3] == \"SR\" else 0,\n",
    "        RM = 1 if x[1][0][3] == \"RM\" else 0,\n",
    "        MO = 1 if x[1][0][3] == \"MO\" else 0,\n",
    "        GR = 1 if x[1][0][3] == \"GR\" else 0,\n",
    "        EN = 1 if x[1][0][3] == \"EN\" else 0,\n",
    "        PT = 1 if x[1][0][3] == \"PT\" else 0,\n",
    "        #regione = x[1][0][4],\n",
    "        ABR = 1 if x[1][0][4] == \"ABR\" else 0,\n",
    "        BAS = 1 if x[1][0][4] == \"BAS\" else 0,\n",
    "        CAL = 1 if x[1][0][4] == \"CAL\" else 0,\n",
    "        CAM = 1 if x[1][0][4] == \"CAM\" else 0,\n",
    "        EMR = 1 if x[1][0][4] == \"EMR\" else 0,\n",
    "        FVG = 1 if x[1][0][4] == \"FVG\" else 0,\n",
    "        LAZ = 1 if x[1][0][4] == \"LAZ\" else 0,\n",
    "        LIG = 1 if x[1][0][4] == \"LIG\" else 0,\n",
    "        LOM = 1 if x[1][0][4] == \"LOM\" else 0,\n",
    "        MAR = 1 if x[1][0][4] == \"MAR\" else 0,\n",
    "        MOL = 1 if x[1][0][4] == \"MOL\" else 0,\n",
    "        PIE = 1 if x[1][0][4] == \"PIE\" else 0,\n",
    "        PUG = 1 if x[1][0][4] == \"PUG\" else 0,\n",
    "        SAR = 1 if x[1][0][4] == \"SAR\" else 0,\n",
    "        SIC = 1 if x[1][0][4] == \"SIC\" else 0,\n",
    "        TOS = 1 if x[1][0][4] == \"TOS\" else 0,\n",
    "        TAA = 1 if x[1][0][4] == \"TAA\" else 0,\n",
    "        UMB = 1 if x[1][0][4] == \"UMB\" else 0,\n",
    "        VDA = 1 if x[1][0][4] == \"VDA\" else 0,\n",
    "        VEN = 1 if x[1][0][4] == \"VEN\" else 0,\n",
    "        nord = 1 if x[1][0][5] == \"Nord\" else 0,\n",
    "        centro = 1 if x[1][0][5] == \"Centro\" and not (x[1][0][4] == \"SAR\" or x[1][0][4] == \"SIC\") else 0,\n",
    "        sud = 1 if x[1][0][5] == \"Sud\" and not (x[1][0][4] == \"SAR\" or x[1][0][4] == \"SIC\") else 0,\n",
    "        isola = 1 if x[1][0][4] == \"SAR\" or x[1][0][4] == \"SIC\" else 0,\n",
    "        abitanti = x[1][0][7],\n",
    "        min_distanza = x[1][0][8],\n",
    "        densita = x[1][0][9] + 1, #facendo così considero anche se stesso nel raggio, evitando di avere densita 0 che con certi algoritmi potrebbe dare problemi\n",
    "        prodotto = x[1][1][2],\n",
    "        data = x[1][1][3].replace('\"', ''),\n",
    "        timestamp = x[1][1][4],\n",
    "        giorno_della_settimana = x[1][1][5],\n",
    "        giorno_del_mese = x[1][1][6],\n",
    "        giorno_dell_anno = x[1][1][7],\n",
    "        mese = x[1][1][8],\n",
    "        anno = x[1][1][9],\n",
    "        festivo = x[1][1][10],\n",
    "        vendite = x[1][1][11],\n",
    "    )"
   ]
  },
  {
   "cell_type": "code",
   "execution_count": 55,
   "metadata": {
    "collapsed": false
   },
   "outputs": [
    {
     "data": {
      "text/plain": [
       "sample(sottoarea=68, area=55, zona=20, lat=38.16890584269665, lon=15.005016404494388, CE=0, PD=0, FC=0, PR=0, CH=0, SA=0, PG=0, BS=0, FE=0, VI=0, ME=1, AG=0, TO=0, PV=0, LU=0, VA=0, BG=0, MN=0, SI=0, GE=0, BA=0, RN=0, BL=0, CA=0, VE=0, PU=0, VT=0, BO=0, LC=0, MI=0, TR=0, AT=0, FI=0, CN=0, CO=0, RI=0, FM=0, FG=0, MT=0, IS=0, CS=0, FR=0, CT=0, LE=0, VC=0, SS=0, MB=0, VV=0, OR=0, PC=0, TP=0, NU=0, UD=0, RO=0, BR=0, BZ=0, RE=0, PZ=0, RG=0, PA=0, LO=0, PO=0, SV=0, AR=0, AV=0, BN=0, PN=0, LT=0, TE=0, AL=0, CZ=0, CR=0, TV=0, VR=0, PI=0, AN=0, TA=0, TN=0, RC=0, OT=0, AQ=0, SR=0, RM=0, MO=0, GR=0, EN=0, PT=0, ABR=0, BAS=0, CAL=0, CAM=0, EMR=0, FVG=0, LAZ=0, LIG=0, LOM=0, MAR=0, MOL=0, PIE=0, PUG=0, SAR=0, SIC=1, TOS=0, TAA=0, UMB=0, VDA=0, VEN=0, nord=0, centro=0, sud=0, isola=1, abitanti=13431, min_distanza=33235, densita=1, prodotto=1, data='2014-01-01', timestamp=1388530800, giorno_della_settimana=2, giorno_del_mese=2, giorno_dell_anno=1, mese=1, anno=2014, festivo=1, vendite=0)"
      ]
     },
     "execution_count": 55,
     "metadata": {},
     "output_type": "execute_result"
    }
   ],
   "source": [
    "res = rdd_gps1.join(rdd1).map(lambda x: do_parse_join(x))\n",
    "res.first()"
   ]
  },
  {
   "cell_type": "code",
   "execution_count": 56,
   "metadata": {
    "collapsed": false
   },
   "outputs": [
    {
     "data": {
      "text/plain": [
       "7"
      ]
     },
     "execution_count": 56,
     "metadata": {},
     "output_type": "execute_result"
    }
   ],
   "source": [
    "res.map(lambda x: x.densita).filter(lambda x: x > 0).max()"
   ]
  },
  {
   "cell_type": "code",
   "execution_count": 57,
   "metadata": {
    "collapsed": false
   },
   "outputs": [
    {
     "data": {
      "text/plain": [
       "{1,\n",
       " 2,\n",
       " 3,\n",
       " 4,\n",
       " 5,\n",
       " 6,\n",
       " 7,\n",
       " 8,\n",
       " 9,\n",
       " 10,\n",
       " 11,\n",
       " 12,\n",
       " 13,\n",
       " 14,\n",
       " 15,\n",
       " 16,\n",
       " 17,\n",
       " 18,\n",
       " 19,\n",
       " 20,\n",
       " 21,\n",
       " 22,\n",
       " 23,\n",
       " 24,\n",
       " 25,\n",
       " 26,\n",
       " 27,\n",
       " 28,\n",
       " 29,\n",
       " 30,\n",
       " 31,\n",
       " 32,\n",
       " 33,\n",
       " 34,\n",
       " 35,\n",
       " 36,\n",
       " 37,\n",
       " 38,\n",
       " 39,\n",
       " 40,\n",
       " 41,\n",
       " 42,\n",
       " 43,\n",
       " 44,\n",
       " 45,\n",
       " 46,\n",
       " 47,\n",
       " 48,\n",
       " 49,\n",
       " 50,\n",
       " 52,\n",
       " 53,\n",
       " 54,\n",
       " 55,\n",
       " 56,\n",
       " 57,\n",
       " 58,\n",
       " 59,\n",
       " 60,\n",
       " 61,\n",
       " 62,\n",
       " 63,\n",
       " 64,\n",
       " 65,\n",
       " 66,\n",
       " 67,\n",
       " 68,\n",
       " 69,\n",
       " 70,\n",
       " 71,\n",
       " 72,\n",
       " 73,\n",
       " 74,\n",
       " 75,\n",
       " 76,\n",
       " 77,\n",
       " 78,\n",
       " 79,\n",
       " 80,\n",
       " 81,\n",
       " 82,\n",
       " 83,\n",
       " 84,\n",
       " 85,\n",
       " 86,\n",
       " 87,\n",
       " 88,\n",
       " 89,\n",
       " 90,\n",
       " 91,\n",
       " 92,\n",
       " 93,\n",
       " 94,\n",
       " 95,\n",
       " 96,\n",
       " 97,\n",
       " 98,\n",
       " 99,\n",
       " 100,\n",
       " 101,\n",
       " 102,\n",
       " 103,\n",
       " 104,\n",
       " 105,\n",
       " 106,\n",
       " 107,\n",
       " 108,\n",
       " 109,\n",
       " 110,\n",
       " 111,\n",
       " 112,\n",
       " 113,\n",
       " 114,\n",
       " 115,\n",
       " 116,\n",
       " 117,\n",
       " 118,\n",
       " 119,\n",
       " 120,\n",
       " 121,\n",
       " 122,\n",
       " 123,\n",
       " 124,\n",
       " 125,\n",
       " 126,\n",
       " 127,\n",
       " 128,\n",
       " 129,\n",
       " 130,\n",
       " 131,\n",
       " 132,\n",
       " 133,\n",
       " 134,\n",
       " 135,\n",
       " 136,\n",
       " 137,\n",
       " 138,\n",
       " 139,\n",
       " 140,\n",
       " 141,\n",
       " 142,\n",
       " 143,\n",
       " 144,\n",
       " 145}"
      ]
     },
     "execution_count": 57,
     "metadata": {},
     "output_type": "execute_result"
    }
   ],
   "source": [
    "sottoaree = set(rdd.map(lambda x: x.sottoarea).collect())\n",
    "sottoaree"
   ]
  },
  {
   "cell_type": "code",
   "execution_count": 58,
   "metadata": {
    "collapsed": true
   },
   "outputs": [],
   "source": [
    "collected_rdd = res.collect()"
   ]
  },
  {
   "cell_type": "code",
   "execution_count": 59,
   "metadata": {
    "collapsed": false
   },
   "outputs": [],
   "source": [
    "df = pd.DataFrame.from_records(collected_rdd, columns = ['sottoarea', 'area', 'zona', 'lat', 'lon', 'CE', 'PD', 'FC', \n",
    "                                                         'PR', 'CH', 'SA', 'PG', 'BS', 'FE', 'VI', 'ME', 'AG', 'TO', \n",
    "                                                         'PV', 'LU', 'VA', 'BG', 'MN', 'SI', 'GE', 'BA', 'RN', 'BL', \n",
    "                                                         'CA', 'VE', 'PU', 'VT', 'BO', 'LC', 'MI', 'TR', 'AT', 'FI', \n",
    "                                                         'CN', 'CO', 'RI', 'FM', 'FG', 'MT', 'IS', 'CS', 'FR', 'CT', \n",
    "                                                         'LE', 'VC', 'SS', 'MB', 'VV', 'OR', 'PC', 'TP', 'NU', 'UD', \n",
    "                                                         'RO', 'BR', 'BZ', 'RE', 'PZ', 'RG', 'PA', 'LO', 'PO', 'SV', \n",
    "                                                         'AR', 'AV', 'BN', 'PN', 'LT', 'TE', 'AL', 'CZ', 'CR', 'TV', \n",
    "                                                         'VR', 'PI', 'AN', 'TA', 'TN', 'RC', 'OT', 'AQ', 'SR', 'RM', \n",
    "                                                         'MO', 'GR', 'EN', 'PT', 'ABR', 'BAS', 'CAL', 'CAM', 'EMR',\n",
    "                                                         'FVG', 'LAZ', 'LIG', 'LOM', 'MAR', 'MOL', 'PIE', 'PUG', 'SAR',\n",
    "                                                         'SIC', 'TOS', 'TAA', 'UMB', 'VDA', 'VEN', 'nord', 'centro', 'sud', \n",
    "                                                         'isola', 'abitanti', 'min_distanza', 'densita', 'prodotto', 'data',\n",
    "                                                         'timestamp', 'giorno_della_settimana', 'giorno_del_mese', \n",
    "                                                         'giorno_dell_anno', 'mese', 'anno', 'festivo', 'vendite'])"
   ]
  },
  {
   "cell_type": "code",
   "execution_count": 60,
   "metadata": {
    "collapsed": false
   },
   "outputs": [
    {
     "data": {
      "text/html": [
       "<div>\n",
       "<table border=\"1\" class=\"dataframe\">\n",
       "  <thead>\n",
       "    <tr style=\"text-align: right;\">\n",
       "      <th></th>\n",
       "      <th>sottoarea</th>\n",
       "      <th>area</th>\n",
       "      <th>zona</th>\n",
       "      <th>lat</th>\n",
       "      <th>lon</th>\n",
       "      <th>CE</th>\n",
       "      <th>PD</th>\n",
       "      <th>FC</th>\n",
       "      <th>PR</th>\n",
       "      <th>CH</th>\n",
       "      <th>...</th>\n",
       "      <th>prodotto</th>\n",
       "      <th>data</th>\n",
       "      <th>timestamp</th>\n",
       "      <th>giorno_della_settimana</th>\n",
       "      <th>giorno_del_mese</th>\n",
       "      <th>giorno_dell_anno</th>\n",
       "      <th>mese</th>\n",
       "      <th>anno</th>\n",
       "      <th>festivo</th>\n",
       "      <th>vendite</th>\n",
       "    </tr>\n",
       "  </thead>\n",
       "  <tbody>\n",
       "    <tr>\n",
       "      <th>1</th>\n",
       "      <td>68</td>\n",
       "      <td>55</td>\n",
       "      <td>20</td>\n",
       "      <td>38.168906</td>\n",
       "      <td>15.005016</td>\n",
       "      <td>0</td>\n",
       "      <td>0</td>\n",
       "      <td>0</td>\n",
       "      <td>0</td>\n",
       "      <td>0</td>\n",
       "      <td>...</td>\n",
       "      <td>1</td>\n",
       "      <td>2014-01-02</td>\n",
       "      <td>1388617200</td>\n",
       "      <td>3</td>\n",
       "      <td>3</td>\n",
       "      <td>2</td>\n",
       "      <td>1</td>\n",
       "      <td>2014</td>\n",
       "      <td>0</td>\n",
       "      <td>1</td>\n",
       "    </tr>\n",
       "    <tr>\n",
       "      <th>2</th>\n",
       "      <td>68</td>\n",
       "      <td>55</td>\n",
       "      <td>20</td>\n",
       "      <td>38.168906</td>\n",
       "      <td>15.005016</td>\n",
       "      <td>0</td>\n",
       "      <td>0</td>\n",
       "      <td>0</td>\n",
       "      <td>0</td>\n",
       "      <td>0</td>\n",
       "      <td>...</td>\n",
       "      <td>1</td>\n",
       "      <td>2014-01-03</td>\n",
       "      <td>1388703600</td>\n",
       "      <td>4</td>\n",
       "      <td>4</td>\n",
       "      <td>3</td>\n",
       "      <td>1</td>\n",
       "      <td>2014</td>\n",
       "      <td>0</td>\n",
       "      <td>1</td>\n",
       "    </tr>\n",
       "    <tr>\n",
       "      <th>3</th>\n",
       "      <td>68</td>\n",
       "      <td>55</td>\n",
       "      <td>20</td>\n",
       "      <td>38.168906</td>\n",
       "      <td>15.005016</td>\n",
       "      <td>0</td>\n",
       "      <td>0</td>\n",
       "      <td>0</td>\n",
       "      <td>0</td>\n",
       "      <td>0</td>\n",
       "      <td>...</td>\n",
       "      <td>1</td>\n",
       "      <td>2014-01-04</td>\n",
       "      <td>1388790000</td>\n",
       "      <td>5</td>\n",
       "      <td>5</td>\n",
       "      <td>4</td>\n",
       "      <td>1</td>\n",
       "      <td>2014</td>\n",
       "      <td>1</td>\n",
       "      <td>1</td>\n",
       "    </tr>\n",
       "    <tr>\n",
       "      <th>4</th>\n",
       "      <td>68</td>\n",
       "      <td>55</td>\n",
       "      <td>20</td>\n",
       "      <td>38.168906</td>\n",
       "      <td>15.005016</td>\n",
       "      <td>0</td>\n",
       "      <td>0</td>\n",
       "      <td>0</td>\n",
       "      <td>0</td>\n",
       "      <td>0</td>\n",
       "      <td>...</td>\n",
       "      <td>1</td>\n",
       "      <td>2014-01-05</td>\n",
       "      <td>1388876400</td>\n",
       "      <td>6</td>\n",
       "      <td>6</td>\n",
       "      <td>5</td>\n",
       "      <td>1</td>\n",
       "      <td>2014</td>\n",
       "      <td>1</td>\n",
       "      <td>2</td>\n",
       "    </tr>\n",
       "    <tr>\n",
       "      <th>5</th>\n",
       "      <td>68</td>\n",
       "      <td>55</td>\n",
       "      <td>20</td>\n",
       "      <td>38.168906</td>\n",
       "      <td>15.005016</td>\n",
       "      <td>0</td>\n",
       "      <td>0</td>\n",
       "      <td>0</td>\n",
       "      <td>0</td>\n",
       "      <td>0</td>\n",
       "      <td>...</td>\n",
       "      <td>1</td>\n",
       "      <td>2014-01-06</td>\n",
       "      <td>1388962800</td>\n",
       "      <td>0</td>\n",
       "      <td>0</td>\n",
       "      <td>6</td>\n",
       "      <td>1</td>\n",
       "      <td>2014</td>\n",
       "      <td>1</td>\n",
       "      <td>0</td>\n",
       "    </tr>\n",
       "    <tr>\n",
       "      <th>6</th>\n",
       "      <td>68</td>\n",
       "      <td>55</td>\n",
       "      <td>20</td>\n",
       "      <td>38.168906</td>\n",
       "      <td>15.005016</td>\n",
       "      <td>0</td>\n",
       "      <td>0</td>\n",
       "      <td>0</td>\n",
       "      <td>0</td>\n",
       "      <td>0</td>\n",
       "      <td>...</td>\n",
       "      <td>1</td>\n",
       "      <td>2014-01-07</td>\n",
       "      <td>1389049200</td>\n",
       "      <td>1</td>\n",
       "      <td>1</td>\n",
       "      <td>7</td>\n",
       "      <td>1</td>\n",
       "      <td>2014</td>\n",
       "      <td>0</td>\n",
       "      <td>2</td>\n",
       "    </tr>\n",
       "    <tr>\n",
       "      <th>7</th>\n",
       "      <td>68</td>\n",
       "      <td>55</td>\n",
       "      <td>20</td>\n",
       "      <td>38.168906</td>\n",
       "      <td>15.005016</td>\n",
       "      <td>0</td>\n",
       "      <td>0</td>\n",
       "      <td>0</td>\n",
       "      <td>0</td>\n",
       "      <td>0</td>\n",
       "      <td>...</td>\n",
       "      <td>1</td>\n",
       "      <td>2014-01-08</td>\n",
       "      <td>1389135600</td>\n",
       "      <td>2</td>\n",
       "      <td>2</td>\n",
       "      <td>8</td>\n",
       "      <td>1</td>\n",
       "      <td>2014</td>\n",
       "      <td>0</td>\n",
       "      <td>3</td>\n",
       "    </tr>\n",
       "    <tr>\n",
       "      <th>8</th>\n",
       "      <td>68</td>\n",
       "      <td>55</td>\n",
       "      <td>20</td>\n",
       "      <td>38.168906</td>\n",
       "      <td>15.005016</td>\n",
       "      <td>0</td>\n",
       "      <td>0</td>\n",
       "      <td>0</td>\n",
       "      <td>0</td>\n",
       "      <td>0</td>\n",
       "      <td>...</td>\n",
       "      <td>1</td>\n",
       "      <td>2014-01-09</td>\n",
       "      <td>1389222000</td>\n",
       "      <td>3</td>\n",
       "      <td>3</td>\n",
       "      <td>9</td>\n",
       "      <td>1</td>\n",
       "      <td>2014</td>\n",
       "      <td>0</td>\n",
       "      <td>3</td>\n",
       "    </tr>\n",
       "    <tr>\n",
       "      <th>9</th>\n",
       "      <td>68</td>\n",
       "      <td>55</td>\n",
       "      <td>20</td>\n",
       "      <td>38.168906</td>\n",
       "      <td>15.005016</td>\n",
       "      <td>0</td>\n",
       "      <td>0</td>\n",
       "      <td>0</td>\n",
       "      <td>0</td>\n",
       "      <td>0</td>\n",
       "      <td>...</td>\n",
       "      <td>1</td>\n",
       "      <td>2014-01-10</td>\n",
       "      <td>1389308400</td>\n",
       "      <td>4</td>\n",
       "      <td>4</td>\n",
       "      <td>10</td>\n",
       "      <td>1</td>\n",
       "      <td>2014</td>\n",
       "      <td>0</td>\n",
       "      <td>3</td>\n",
       "    </tr>\n",
       "  </tbody>\n",
       "</table>\n",
       "<p>9 rows × 129 columns</p>\n",
       "</div>"
      ],
      "text/plain": [
       "   sottoarea  area  zona        lat        lon  CE  PD  FC  PR  CH   ...     \\\n",
       "1         68    55    20  38.168906  15.005016   0   0   0   0   0   ...      \n",
       "2         68    55    20  38.168906  15.005016   0   0   0   0   0   ...      \n",
       "3         68    55    20  38.168906  15.005016   0   0   0   0   0   ...      \n",
       "4         68    55    20  38.168906  15.005016   0   0   0   0   0   ...      \n",
       "5         68    55    20  38.168906  15.005016   0   0   0   0   0   ...      \n",
       "6         68    55    20  38.168906  15.005016   0   0   0   0   0   ...      \n",
       "7         68    55    20  38.168906  15.005016   0   0   0   0   0   ...      \n",
       "8         68    55    20  38.168906  15.005016   0   0   0   0   0   ...      \n",
       "9         68    55    20  38.168906  15.005016   0   0   0   0   0   ...      \n",
       "\n",
       "   prodotto        data   timestamp  giorno_della_settimana  giorno_del_mese  \\\n",
       "1         1  2014-01-02  1388617200                       3                3   \n",
       "2         1  2014-01-03  1388703600                       4                4   \n",
       "3         1  2014-01-04  1388790000                       5                5   \n",
       "4         1  2014-01-05  1388876400                       6                6   \n",
       "5         1  2014-01-06  1388962800                       0                0   \n",
       "6         1  2014-01-07  1389049200                       1                1   \n",
       "7         1  2014-01-08  1389135600                       2                2   \n",
       "8         1  2014-01-09  1389222000                       3                3   \n",
       "9         1  2014-01-10  1389308400                       4                4   \n",
       "\n",
       "   giorno_dell_anno  mese  anno  festivo  vendite  \n",
       "1                 2     1  2014        0        1  \n",
       "2                 3     1  2014        0        1  \n",
       "3                 4     1  2014        1        1  \n",
       "4                 5     1  2014        1        2  \n",
       "5                 6     1  2014        1        0  \n",
       "6                 7     1  2014        0        2  \n",
       "7                 8     1  2014        0        3  \n",
       "8                 9     1  2014        0        3  \n",
       "9                10     1  2014        0        3  \n",
       "\n",
       "[9 rows x 129 columns]"
      ]
     },
     "execution_count": 60,
     "metadata": {},
     "output_type": "execute_result"
    }
   ],
   "source": [
    "df[1:10]"
   ]
  },
  {
   "cell_type": "code",
   "execution_count": 61,
   "metadata": {
    "collapsed": false
   },
   "outputs": [],
   "source": [
    "#df[1:10].values"
   ]
  },
  {
   "cell_type": "code",
   "execution_count": 24,
   "metadata": {
    "collapsed": false
   },
   "outputs": [],
   "source": [
    "#df.to_csv('dataset_polimi_andrea3.csv', sep=',', index=False)"
   ]
  },
  {
   "cell_type": "code",
   "execution_count": 34,
   "metadata": {
    "collapsed": false
   },
   "outputs": [],
   "source": [
    "#df[1:10].sottoarea"
   ]
  },
  {
   "cell_type": "code",
   "execution_count": 62,
   "metadata": {
    "collapsed": false
   },
   "outputs": [
    {
     "name": "stdout",
     "output_type": "stream",
     "text": [
      "1\n",
      "2\n",
      "3\n",
      "4\n",
      "5\n",
      "6\n",
      "7\n",
      "8\n",
      "9\n",
      "10\n",
      "11\n",
      "12\n",
      "13\n",
      "14\n",
      "15\n",
      "16\n",
      "17\n",
      "18\n",
      "19\n",
      "20\n",
      "21\n",
      "22\n",
      "23\n",
      "24\n",
      "25\n",
      "26\n",
      "27\n",
      "28\n",
      "29\n",
      "30\n",
      "31\n",
      "32\n",
      "33\n",
      "34\n",
      "35\n",
      "36\n",
      "37\n",
      "38\n",
      "39\n",
      "40\n",
      "41\n",
      "42\n",
      "43\n",
      "44\n",
      "45\n",
      "46\n",
      "47\n",
      "48\n",
      "49\n",
      "50\n",
      "52\n",
      "53\n",
      "54\n",
      "55\n",
      "56\n",
      "57\n",
      "58\n",
      "59\n",
      "60\n",
      "61\n",
      "62\n",
      "63\n",
      "64\n",
      "65\n",
      "66\n",
      "67\n",
      "68\n",
      "69\n",
      "70\n",
      "71\n",
      "72\n",
      "73\n",
      "74\n",
      "75\n",
      "76\n",
      "77\n",
      "78\n",
      "79\n",
      "80\n",
      "81\n",
      "82\n",
      "83\n",
      "84\n",
      "85\n",
      "86\n",
      "87\n",
      "88\n",
      "89\n",
      "90\n",
      "91\n",
      "92\n",
      "93\n",
      "94\n",
      "95\n",
      "96\n",
      "97\n",
      "98\n",
      "99\n",
      "100\n",
      "101\n",
      "102\n",
      "103\n",
      "104\n",
      "105\n",
      "106\n",
      "107\n",
      "108\n",
      "109\n",
      "110\n",
      "111\n",
      "112\n",
      "113\n",
      "114\n",
      "115\n",
      "116\n",
      "117\n",
      "118\n",
      "119\n",
      "120\n",
      "121\n",
      "122\n",
      "123\n",
      "124\n",
      "125\n",
      "126\n",
      "127\n",
      "128\n",
      "129\n",
      "130\n",
      "131\n",
      "132\n",
      "133\n",
      "134\n",
      "135\n",
      "136\n",
      "137\n",
      "138\n",
      "139\n",
      "140\n",
      "141\n",
      "142\n",
      "143\n",
      "144\n",
      "145\n"
     ]
    }
   ],
   "source": [
    "for s in sottoaree:\n",
    "    prod1 = res.filter(lambda x: x.prodotto == 1 and x.sottoarea == s)\n",
    "    collected_rdd1 = prod1.collect()\n",
    "    df1 = pd.DataFrame.from_records(collected_rdd1, columns = ['sottoarea', 'area', 'zona', 'lat', 'lon', 'CE', 'PD', 'FC', \n",
    "                                                         'PR', 'CH', 'SA', 'PG', 'BS', 'FE', 'VI', 'ME', 'AG', 'TO', \n",
    "                                                         'PV', 'LU', 'VA', 'BG', 'MN', 'SI', 'GE', 'BA', 'RN', 'BL', \n",
    "                                                         'CA', 'VE', 'PU', 'VT', 'BO', 'LC', 'MI', 'TR', 'AT', 'FI', \n",
    "                                                         'CN', 'CO', 'RI', 'FM', 'FG', 'MT', 'IS', 'CS', 'FR', 'CT', \n",
    "                                                         'LE', 'VC', 'SS', 'MB', 'VV', 'OR', 'PC', 'TP', 'NU', 'UD', \n",
    "                                                         'RO', 'BR', 'BZ', 'RE', 'PZ', 'RG', 'PA', 'LO', 'PO', 'SV', \n",
    "                                                         'AR', 'AV', 'BN', 'PN', 'LT', 'TE', 'AL', 'CZ', 'CR', 'TV', \n",
    "                                                         'VR', 'PI', 'AN', 'TA', 'TN', 'RC', 'OT', 'AQ', 'SR', 'RM', \n",
    "                                                         'MO', 'GR', 'EN', 'PT', 'ABR', 'BAS', 'CAL', 'CAM', 'EMR',\n",
    "                                                         'FVG', 'LAZ', 'LIG', 'LOM', 'MAR', 'MOL', 'PIE', 'PUG', 'SAR',\n",
    "                                                         'SIC', 'TOS', 'TAA', 'UMB', 'VDA', 'VEN', 'nord', 'centro', 'sud', \n",
    "                                                         'isola', 'abitanti', 'min_distanza', 'densita', 'prodotto', 'data',\n",
    "                                                         'timestamp', 'giorno_della_settimana', 'giorno_del_mese', \n",
    "                                                         'giorno_dell_anno', 'mese', 'anno', 'festivo', 'vendite'])\n",
    "    df1.to_csv('dataset/prodotto_sottoarea/prodotto1_sottoarea' + str(s) +'.csv', sep=',', index=False)\n",
    "    prod2 = res.filter(lambda x: x.prodotto == 2 and x.sottoarea == s)\n",
    "    collected_rdd2 = prod2.collect()\n",
    "    df2 = pd.DataFrame.from_records(collected_rdd2, columns = ['sottoarea', 'area', 'zona', 'lat', 'lon', 'CE', 'PD', 'FC', \n",
    "                                                         'PR', 'CH', 'SA', 'PG', 'BS', 'FE', 'VI', 'ME', 'AG', 'TO', \n",
    "                                                         'PV', 'LU', 'VA', 'BG', 'MN', 'SI', 'GE', 'BA', 'RN', 'BL', \n",
    "                                                         'CA', 'VE', 'PU', 'VT', 'BO', 'LC', 'MI', 'TR', 'AT', 'FI', \n",
    "                                                         'CN', 'CO', 'RI', 'FM', 'FG', 'MT', 'IS', 'CS', 'FR', 'CT', \n",
    "                                                         'LE', 'VC', 'SS', 'MB', 'VV', 'OR', 'PC', 'TP', 'NU', 'UD', \n",
    "                                                         'RO', 'BR', 'BZ', 'RE', 'PZ', 'RG', 'PA', 'LO', 'PO', 'SV', \n",
    "                                                         'AR', 'AV', 'BN', 'PN', 'LT', 'TE', 'AL', 'CZ', 'CR', 'TV', \n",
    "                                                         'VR', 'PI', 'AN', 'TA', 'TN', 'RC', 'OT', 'AQ', 'SR', 'RM', \n",
    "                                                         'MO', 'GR', 'EN', 'PT', 'ABR', 'BAS', 'CAL', 'CAM', 'EMR',\n",
    "                                                         'FVG', 'LAZ', 'LIG', 'LOM', 'MAR', 'MOL', 'PIE', 'PUG', 'SAR',\n",
    "                                                         'SIC', 'TOS', 'TAA', 'UMB', 'VDA', 'VEN', 'nord', 'centro', 'sud', \n",
    "                                                         'isola', 'abitanti', 'min_distanza', 'densita', 'prodotto', 'data',\n",
    "                                                         'timestamp', 'giorno_della_settimana', 'giorno_del_mese', \n",
    "                                                         'giorno_dell_anno', 'mese', 'anno', 'festivo', 'vendite'])\n",
    "    df2.to_csv('dataset/prodotto_sottoarea/prodotto2_sottoarea' + str(s) +'.csv', sep=',', index=False)\n",
    "    print(s)"
   ]
  },
  {
   "cell_type": "code",
   "execution_count": 27,
   "metadata": {
    "collapsed": false
   },
   "outputs": [
    {
     "data": {
      "text/plain": [
       "sample(sottoarea=68, area=55, zona=20, lat=38.16890584269665, lon=15.005016404494388, CE=0, PD=0, FC=0, PR=0, CH=0, SA=0, PG=0, BS=0, FE=0, VI=0, ME=1, AG=0, TO=0, PV=0, LU=0, VA=0, BG=0, MN=0, SI=0, GE=0, BA=0, RN=0, BL=0, CA=0, VE=0, PU=0, VT=0, BO=0, LC=0, MI=0, TR=0, AT=0, FI=0, CN=0, CO=0, RI=0, FM=0, FG=0, MT=0, IS=0, CS=0, FR=0, CT=0, LE=0, VC=0, SS=0, MB=0, VV=0, OR=0, PC=0, TP=0, NU=0, UD=0, RO=0, BR=0, BZ=0, RE=0, PZ=0, RG=0, PA=0, LO=0, PO=0, SV=0, AR=0, AV=0, BN=0, PN=0, LT=0, TE=0, AL=0, CZ=0, CR=0, TV=0, VR=0, PI=0, AN=0, TA=0, TN=0, RC=0, OT=0, AQ=0, SR=0, RM=0, MO=0, GR=0, EN=0, PT=0, ABR=0, BAS=0, CAL=0, CAM=0, EMR=0, FVG=0, LAZ=0, LIG=0, LOM=0, MAR=0, MOL=0, PIE=0, PUG=0, SAR=0, SIC=1, TOS=0, TAA=0, UMB=0, VDA=0, VEN=0, nord=0, centro=0, sud=0, isola=1, abitanti=13431, min_distanza=33235, densita=1, prodotto=1, data='2014-01-01', timestamp=1388530800, giorno_della_settimana=2, giorno_del_mese=2, giorno_dell_anno=1, mese=1, anno=2014, festivo=1, vendite=0)"
      ]
     },
     "execution_count": 27,
     "metadata": {},
     "output_type": "execute_result"
    }
   ],
   "source": [
    "prod1 = res.filter(lambda x: x.prodotto == 1 and x.sottoarea == 68)\n",
    "prod1.first()"
   ]
  },
  {
   "cell_type": "code",
   "execution_count": 28,
   "metadata": {
    "collapsed": true
   },
   "outputs": [],
   "source": [
    "collected_rdd1 = prod1.collect()"
   ]
  },
  {
   "cell_type": "code",
   "execution_count": 29,
   "metadata": {
    "collapsed": true
   },
   "outputs": [],
   "source": [
    "df1 = pd.DataFrame.from_records(collected_rdd1, columns = ['sottoarea', 'area', 'zona', 'lat', 'lon', 'CE', 'PD', 'FC', \n",
    "                                                         'PR', 'CH', 'SA', 'PG', 'BS', 'FE', 'VI', 'ME', 'AG', 'TO', \n",
    "                                                         'PV', 'LU', 'VA', 'BG', 'MN', 'SI', 'GE', 'BA', 'RN', 'BL', \n",
    "                                                         'CA', 'VE', 'PU', 'VT', 'BO', 'LC', 'MI', 'TR', 'AT', 'FI', \n",
    "                                                         'CN', 'CO', 'RI', 'FM', 'FG', 'MT', 'IS', 'CS', 'FR', 'CT', \n",
    "                                                         'LE', 'VC', 'SS', 'MB', 'VV', 'OR', 'PC', 'TP', 'NU', 'UD', \n",
    "                                                         'RO', 'BR', 'BZ', 'RE', 'PZ', 'RG', 'PA', 'LO', 'PO', 'SV', \n",
    "                                                         'AR', 'AV', 'BN', 'PN', 'LT', 'TE', 'AL', 'CZ', 'CR', 'TV', \n",
    "                                                         'VR', 'PI', 'AN', 'TA', 'TN', 'RC', 'OT', 'AQ', 'SR', 'RM', \n",
    "                                                         'MO', 'GR', 'EN', 'PT', 'ABR', 'BAS', 'CAL', 'CAM', 'EMR',\n",
    "                                                         'FVG', 'LAZ', 'LIG', 'LOM', 'MAR', 'MOL', 'PIE', 'PUG', 'SAR',\n",
    "                                                         'SIC', 'TOS', 'TAA', 'UMB', 'VDA', 'VEN', 'nord', 'centro', 'sud', \n",
    "                                                         'isola', 'abitanti', 'min_distanza', 'densita', 'prodotto', 'data',\n",
    "                                                         'timestamp', 'giorno_della_settimana', 'giorno_del_mese', \n",
    "                                                         'giorno_dell_anno', 'mese', 'anno', 'festivo', 'vendite'])"
   ]
  },
  {
   "cell_type": "code",
   "execution_count": 30,
   "metadata": {
    "collapsed": true
   },
   "outputs": [],
   "source": [
    "df1.to_csv('dataset/prodotto_sottoarea/prodotto1_sottoarea68.csv', sep=',', index=False)"
   ]
  },
  {
   "cell_type": "code",
   "execution_count": 29,
   "metadata": {
    "collapsed": false
   },
   "outputs": [
    {
     "data": {
      "text/plain": [
       "sample(sottoarea=68, area=55, zona=20, lat=38.16890584269665, lon=15.005016404494388, CE=0, PD=0, FC=0, PR=0, CH=0, SA=0, PG=0, BS=0, FE=0, VI=0, ME=1, AG=0, TO=0, PV=0, LU=0, VA=0, BG=0, MN=0, SI=0, GE=0, BA=0, RN=0, BL=0, CA=0, VE=0, PU=0, VT=0, BO=0, LC=0, MI=0, TR=0, AT=0, FI=0, CN=0, CO=0, RI=0, FM=0, FG=0, MT=0, IS=0, CS=0, FR=0, CT=0, LE=0, VC=0, SS=0, MB=0, VV=0, OR=0, PC=0, TP=0, NU=0, UD=0, RO=0, BR=0, BZ=0, RE=0, PZ=0, RG=0, PA=0, LO=0, PO=0, SV=0, AR=0, AV=0, BN=0, PN=0, LT=0, TE=0, AL=0, CZ=0, CR=0, TV=0, VR=0, PI=0, AN=0, TA=0, TN=0, RC=0, OT=0, AQ=0, SR=0, RM=0, MO=0, GR=0, EN=0, PT=0, ABR=0, BAS=0, CAL=0, CAM=0, EMR=0, FVG=0, LAZ=0, LIG=0, LOM=0, MAR=0, MOL=0, PIE=0, PUG=0, SAR=0, SIC=1, TOS=0, TAA=0, UMB=0, VDA=0, VEN=0, nord=0, centro=0, sud=0, isola=1, abitanti=13431, min_distanza=33235, densita=1, prodotto=2, data='\"2014-01-01\"', timestamp=1388530800, giorno_della_settimana=2, giorno_del_mese=2, giorno_dell_anno=1, mese=1, anno=2014, festivo=1, vendite=0)"
      ]
     },
     "execution_count": 29,
     "metadata": {},
     "output_type": "execute_result"
    }
   ],
   "source": [
    "prod2 = res.filter(lambda x: x.prodotto == 2 and x.sottoarea == 68)\n",
    "prod2.first()"
   ]
  },
  {
   "cell_type": "code",
   "execution_count": 30,
   "metadata": {
    "collapsed": true
   },
   "outputs": [],
   "source": [
    "collected_rdd2 = prod2.collect()"
   ]
  },
  {
   "cell_type": "code",
   "execution_count": 31,
   "metadata": {
    "collapsed": true
   },
   "outputs": [],
   "source": [
    "df2 = pd.DataFrame.from_records(collected_rdd2, columns = ['sottoarea', 'area', 'zona', 'lat', 'lon', 'CE', 'PD', 'FC', \n",
    "                                                         'PR', 'CH', 'SA', 'PG', 'BS', 'FE', 'VI', 'ME', 'AG', 'TO', \n",
    "                                                         'PV', 'LU', 'VA', 'BG', 'MN', 'SI', 'GE', 'BA', 'RN', 'BL', \n",
    "                                                         'CA', 'VE', 'PU', 'VT', 'BO', 'LC', 'MI', 'TR', 'AT', 'FI', \n",
    "                                                         'CN', 'CO', 'RI', 'FM', 'FG', 'MT', 'IS', 'CS', 'FR', 'CT', \n",
    "                                                         'LE', 'VC', 'SS', 'MB', 'VV', 'OR', 'PC', 'TP', 'NU', 'UD', \n",
    "                                                         'RO', 'BR', 'BZ', 'RE', 'PZ', 'RG', 'PA', 'LO', 'PO', 'SV', \n",
    "                                                         'AR', 'AV', 'BN', 'PN', 'LT', 'TE', 'AL', 'CZ', 'CR', 'TV', \n",
    "                                                         'VR', 'PI', 'AN', 'TA', 'TN', 'RC', 'OT', 'AQ', 'SR', 'RM', \n",
    "                                                         'MO', 'GR', 'EN', 'PT', 'ABR', 'BAS', 'CAL', 'CAM', 'EMR',\n",
    "                                                         'FVG', 'LAZ', 'LIG', 'LOM', 'MAR', 'MOL', 'PIE', 'PUG', 'SAR',\n",
    "                                                         'SIC', 'TOS', 'TAA', 'UMB', 'VDA', 'VEN', 'nord', 'centro', 'sud', \n",
    "                                                         'isola', 'abitanti', 'min_distanza', 'densita', 'prodotto', 'data',\n",
    "                                                         'timestamp', 'giorno_della_settimana', 'giorno_del_mese', \n",
    "                                                         'giorno_dell_anno', 'mese', 'anno', 'festivo', 'vendite'])"
   ]
  },
  {
   "cell_type": "code",
   "execution_count": 32,
   "metadata": {
    "collapsed": true
   },
   "outputs": [],
   "source": [
    "df2.to_csv('dataset/prodotto_sottoarea/prodotto2_sottoarea68.csv', sep=',', index=False)"
   ]
  },
  {
   "cell_type": "code",
   "execution_count": 33,
   "metadata": {
    "collapsed": true
   },
   "outputs": [],
   "source": []
  }
 ],
 "metadata": {
  "kernelspec": {
   "display_name": "Python 3",
   "language": "python",
   "name": "python3"
  },
  "language_info": {
   "codemirror_mode": {
    "name": "ipython",
    "version": 3
   },
   "file_extension": ".py",
   "mimetype": "text/x-python",
   "name": "python",
   "nbconvert_exporter": "python",
   "pygments_lexer": "ipython3",
   "version": "3.5.1"
  },
  "widgets": {
   "state": {},
   "version": "1.1.2"
  }
 },
 "nbformat": 4,
 "nbformat_minor": 0
}
