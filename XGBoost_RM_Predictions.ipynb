{
 "cells": [
  {
   "cell_type": "code",
   "execution_count": 35,
   "metadata": {
    "collapsed": true
   },
   "outputs": [],
   "source": [
    "import xgboost as xgb\n",
    "import pandas as pd\n",
    "import numpy as np\n",
    "import datetime"
   ]
  },
  {
   "cell_type": "code",
   "execution_count": 28,
   "metadata": {
    "collapsed": true
   },
   "outputs": [],
   "source": [
    "def mape(predictions, dtrain):\n",
    "    ground_truth = dtrain.get_label()\n",
    "    one_over_n = 1/len(predictions)\n",
    "    at_mean = sum(ground_truth)/len(ground_truth)\n",
    "    sommatoria = sum(np.abs(ground_truth - predictions)) / at_mean\n",
    "    return 'mape', one_over_n * sommatoria"
   ]
  },
  {
   "cell_type": "code",
   "execution_count": 30,
   "metadata": {
    "collapsed": false
   },
   "outputs": [],
   "source": [
    "train_set = pd.read_csv('dataset/output/dataset_polimi_extended_with_province.csv',delimiter=',')\n",
    "train_set = train_set.round({'gini_index': 4, 'forza_lavoro': 4, 'occupazione' : 4})"
   ]
  },
  {
   "cell_type": "code",
   "execution_count": 31,
   "metadata": {
    "collapsed": false
   },
   "outputs": [],
   "source": [
    "y_train = train_set.pop('vendite')"
   ]
  },
  {
   "cell_type": "code",
   "execution_count": 32,
   "metadata": {
    "collapsed": false
   },
   "outputs": [],
   "source": [
    "xgdmat = xgb.DMatrix(train_set,y_train, missing=np.nan)"
   ]
  },
  {
   "cell_type": "code",
   "execution_count": 33,
   "metadata": {
    "collapsed": false
   },
   "outputs": [
    {
     "name": "stdout",
     "output_type": "stream",
     "text": [
      "[0]\ttrain-mape:0.821966\n",
      "[1]\ttrain-mape:0.754842\n",
      "[2]\ttrain-mape:0.695696\n",
      "[3]\ttrain-mape:0.647657\n",
      "[4]\ttrain-mape:0.606508\n",
      "[5]\ttrain-mape:0.573701\n",
      "[6]\ttrain-mape:0.538243\n",
      "[7]\ttrain-mape:0.510482\n",
      "[8]\ttrain-mape:0.487335\n",
      "[9]\ttrain-mape:0.472448\n",
      "[10]\ttrain-mape:0.455213\n",
      "[11]\ttrain-mape:0.437689\n",
      "[12]\ttrain-mape:0.425392\n",
      "[13]\ttrain-mape:0.412644\n",
      "[14]\ttrain-mape:0.401547\n",
      "[15]\ttrain-mape:0.392188\n",
      "[16]\ttrain-mape:0.38449\n",
      "[17]\ttrain-mape:0.376555\n",
      "[18]\ttrain-mape:0.367495\n",
      "[19]\ttrain-mape:0.362934\n",
      "[20]\ttrain-mape:0.356514\n",
      "[21]\ttrain-mape:0.351251\n",
      "[22]\ttrain-mape:0.346511\n",
      "[23]\ttrain-mape:0.343692\n",
      "[24]\ttrain-mape:0.339944\n",
      "[25]\ttrain-mape:0.335234\n",
      "[26]\ttrain-mape:0.331555\n",
      "[27]\ttrain-mape:0.327185\n",
      "[28]\ttrain-mape:0.324085\n",
      "[29]\ttrain-mape:0.32135\n",
      "[30]\ttrain-mape:0.319345\n",
      "[31]\ttrain-mape:0.317159\n",
      "[32]\ttrain-mape:0.314453\n",
      "[33]\ttrain-mape:0.310311\n",
      "[34]\ttrain-mape:0.308131\n",
      "[35]\ttrain-mape:0.306489\n",
      "[36]\ttrain-mape:0.305547\n",
      "[37]\ttrain-mape:0.302469\n",
      "[38]\ttrain-mape:0.300739\n",
      "[39]\ttrain-mape:0.298483\n",
      "[40]\ttrain-mape:0.297001\n",
      "[41]\ttrain-mape:0.294739\n",
      "[42]\ttrain-mape:0.293334\n",
      "[43]\ttrain-mape:0.290798\n",
      "[44]\ttrain-mape:0.289406\n",
      "[45]\ttrain-mape:0.287978\n",
      "[46]\ttrain-mape:0.286816\n",
      "[47]\ttrain-mape:0.285187\n",
      "[48]\ttrain-mape:0.283943\n",
      "[49]\ttrain-mape:0.283506\n",
      "[50]\ttrain-mape:0.282428\n",
      "[51]\ttrain-mape:0.280884\n",
      "[52]\ttrain-mape:0.280097\n",
      "[53]\ttrain-mape:0.27923\n",
      "[54]\ttrain-mape:0.27878\n",
      "[55]\ttrain-mape:0.278417\n",
      "[56]\ttrain-mape:0.276949\n",
      "[57]\ttrain-mape:0.276045\n",
      "[58]\ttrain-mape:0.275213\n",
      "[59]\ttrain-mape:0.274558\n",
      "[60]\ttrain-mape:0.273458\n",
      "[61]\ttrain-mape:0.272363\n",
      "[62]\ttrain-mape:0.272061\n",
      "[63]\ttrain-mape:0.271639\n",
      "[64]\ttrain-mape:0.270786\n",
      "[65]\ttrain-mape:0.270588\n",
      "[66]\ttrain-mape:0.270051\n",
      "[67]\ttrain-mape:0.269724\n",
      "[68]\ttrain-mape:0.26905\n",
      "[69]\ttrain-mape:0.268693\n",
      "[70]\ttrain-mape:0.267904\n",
      "[71]\ttrain-mape:0.26743\n",
      "[72]\ttrain-mape:0.26681\n",
      "[73]\ttrain-mape:0.266506\n",
      "[74]\ttrain-mape:0.265941\n",
      "[75]\ttrain-mape:0.265285\n",
      "[76]\ttrain-mape:0.264981\n",
      "[77]\ttrain-mape:0.264773\n",
      "[78]\ttrain-mape:0.264527\n",
      "[79]\ttrain-mape:0.264057\n",
      "[80]\ttrain-mape:0.263791\n",
      "[81]\ttrain-mape:0.263488\n",
      "[82]\ttrain-mape:0.262624\n",
      "[83]\ttrain-mape:0.262452\n",
      "[84]\ttrain-mape:0.262194\n",
      "[85]\ttrain-mape:0.261445\n",
      "[86]\ttrain-mape:0.261204\n",
      "[87]\ttrain-mape:0.260831\n",
      "[88]\ttrain-mape:0.260547\n",
      "[89]\ttrain-mape:0.260055\n",
      "[90]\ttrain-mape:0.259889\n",
      "[91]\ttrain-mape:0.259329\n",
      "[92]\ttrain-mape:0.258583\n",
      "[93]\ttrain-mape:0.257965\n",
      "[94]\ttrain-mape:0.257579\n",
      "[95]\ttrain-mape:0.256968\n",
      "[96]\ttrain-mape:0.256731\n",
      "[97]\ttrain-mape:0.256292\n",
      "[98]\ttrain-mape:0.255939\n",
      "[99]\ttrain-mape:0.255705\n",
      "[100]\ttrain-mape:0.255239\n",
      "[101]\ttrain-mape:0.254822\n",
      "[102]\ttrain-mape:0.254293\n",
      "[103]\ttrain-mape:0.25412\n",
      "[104]\ttrain-mape:0.253902\n",
      "[105]\ttrain-mape:0.253533\n",
      "[106]\ttrain-mape:0.253247\n",
      "[107]\ttrain-mape:0.252994\n",
      "[108]\ttrain-mape:0.252484\n",
      "[109]\ttrain-mape:0.252102\n",
      "[110]\ttrain-mape:0.251959\n",
      "[111]\ttrain-mape:0.251833\n",
      "[112]\ttrain-mape:0.25165\n",
      "[113]\ttrain-mape:0.251413\n",
      "[114]\ttrain-mape:0.251273\n",
      "[115]\ttrain-mape:0.251088\n",
      "[116]\ttrain-mape:0.250935\n",
      "[117]\ttrain-mape:0.250528\n",
      "[118]\ttrain-mape:0.249874\n",
      "[119]\ttrain-mape:0.249567\n",
      "[120]\ttrain-mape:0.249236\n",
      "[121]\ttrain-mape:0.249001\n",
      "[122]\ttrain-mape:0.248909\n",
      "[123]\ttrain-mape:0.248817\n",
      "[124]\ttrain-mape:0.24849\n",
      "[125]\ttrain-mape:0.248271\n",
      "[126]\ttrain-mape:0.24805\n",
      "[127]\ttrain-mape:0.247855\n",
      "[128]\ttrain-mape:0.247711\n",
      "[129]\ttrain-mape:0.247358\n",
      "[130]\ttrain-mape:0.247098\n",
      "[131]\ttrain-mape:0.246833\n",
      "[132]\ttrain-mape:0.246483\n",
      "[133]\ttrain-mape:0.246354\n",
      "[134]\ttrain-mape:0.245862\n",
      "[135]\ttrain-mape:0.245405\n",
      "[136]\ttrain-mape:0.245232\n",
      "[137]\ttrain-mape:0.244958\n",
      "[138]\ttrain-mape:0.244591\n",
      "[139]\ttrain-mape:0.244379\n",
      "[140]\ttrain-mape:0.244049\n",
      "[141]\ttrain-mape:0.243705\n",
      "[142]\ttrain-mape:0.24338\n",
      "[143]\ttrain-mape:0.243236\n",
      "[144]\ttrain-mape:0.242942\n",
      "[145]\ttrain-mape:0.242752\n",
      "[146]\ttrain-mape:0.242532\n",
      "[147]\ttrain-mape:0.242482\n",
      "[148]\ttrain-mape:0.242341\n",
      "[149]\ttrain-mape:0.24206\n",
      "[150]\ttrain-mape:0.241758\n",
      "[151]\ttrain-mape:0.241456\n",
      "[152]\ttrain-mape:0.241151\n",
      "[153]\ttrain-mape:0.240963\n",
      "[154]\ttrain-mape:0.240769\n"
     ]
    }
   ],
   "source": [
    "our_params = {'eta': 0.1, 'seed':0, 'subsample': 0.8, 'colsample_bytree': 0.8, \n",
    "             'objective': 'reg:linear', 'max_depth':10, 'min_child_weight':10} \n",
    "\n",
    "# Questo dictionary verra popolato con tutti i risultati della MAPE del train e \n",
    "# test set computati ad ogni iterazione\n",
    "dic = {}\n",
    "\n",
    "# Ad ogni iteraziore, voglio 'guardare' questo dataset e valutarli con la funzione\n",
    "# passata in feval\n",
    "watchlist = [(xgdmat,'train')]\n",
    "\n",
    "final_gb = xgb.train(our_params, xgdmat, 155, evals = watchlist, feval = mape, evals_result = dic)"
   ]
  },
  {
   "cell_type": "code",
   "execution_count": 34,
   "metadata": {
    "collapsed": false
   },
   "outputs": [
    {
     "data": {
      "text/plain": [
       "0.240769"
      ]
     },
     "execution_count": 34,
     "metadata": {},
     "output_type": "execute_result"
    }
   ],
   "source": [
    "min(dic['train']['mape'])"
   ]
  },
  {
   "cell_type": "code",
   "execution_count": 38,
   "metadata": {
    "collapsed": false
   },
   "outputs": [],
   "source": [
    "test_set = pd.read_csv('dataset/output/test_with_features_with_provincie.csv',delimiter=',')\n",
    "dtest = xgb.DMatrix(test_set, missing=np.nan)\n",
    "y_pred = final_gb.predict(dtest) \n",
    "\n",
    "# Round\n",
    "round_pred = list(map(lambda x: int(round(x)), y_pred))\n",
    "\n",
    "# Remove negatives\n",
    "positive_pred = list(map(lambda x: x if x > 0 else 0, round_pred))\n",
    "\n",
    "# Generate nicer prediction csv\n",
    "test_set['vendite'] = positive_pred\n",
    "df = pd.DataFrame()\n",
    "df[['zona','area','sottoarea','categoria','data','vendite']] = test_set[['zona','area','sottoarea','categoria','timestamp','vendite']]\n",
    "df['data'] = list(map(lambda x: datetime.datetime.fromtimestamp(x).strftime('%Y-%m-%d'),df['data']))\n",
    "df.to_csv(\"dataset/predictions/xgboost_rm.csv\", sep=',')"
   ]
  },
  {
   "cell_type": "code",
   "execution_count": null,
   "metadata": {
    "collapsed": true
   },
   "outputs": [],
   "source": []
  }
 ],
 "metadata": {
  "kernelspec": {
   "display_name": "Python 3",
   "language": "python",
   "name": "python3"
  },
  "language_info": {
   "codemirror_mode": {
    "name": "ipython",
    "version": 3
   },
   "file_extension": ".py",
   "mimetype": "text/x-python",
   "name": "python",
   "nbconvert_exporter": "python",
   "pygments_lexer": "ipython3",
   "version": "3.5.1"
  },
  "widgets": {
   "state": {},
   "version": "1.1.2"
  }
 },
 "nbformat": 4,
 "nbformat_minor": 0
}
