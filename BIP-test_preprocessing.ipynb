{
 "cells": [
  {
   "cell_type": "code",
   "execution_count": 1,
   "metadata": {
    "collapsed": false
   },
   "outputs": [],
   "source": [
    "from pyspark import SparkContext\n",
    "import pandas as pd"
   ]
  },
  {
   "cell_type": "code",
   "execution_count": 2,
   "metadata": {
    "collapsed": true
   },
   "outputs": [],
   "source": [
    "sc = SparkContext()"
   ]
  },
  {
   "cell_type": "code",
   "execution_count": 3,
   "metadata": {
    "collapsed": false
   },
   "outputs": [],
   "source": [
    "import re\n",
    "import csv\n",
    "from datetime import datetime\n",
    "from collections import namedtuple\n",
    "\n",
    "%matplotlib inline\n",
    "import matplotlib.pyplot as plt\n",
    "\n",
    "\n",
    "# pip install workalendar\n",
    "# https://github.com/novafloss/workalendar\n",
    "from workalendar.europe import Italy"
   ]
  },
  {
   "cell_type": "code",
   "execution_count": 4,
   "metadata": {
    "collapsed": false
   },
   "outputs": [],
   "source": [
    "cal = Italy()\n",
    "\n",
    "def def_is_holiday(dt_obj):\n",
    "    if(cal.is_working_day(dt_obj)):\n",
    "        return 0\n",
    "    else:\n",
    "        return 1"
   ]
  },
  {
   "cell_type": "code",
   "execution_count": 5,
   "metadata": {
    "collapsed": true
   },
   "outputs": [],
   "source": [
    "row = namedtuple(\"prodotto\", ['zona','area','sottoarea','categoria','timestamp','giorno_della_settimana', 'giorno_del_mese',\n",
    "                              'giorno_dell_anno', 'mese', 'anno','festivo','vendite'])"
   ]
  },
  {
   "cell_type": "code",
   "execution_count": 6,
   "metadata": {
    "collapsed": true
   },
   "outputs": [],
   "source": [
    "def do_parse(x):\n",
    "    # Oggetto Datetime\n",
    "    dt_obj = datetime.strptime(str(x[4]), '\"%Y-%m-%d\"')\n",
    "    \n",
    "    return row(\n",
    "        zona = int(re.sub(\"[^0-9]\", \"\", str(x[0]))),\n",
    "        area = int(re.sub(\"[^0-9]\", \"\", x[1])),\n",
    "        sottoarea = int(re.sub(\"[^0-9]\", \"\", x[2])),\n",
    "        categoria = int(re.sub(\"[^0-9]\", \"\", x[3])),\n",
    "        timestamp = int(dt_obj.strftime(\"%s\")),\n",
    "        giorno_della_settimana = int(dt_obj.weekday()),\n",
    "        giorno_del_mese = int(dt_obj.weekday()),\n",
    "        giorno_dell_anno = int(dt_obj.timetuple().tm_yday),\n",
    "        mese = int(dt_obj.strftime(\"%m\")),\n",
    "        anno = int(dt_obj.strftime(\"%Y\")),\n",
    "        festivo = def_is_holiday(dt_obj),\n",
    "        vendite = int(x[5])\n",
    "        )\n",
    "\n",
    "def parse(sc,filepath):\n",
    "    rawRdd = sc.textFile(filepath)\n",
    "    \n",
    "    header = rawRdd.first()\n",
    "\n",
    "    # Togliamo l'header\n",
    "    rawRdd = rawRdd.filter(lambda x: x != header)\n",
    "\n",
    "    # Togliamo le righe vuote\n",
    "    rawRdd = rawRdd.filter(lambda x: x != \"\")\n",
    "    \n",
    "    return rawRdd.map(lambda x: x.split(\",\")).map(lambda x: do_parse(x))"
   ]
  },
  {
   "cell_type": "code",
   "execution_count": 7,
   "metadata": {
    "collapsed": true
   },
   "outputs": [],
   "source": [
    "rdd = parse(sc,\"dataset/dataset_polimi.csv\")"
   ]
  },
  {
   "cell_type": "code",
   "execution_count": 8,
   "metadata": {
    "collapsed": false
   },
   "outputs": [],
   "source": [
    "info_sottoaree = rdd.map(lambda x: (x.sottoarea,(x.zona,x.area))).distinct().collect()"
   ]
  },
  {
   "cell_type": "code",
   "execution_count": 9,
   "metadata": {
    "collapsed": false
   },
   "outputs": [],
   "source": [
    "dict_sottoaree = dict()\n",
    "for x in info_sottoaree:\n",
    "    dict_sottoaree[x[0]] = x[1]"
   ]
  },
  {
   "cell_type": "code",
   "execution_count": 10,
   "metadata": {
    "collapsed": false
   },
   "outputs": [],
   "source": [
    "row_test = namedtuple(\"prodotto\", ['zona','area','sottoarea','categoria','timestamp','giorno_della_settimana', 'giorno_del_mese',\n",
    "                              'giorno_dell_anno', 'mese', 'anno','festivo'])\n",
    "def do_test_parse(x):\n",
    "    # Oggetto Datetime\n",
    "    dt_obj = datetime.strptime(str(x[2]), '%d-%m-%Y')\n",
    "    sotto_area = int(re.sub(\"[^0-9]\", \"\", x[0]))\n",
    "    return row_test(\n",
    "        zona = dict_sottoaree[sotto_area][0],\n",
    "        area = dict_sottoaree[sotto_area][1],\n",
    "        sottoarea = sotto_area,\n",
    "        categoria = int(re.sub(\"[^0-9]\", \"\", x[1])),\n",
    "        timestamp = int(dt_obj.strftime(\"%s\")),\n",
    "        giorno_della_settimana = int(dt_obj.weekday()),\n",
    "        giorno_del_mese = int(dt_obj.weekday()),\n",
    "        giorno_dell_anno = int(dt_obj.timetuple().tm_yday),\n",
    "        mese = int(dt_obj.strftime(\"%m\")),\n",
    "        anno = int(dt_obj.strftime(\"%Y\")),\n",
    "        festivo = def_is_holiday(dt_obj),\n",
    "        )\n",
    "def test_parse(sc,filepath):\n",
    "    rawRdd = sc.textFile(filepath)\n",
    "    \n",
    "    header = rawRdd.first()\n",
    "\n",
    "    # Togliamo l'header\n",
    "    rawRdd = rawRdd.filter(lambda x: x != header)\n",
    "\n",
    "    # Togliamo le righe vuote\n",
    "    rawRdd = rawRdd.filter(lambda x: x != \"\")\n",
    "    \n",
    "    return rawRdd.map(lambda x: x.split(\"\\t\")).map(lambda x: do_test_parse(x))"
   ]
  },
  {
   "cell_type": "code",
   "execution_count": 12,
   "metadata": {
    "collapsed": false
   },
   "outputs": [
    {
     "data": {
      "text/plain": [
       "[prodotto(zona=10, area=26, sottoarea=67, categoria=1, timestamp=1463702400, giorno_della_settimana=4, giorno_del_mese=4, giorno_dell_anno=141, mese=5, anno=2016, festivo=0)]"
      ]
     },
     "execution_count": 12,
     "metadata": {},
     "output_type": "execute_result"
    }
   ],
   "source": [
    "test_rdd = test_parse(sc,\"dataset/output/test_file.csv\")\n",
    "test_rdd.take(1)"
   ]
  },
  {
   "cell_type": "markdown",
   "metadata": {},
   "source": [
    "[prodotto(zona=1, area=1, sottoarea=5, categoria=1, timestamp=1388530800, giorno_della_settimana=2, giorno_del_mese=2, giorno_dell_anno=1, mese=1, anno=2014, festivo=1, vendite=0)]"
   ]
  },
  {
   "cell_type": "markdown",
   "metadata": {},
   "source": [
    "# Pandas\n",
    "if you cannot stay without it"
   ]
  },
  {
   "cell_type": "code",
   "execution_count": 17,
   "metadata": {
    "collapsed": true
   },
   "outputs": [],
   "source": [
    "locations = pd.read_csv('dataset/output/gps_processed.csv',index_col=0)"
   ]
  },
  {
   "cell_type": "code",
   "execution_count": 18,
   "metadata": {
    "collapsed": true
   },
   "outputs": [],
   "source": [
    "test_rdd_list = test_rdd.collect()"
   ]
  },
  {
   "cell_type": "code",
   "execution_count": 19,
   "metadata": {
    "collapsed": false
   },
   "outputs": [],
   "source": [
    "df = pd.DataFrame.from_records(test_rdd_list,columns = ['zona','area','sottoarea','categoria','timestamp','giorno_della_settimana', 'giorno_del_mese',\n",
    "                              'giorno_dell_anno', 'mese', 'anno','festivo'])"
   ]
  },
  {
   "cell_type": "code",
   "execution_count": 20,
   "metadata": {
    "collapsed": false
   },
   "outputs": [],
   "source": [
    "# Mergiamo le nuove feature e binarizziamo le regioni e zona\n",
    "\n",
    "df = df.merge(locations[\n",
    "        ['sottoarea','regione','zona_italia','isola','abitanti','min_distanza','densita','indice_istruzione','reddito_medio','concentraz_ricchezza']\n",
    "    ], on='sottoarea')\n",
    "\n",
    "df = pd.get_dummies(df, columns={'regione'} )\n",
    "df = pd.get_dummies(df, columns={'zona_italia'} )"
   ]
  },
  {
   "cell_type": "code",
   "execution_count": 22,
   "metadata": {
    "collapsed": false
   },
   "outputs": [],
   "source": [
    "df.to_csv('dataset/output/test_with_features.csv',sep = ',',index = False)"
   ]
  }
 ],
 "metadata": {
  "kernelspec": {
   "display_name": "Python 3",
   "language": "python",
   "name": "python3"
  },
  "language_info": {
   "codemirror_mode": {
    "name": "ipython",
    "version": 3
   },
   "file_extension": ".py",
   "mimetype": "text/x-python",
   "name": "python",
   "nbconvert_exporter": "python",
   "pygments_lexer": "ipython3",
   "version": "3.5.1"
  },
  "widgets": {
   "state": {},
   "version": "1.1.2"
  }
 },
 "nbformat": 4,
 "nbformat_minor": 0
}
